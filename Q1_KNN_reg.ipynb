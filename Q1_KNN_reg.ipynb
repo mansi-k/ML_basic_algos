{
 "cells": [
  {
   "cell_type": "code",
   "execution_count": 233,
   "metadata": {},
   "outputs": [],
   "source": [
    "import pandas as pd\n",
    "import numpy as np\n",
    "from sklearn.model_selection import train_test_split\n",
    "from sklearn.preprocessing import StandardScaler\n",
    "from sklearn.metrics import r2_score, mean_absolute_error, mean_squared_error"
   ]
  },
  {
   "cell_type": "code",
   "execution_count": 234,
   "metadata": {},
   "outputs": [
    {
     "name": "stdout",
     "output_type": "stream",
     "text": [
      "        carat    cut  color clarity  depth  table  price      x      y      z\n",
      "count   53940  53940  53940   53940  53940  53940  53940  53940  53940  53940\n",
      "unique    273      5      7       8    184    127  11602    554    552    375\n",
      "top       0.3  Ideal      G     SI1     62     56    605   4.37   4.34    2.7\n",
      "freq     2604  21551  11292   13065   2239   9881    132    448    437    767\n",
      "  carat      cut color clarity depth table price     x     y     z\n",
      "1  0.23    Ideal     E     SI2  61.5    55   326  3.95  3.98  2.43\n",
      "2  0.21  Premium     E     SI1  59.8    61   326  3.89  3.84  2.31\n",
      "3  0.23     Good     E     VS1  56.9    65   327  4.05  4.07  2.31\n",
      "4  0.29  Premium     I     VS2  62.4    58   334   4.2  4.23  2.63\n",
      "5  0.31     Good     J     SI2  63.3    58   335  4.34  4.35  2.75\n"
     ]
    }
   ],
   "source": [
    "'''To read data from diamonds.csv'''\n",
    "headers = [\"carat\",\t\"cut\",\"color\",\"clarity\",\"depth\",\"table\",\"price\",\"x\",\"y\",\"z\"]\n",
    "data = pd.read_csv('Regression_Diamonds_data/diamonds.csv', na_values=np.NaN,    \n",
    "         header=None,  names = headers) \n",
    "data = data.reset_index(drop=True)\n",
    "data = data.iloc[1:]\n",
    "# data = data[:1000]\n",
    "print(data.describe())\n",
    "print(data.head()) "
   ]
  },
  {
   "cell_type": "code",
   "execution_count": 235,
   "metadata": {},
   "outputs": [
    {
     "name": "stdout",
     "output_type": "stream",
     "text": [
      "carat NaN : 0\n",
      "cut NaN : 0\n",
      "color NaN : 0\n",
      "clarity NaN : 0\n",
      "depth NaN : 0\n",
      "table NaN : 0\n",
      "price NaN : 0\n",
      "x NaN : 0\n",
      "y NaN : 0\n",
      "z NaN : 0\n"
     ]
    }
   ],
   "source": [
    "'''Check for NaNs'''\n",
    "for h in headers:\n",
    "    print(h,\"NaN :\",data[h].isnull().sum())\n",
    "    \n"
   ]
  },
  {
   "cell_type": "code",
   "execution_count": 236,
   "metadata": {},
   "outputs": [
    {
     "name": "stdout",
     "output_type": "stream",
     "text": [
      "  carat  cut  color  clarity depth table price     x     y     z\n",
      "1  0.23    4      5        1  61.5    55   326  3.95  3.98  2.43\n",
      "2  0.21    3      5        2  59.8    61   326  3.89  3.84  2.31\n",
      "3  0.23    1      5        4  56.9    65   327  4.05  4.07  2.31\n",
      "4  0.29    3      1        3  62.4    58   334   4.2  4.23  2.63\n",
      "5  0.31    1      0        1  63.3    58   335  4.34  4.35  2.75\n"
     ]
    }
   ],
   "source": [
    "'''Convert categorical attributes to numeric'''\n",
    "cat_to_num = {\"cut\":{\"Fair\":0, \"Good\":1, \"Very Good\":2, \"Premium\":3, \"Ideal\":4}, \n",
    "              \"clarity\":{\"I1\":0, \"SI2\":1, \"SI1\":2, \"VS2\":3, \"VS1\":4, \"VVS2\":5, \"VVS1\":6, \"IF\":7},\n",
    "              \"color\":{\"J\":0, \"I\":1, \"H\":2, \"G\":3, \"F\":4, \"E\":5, \"D\":6}}\n",
    "data = data.replace(cat_to_num)\n",
    "print(data.head())\n",
    "# data = pd.get_dummies(data,columns=['color'])"
   ]
  },
  {
   "cell_type": "code",
   "execution_count": 237,
   "metadata": {},
   "outputs": [],
   "source": [
    "for h in headers:\n",
    "    data[h] = pd.to_numeric(data[h],downcast='float')\n",
    "\n",
    "# data"
   ]
  },
  {
   "cell_type": "code",
   "execution_count": 238,
   "metadata": {},
   "outputs": [
    {
     "name": "stdout",
     "output_type": "stream",
     "text": [
      "   carat  cut  color  clarity      depth  table     x     y     z\n",
      "1   0.23  4.0    5.0      1.0  61.500000   55.0  3.95  3.98  2.43\n",
      "2   0.21  3.0    5.0      2.0  59.799999   61.0  3.89  3.84  2.31\n",
      "3   0.23  1.0    5.0      4.0  56.900002   65.0  4.05  4.07  2.31\n",
      "4   0.29  3.0    1.0      3.0  62.400002   58.0  4.20  4.23  2.63\n",
      "5   0.31  1.0    0.0      1.0  63.299999   58.0  4.34  4.35  2.75\n",
      "1    326.0\n",
      "2    326.0\n",
      "3    327.0\n",
      "4    334.0\n",
      "5    335.0\n",
      "Name: price, dtype: float32\n"
     ]
    }
   ],
   "source": [
    "'''Separating X & y'''\n",
    "X = data.drop('price', axis=1)\n",
    "y = data.price\n",
    "print(X.head())\n",
    "print(y.head())"
   ]
  },
  {
   "cell_type": "code",
   "execution_count": 239,
   "metadata": {},
   "outputs": [],
   "source": [
    "X_train, X_test, y_train, y_test = train_test_split(X, y, test_size=0.20,random_state=1)\n",
    "\n",
    "### add standardize experiment"
   ]
  },
  {
   "cell_type": "code",
   "execution_count": 240,
   "metadata": {},
   "outputs": [],
   "source": [
    "'''Minkowski distance function'''\n",
    "def minkowski_dist(test_pt, train_X, p=1):\n",
    "    test_pt = np.array(test_pt)\n",
    "    train_X = np.array(train_X)\n",
    "    temp = abs(test_pt - train_X) \n",
    "    if p==2:\n",
    "        temp = temp*temp\n",
    "        temp = np.sum(np.sqrt(temp),axis=1)\n",
    "        return temp\n",
    "    if p==1:\n",
    "        return np.sum(temp,axis=1)\n",
    "    if p==0:\n",
    "        temp = temp!=0\n",
    "        temp = temp*1\n",
    "        return np.sum(temp,axis=1)\n",
    "# def minkowski_dist(x1, x2, p=1):\n",
    "#     dim = len(x1)\n",
    "#     dist = 0\n",
    "#     for d in range(dim):\n",
    "# #         print(x1[d],type(x1[d]))\n",
    "#         dist += abs(x1[d] - x2[d])**p\n",
    "#     dist = dist**(1/p)\n",
    "#     return dist\n",
    "# print(X_test.iloc[0])\n",
    "# d = minkowski_dist(X_test.iloc[0],X,0)\n",
    "# print(\"d\",d.shape,d.dtype)\n",
    "# print(d)"
   ]
  },
  {
   "cell_type": "code",
   "execution_count": 241,
   "metadata": {},
   "outputs": [
    {
     "name": "stderr",
     "output_type": "stream",
     "text": [
      "/home/mansi/anaconda3/lib/python3.6/site-packages/ipykernel_launcher.py:8: RuntimeWarning: invalid value encountered in sqrt\n",
      "  \n"
     ]
    },
    {
     "name": "stdout",
     "output_type": "stream",
     "text": [
      "10788\n"
     ]
    }
   ],
   "source": [
    "all_dists = []  #only 25 smallest distances\n",
    "# def cal_all_dists(train_X,test_X):\n",
    "#     c=1;\n",
    "#     for i in test_X.index:\n",
    "#         cur_dists = []\n",
    "# #         print(X_test.loc[i])\n",
    "#         for j in train_X.index:\n",
    "#             cur_dists.append(minkowski_dist(test_X.loc[i],train_X.loc[j]))\n",
    "#         df_cur_dists = pd.DataFrame(data=cur_dists, columns=['dist'], index=y_train.index)\n",
    "#         df_sorted_curdists = df_cur_dists.sort_values(by=['dist'], axis=0)\n",
    "#         all_dists.append(df_sorted_curdists)\n",
    "# #         print(\"done\",c)\n",
    "#         c += 1;\n",
    "\n",
    "def cal_all_dists(train_X,test_X):\n",
    "    max_nn = 25\n",
    "    train_Xnp = np.array(train_X)\n",
    "    test_X = np.array(test_X)\n",
    "    for i in range(test_X.shape[0]):\n",
    "        cur_dists = minkowski_dist(test_X[i],train_Xnp,2)\n",
    "#         print(cur_dists.shape)\n",
    "#         cur_dists = cur_dists[np.argpartition(cur_dists, 25)[:25]]\n",
    "        idx = np.argpartition(cur_dists, max_nn)[:max_nn]\n",
    "        cur_dists = cur_dists[idx]\n",
    "        idx_df = [train_X.iloc[j].name for j in idx]\n",
    "        df_cur_dists = pd.DataFrame(data=cur_dists, columns=['dist'], index=idx_df)\n",
    "        df_cur_dists = df_cur_dists.sort_values(by=['dist'], axis=0)\n",
    "        all_dists.append(df_cur_dists)\n",
    "\n",
    "cal_all_dists(X_train,X_test)\n",
    "print(len(all_dists))\n",
    "# print(all_dists)\n"
   ]
  },
  {
   "cell_type": "code",
   "execution_count": 242,
   "metadata": {},
   "outputs": [],
   "source": [
    "# def cal_simple_mean(val_list,k):\n",
    "    \n",
    "'''criterion = simple_mean, weighted_mean'''\n",
    "def knn_predict(test_X,k,criterion):\n",
    "    criteria = ['simple_mean','weighted_mean']\n",
    "    predictions = []\n",
    "    c=0\n",
    "    for i in test_X.index:\n",
    "        nn_dists = all_dists[c][:k]\n",
    "#         print(i,nn_dists)\n",
    "        if(criterion==criteria[0]):\n",
    "            sum_knn = sum([y_train.loc[j] for j in nn_dists.index])\n",
    "            mean_knn = sum_knn/k\n",
    "#             print(mean_knn)\n",
    "            predictions.append(mean_knn)\n",
    "        c+=1\n",
    "    return predictions\n",
    "\n",
    "\n"
   ]
  },
  {
   "cell_type": "code",
   "execution_count": 243,
   "metadata": {},
   "outputs": [
    {
     "name": "stdout",
     "output_type": "stream",
     "text": [
      "K:2, first 1000 rows, simple_mean, non-std, non-norm, split:80/20, split-random:1\n",
      "R2 Score: 0.9598989453410379\n",
      "MAE Score: 413.5690582128291\n",
      "MSE Score: 623110.6926214312\n",
      "K:3, first 1000 rows, simple_mean, non-std, non-norm, split:80/20, split-random:1\n",
      "R2 Score: 0.962912579205125\n",
      "MAE Score: 398.0481090100111\n",
      "MSE Score: 576283.3086454084\n",
      "K:5, first 1000 rows, simple_mean, non-std, non-norm, split:80/20, split-random:1\n",
      "R2 Score: 0.9655328482097866\n",
      "MAE Score: 383.7190767519466\n",
      "MSE Score: 535568.2289988877\n",
      "K:7, first 1000 rows, simple_mean, non-std, non-norm, split:80/20, split-random:1\n",
      "R2 Score: 0.9669059905076641\n",
      "MAE Score: 378.635719582605\n",
      "MSE Score: 514231.64182992437\n",
      "K:11, first 1000 rows, simple_mean, non-std, non-norm, split:80/20, split-random:1\n",
      "R2 Score: 0.967017486242308\n",
      "MAE Score: 376.65060504938145\n",
      "MSE Score: 512499.16409264045\n",
      "K:16, first 1000 rows, simple_mean, non-std, non-norm, split:80/20, split-random:1\n",
      "R2 Score: 0.9668960573776264\n",
      "MAE Score: 376.8716745457916\n",
      "MSE Score: 514385.9878836728\n"
     ]
    }
   ],
   "source": [
    "y_pred = knn_predict(X_test,2,\"simple_mean\")\n",
    "rsq_score = r2_score(y_test, y_pred)\n",
    "mae_score = mean_absolute_error(y_test, y_pred)\n",
    "mse_score = mean_squared_error(y_test, y_pred)\n",
    "print(\"K:2, first 1000 rows, simple_mean, non-std, non-norm, split:80/20, split-random:1\")\n",
    "print(\"R2 Score:\",rsq_score)\n",
    "print(\"MAE Score:\",mae_score)\n",
    "print(\"MSE Score:\",mse_score)\n",
    "\n",
    "y_pred = knn_predict(X_test,3,\"simple_mean\")\n",
    "rsq_score = r2_score(y_test, y_pred)\n",
    "mae_score = mean_absolute_error(y_test, y_pred)\n",
    "mse_score = mean_squared_error(y_test, y_pred)\n",
    "print(\"K:3, first 1000 rows, simple_mean, non-std, non-norm, split:80/20, split-random:1\")\n",
    "print(\"R2 Score:\",rsq_score)\n",
    "print(\"MAE Score:\",mae_score)\n",
    "print(\"MSE Score:\",mse_score)\n",
    "\n",
    "y_pred = knn_predict(X_test,5,\"simple_mean\")\n",
    "rsq_score = r2_score(y_test, y_pred)\n",
    "mae_score = mean_absolute_error(y_test, y_pred)\n",
    "mse_score = mean_squared_error(y_test, y_pred)\n",
    "print(\"K:5, first 1000 rows, simple_mean, non-std, non-norm, split:80/20, split-random:1\")\n",
    "print(\"R2 Score:\",rsq_score)\n",
    "print(\"MAE Score:\",mae_score)\n",
    "print(\"MSE Score:\",mse_score)\n",
    "\n",
    "y_pred = knn_predict(X_test,7,\"simple_mean\")\n",
    "rsq_score = r2_score(y_test, y_pred)\n",
    "mae_score = mean_absolute_error(y_test, y_pred)\n",
    "mse_score = mean_squared_error(y_test, y_pred)\n",
    "print(\"K:7, first 1000 rows, simple_mean, non-std, non-norm, split:80/20, split-random:1\")\n",
    "print(\"R2 Score:\",rsq_score)\n",
    "print(\"MAE Score:\",mae_score)\n",
    "print(\"MSE Score:\",mse_score)\n",
    "\n",
    "y_pred = knn_predict(X_test,11,\"simple_mean\")\n",
    "rsq_score = r2_score(y_test, y_pred)\n",
    "mae_score = mean_absolute_error(y_test, y_pred)\n",
    "mse_score = mean_squared_error(y_test, y_pred)\n",
    "print(\"K:11, first 1000 rows, simple_mean, non-std, non-norm, split:80/20, split-random:1\")\n",
    "print(\"R2 Score:\",rsq_score)\n",
    "print(\"MAE Score:\",mae_score)\n",
    "print(\"MSE Score:\",mse_score)\n",
    "\n",
    "y_pred = knn_predict(X_test,16,\"simple_mean\")\n",
    "rsq_score = r2_score(y_test, y_pred)\n",
    "mae_score = mean_absolute_error(y_test, y_pred)\n",
    "mse_score = mean_squared_error(y_test, y_pred)\n",
    "print(\"K:16, first 1000 rows, simple_mean, non-std, non-norm, split:80/20, split-random:1\")\n",
    "print(\"R2 Score:\",rsq_score)\n",
    "print(\"MAE Score:\",mae_score)\n",
    "print(\"MSE Score:\",mse_score)"
   ]
  },
  {
   "cell_type": "code",
   "execution_count": null,
   "metadata": {},
   "outputs": [],
   "source": [
    "scaler = StandardScaler()\n",
    "X_train_std = scaler.fit_transform(X_train)\n",
    "X_test_std = scaler.transform(X_test)"
   ]
  },
  {
   "cell_type": "code",
   "execution_count": 211,
   "metadata": {},
   "outputs": [
    {
     "name": "stdout",
     "output_type": "stream",
     "text": [
      "<class 'numpy.int64'>\n",
      "Int64Index([508, 819, 453, 369, 243, 930, 263, 811, 319,  50,\n",
      "            ...\n",
      "            700, 827, 234, 585, 975, 431, 875, 551, 609, 208],\n",
      "           dtype='int64', length=200)\n"
     ]
    }
   ],
   "source": [
    "# print(X_test)\n",
    "print(type(X_test.iloc[1].name))\n",
    "print(X_test.index)\n",
    "# print(all_dists[0].head())\n",
    "# for i in X_test.index:\n",
    "#     print(c,i)\n",
    "# print(y_test.loc[508])\n",
    "# print(y_train)\n",
    "# np.array(y_test)"
   ]
  },
  {
   "cell_type": "code",
   "execution_count": null,
   "metadata": {},
   "outputs": [],
   "source": []
  }
 ],
 "metadata": {
  "kernelspec": {
   "display_name": "Python 3",
   "language": "python",
   "name": "python3"
  },
  "language_info": {
   "codemirror_mode": {
    "name": "ipython",
    "version": 3
   },
   "file_extension": ".py",
   "mimetype": "text/x-python",
   "name": "python",
   "nbconvert_exporter": "python",
   "pygments_lexer": "ipython3",
   "version": "3.6.5"
  }
 },
 "nbformat": 4,
 "nbformat_minor": 2
}

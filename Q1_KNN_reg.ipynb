{
 "cells": [
  {
   "cell_type": "code",
   "execution_count": 50,
   "metadata": {},
   "outputs": [
    {
     "name": "stdout",
     "output_type": "stream",
     "text": [
      "  carat      cut color clarity depth table price     x     y     z\n",
      "1  0.23    Ideal     E     SI2  61.5    55   326  3.95  3.98  2.43\n",
      "2  0.21  Premium     E     SI1  59.8    61   326  3.89  3.84  2.31\n",
      "3  0.23     Good     E     VS1  56.9    65   327  4.05  4.07  2.31\n",
      "4  0.29  Premium     I     VS2  62.4    58   334   4.2  4.23  2.63\n",
      "5  0.31     Good     J     SI2  63.3    58   335  4.34  4.35  2.75\n"
     ]
    }
   ],
   "source": [
    "# To read data from diamonds.csv\n",
    "import pandas as pd\n",
    "headers = [\"carat\",\t\"cut\",\"color\",\"clarity\",\"depth\",\"table\",\"price\",\"x\",\"y\",\"z\"]\n",
    "data = pd.read_csv('Regression_Diamonds_data/diamonds.csv', na_values='?',    \n",
    "         header=None,  names = headers) \n",
    "data = data.reset_index(drop=True)\n",
    "data = data.iloc[1:]\n",
    "# data.describe()\n",
    "print(data.head()) "
   ]
  },
  {
   "cell_type": "code",
   "execution_count": 51,
   "metadata": {},
   "outputs": [
    {
     "name": "stdout",
     "output_type": "stream",
     "text": [
      "  carat  cut  color  clarity depth table price     x     y     z\n",
      "1  0.23    4      5        1  61.5    55   326  3.95  3.98  2.43\n",
      "2  0.21    3      5        2  59.8    61   326  3.89  3.84  2.31\n",
      "3  0.23    1      5        4  56.9    65   327  4.05  4.07  2.31\n",
      "4  0.29    3      1        3  62.4    58   334   4.2  4.23  2.63\n",
      "5  0.31    1      0        1  63.3    58   335  4.34  4.35  2.75\n"
     ]
    }
   ],
   "source": [
    "cat_to_num = {\"cut\":{\"Fair\":0, \"Good\":1, \"Very Good\":2, \"Premium\":3, \"Ideal\":4}, \n",
    "              \"clarity\":{\"I1\":0, \"SI2\":1, \"SI1\":2, \"VS2\":3, \"VS1\":4, \"VVS2\":5, \"VVS1\":6, \"IF\":7},\n",
    "              \"color\":{\"J\":0, \"I\":1, \"H\":2, \"G\":3, \"F\":4, \"E\":5, \"D\":6}}\n",
    "data = data.replace(cat_to_num)\n",
    "print(data.head())"
   ]
  },
  {
   "cell_type": "code",
   "execution_count": 49,
   "metadata": {},
   "outputs": [
    {
     "name": "stdout",
     "output_type": "stream",
     "text": [
      "  carat  cut  clarity depth table price     x     y     z  color_D  color_E  \\\n",
      "1  0.23    4        1  61.5    55   326  3.95  3.98  2.43        0        1   \n",
      "2  0.21    3        2  59.8    61   326  3.89  3.84  2.31        0        1   \n",
      "3  0.23    1        4  56.9    65   327  4.05  4.07  2.31        0        1   \n",
      "4  0.29    3        3  62.4    58   334   4.2  4.23  2.63        0        0   \n",
      "5  0.31    1        1  63.3    58   335  4.34  4.35  2.75        0        0   \n",
      "\n",
      "   color_F  color_G  color_H  color_I  color_J  \n",
      "1        0        0        0        0        0  \n",
      "2        0        0        0        0        0  \n",
      "3        0        0        0        0        0  \n",
      "4        0        0        0        1        0  \n",
      "5        0        0        0        0        1  \n"
     ]
    }
   ],
   "source": [
    "\n",
    "# data['color'] = data['color'].astype('category')\n",
    "# print(data.color)\n",
    "data = pd.get_dummies(data,columns=['color'])\n",
    "# data.color = data1\n",
    "print(data.head())"
   ]
  },
  {
   "cell_type": "code",
   "execution_count": null,
   "metadata": {},
   "outputs": [],
   "source": []
  }
 ],
 "metadata": {
  "kernelspec": {
   "display_name": "Python 3",
   "language": "python",
   "name": "python3"
  },
  "language_info": {
   "codemirror_mode": {
    "name": "ipython",
    "version": 3
   },
   "file_extension": ".py",
   "mimetype": "text/x-python",
   "name": "python",
   "nbconvert_exporter": "python",
   "pygments_lexer": "ipython3",
   "version": "3.6.5"
  }
 },
 "nbformat": 4,
 "nbformat_minor": 2
}

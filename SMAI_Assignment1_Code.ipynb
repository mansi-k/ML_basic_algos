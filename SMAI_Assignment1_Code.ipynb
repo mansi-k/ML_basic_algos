{
  "nbformat": 4,
  "nbformat_minor": 0,
  "metadata": {
    "colab": {
      "name": "SMAI_Assignment1_Ans.ipynb",
      "provenance": [],
      "collapsed_sections": [
        "6poNZp96z1gN"
      ]
    },
    "kernelspec": {
      "display_name": "Python 3",
      "language": "python",
      "name": "python3"
    },
    "language_info": {
      "codemirror_mode": {
        "name": "ipython",
        "version": 3
      },
      "file_extension": ".py",
      "mimetype": "text/x-python",
      "name": "python",
      "nbconvert_exporter": "python",
      "pygments_lexer": "ipython3",
      "version": "3.6.5"
    }
  },
  "cells": [
    {
      "cell_type": "code",
      "metadata": {
        "colab": {
          "base_uri": "https://localhost:8080/"
        },
        "id": "ECx_3gdBqPAf",
        "outputId": "3350018e-01dc-4a31-df5b-a43c8c198b81"
      },
      "source": [
        "from google.colab import drive\n",
        "drive.mount('/content/drive')\n",
        "%cd /content/drive/MyDrive/SMAI/Assignment1\n",
        "!pwd"
      ],
      "execution_count": 1,
      "outputs": [
        {
          "output_type": "stream",
          "text": [
            "Mounted at /content/drive\n",
            "/content/drive/MyDrive/SMAI/Assignment1\n",
            "/content/drive/MyDrive/SMAI/Assignment1\n"
          ],
          "name": "stdout"
        }
      ]
    },
    {
      "cell_type": "markdown",
      "metadata": {
        "id": "V5RPXC993g5f"
      },
      "source": [
        "**INSTRUCTIONS**"
      ]
    },
    {
      "cell_type": "markdown",
      "metadata": {
        "id": "wc6StAvu3oRv"
      },
      "source": [
        "\n",
        "\n",
        "1.  The assignment contains four questions. A few bonus questions are mentioned. \n",
        "2.   This assignment is due on **6th Feb, 23:59 **(**No Further extensions**).\n",
        "3.   Assignment must be implemented in Python 3 only.\n",
        "4.   You are allowed to use libraries for data preprocessing (numpy, pandas etc) and for evaluation metrics, data visualization (matplotlib etc.).\n",
        "5.   You will be evaluated not just on the overall performance of the model and also on the experimentation with hyper parameters, data prepossessing techniques etc.\n",
        "6.   The report file must be a well documented jupyter notebook, explaining the experiments you have performed, evaluation metrics and corresponding code. The code must run and be able to reproduce the accuracies, figures/graphs etc.\n",
        "7.   For all the questions, you must create a train-validation data split and test the hyperparameter tuning on the validation set. Your jupyter notebook must reflect the same.\n",
        "8.   Any attempts at **plagiarism will be penalized heavily**.\n",
        "9.   Make sure you run and save your notebooks before submission.\n",
        "10.  For question 3 of the Decision Trees section, output your model's depth first traversal into ```outputimp.txt``` and submit it along with the ipynb file.\n",
        "10. Naming convention for the ipynb file is ```<roll_number>_assign1.ipynb```\n",
        "11. Compress your submission files into a zip file with the naming convention: ```<roll_number>_assign1.zip``` and submit in the portal."
      ]
    },
    {
      "cell_type": "markdown",
      "metadata": {
        "id": "nncP5eQd0IXL"
      },
      "source": [
        "#**1) REGRESSION**\n",
        "\n",
        "Please find the Diamond Price Prediction Data set https://drive.google.com/drive/folders/1qE1tm3Ke3uotTyv6SUqruI09t-AkcwRK?usp=sharing. \"description.txt\" contains the feature description of data, \"diamonds.csv\" has the data."
      ]
    },
    {
      "cell_type": "code",
      "metadata": {
        "id": "cbGRkxcLiBMf"
      },
      "source": [
        "import pandas as pd\n",
        "import numpy as np\n",
        "from sklearn.model_selection import train_test_split\n",
        "from sklearn.preprocessing import StandardScaler\n",
        "from sklearn.preprocessing import Normalizer\n",
        "from sklearn.neighbors import KNeighborsRegressor\n",
        "import matplotlib.pyplot as plt\n",
        "from sklearn.metrics import r2_score, mean_absolute_error, mean_squared_error"
      ],
      "execution_count": null,
      "outputs": []
    },
    {
      "cell_type": "code",
      "metadata": {
        "id": "EhFbx6v-4SP8",
        "colab": {
          "base_uri": "https://localhost:8080/"
        },
        "outputId": "f1d122d1-d9aa-412c-efe8-0b427870f1f1"
      },
      "source": [
        "# To read data from diamonds.csv\n",
        "'''To read data from diamonds.csv'''\n",
        "headers = [\"carat\",\t\"cut\",\"color\",\"clarity\",\"depth\",\"table\",\"price\",\"x\",\"y\",\"z\"]\n",
        "data = pd.read_csv('Regression_Diamonds_data/diamonds.csv', na_values=np.NaN,    \n",
        "         header=None,  names = headers) \n",
        "data = data.reset_index(drop=True)\n",
        "data = data.iloc[1:]\n",
        "\n",
        "'''Check for NaNs'''\n",
        "for h in headers:\n",
        "    print(h,\"NaN :\",data[h].isnull().sum())\n",
        "    \n",
        "'''Convert categorical attributes to numeric'''\n",
        "cat_to_num = {\"cut\":{\"Fair\":0, \"Good\":1, \"Very Good\":2, \"Premium\":3, \"Ideal\":4}, \n",
        "              \"clarity\":{\"I1\":0, \"SI2\":1, \"SI1\":2, \"VS2\":3, \"VS1\":4, \"VVS2\":5, \"VVS1\":6, \"IF\":7},\n",
        "              \"color\":{\"J\":0, \"I\":1, \"H\":2, \"G\":3, \"F\":4, \"E\":5, \"D\":6}}\n",
        "data = data.replace(cat_to_num)\n",
        "\n",
        "'''Convert data to float'''\n",
        "for h in headers:\n",
        "    data[h] = pd.to_numeric(data[h],downcast='float')\n",
        "print(data.head())"
      ],
      "execution_count": null,
      "outputs": [
        {
          "output_type": "stream",
          "text": [
            "carat NaN : 0\n",
            "cut NaN : 0\n",
            "color NaN : 0\n",
            "clarity NaN : 0\n",
            "depth NaN : 0\n",
            "table NaN : 0\n",
            "price NaN : 0\n",
            "x NaN : 0\n",
            "y NaN : 0\n",
            "z NaN : 0\n",
            "   carat  cut  color  clarity      depth  table  price     x     y     z\n",
            "1   0.23  4.0    5.0      1.0  61.500000   55.0  326.0  3.95  3.98  2.43\n",
            "2   0.21  3.0    5.0      2.0  59.799999   61.0  326.0  3.89  3.84  2.31\n",
            "3   0.23  1.0    5.0      4.0  56.900002   65.0  327.0  4.05  4.07  2.31\n",
            "4   0.29  3.0    1.0      3.0  62.400002   58.0  334.0  4.20  4.23  2.63\n",
            "5   0.31  1.0    0.0      1.0  63.299999   58.0  335.0  4.34  4.35  2.75\n"
          ],
          "name": "stdout"
        }
      ]
    },
    {
      "cell_type": "code",
      "metadata": {
        "colab": {
          "base_uri": "https://localhost:8080/"
        },
        "id": "HhIRhWJliBMh",
        "outputId": "7be27011-840b-4da9-b35e-9fbc30aec30c"
      },
      "source": [
        "'''Separating X & y'''\n",
        "X = np.array(data.drop('price', axis=1))\n",
        "y = np.array(data.price)\n",
        "print(len(X))\n",
        "print(len(y))\n",
        "\n",
        "X_train_org, X_test_org, y_train, y_test = train_test_split(X, y, test_size=0.20,random_state=1)\n",
        "\n",
        "'''Standardize X'''\n",
        "scaler = StandardScaler()\n",
        "X_train_std = scaler.fit_transform(X_train_org)\n",
        "X_test_std = scaler.transform(X_test_org)\n",
        "\n",
        "'''Norm L1'''\n",
        "normer = Normalizer(norm='l1')\n",
        "X_train_nl1 = normer.fit(X_train_org).transform(X_train_org)\n",
        "X_test_nl1 = normer.fit(X_test_org).transform(X_test_org)\n",
        "\n",
        "'''Norm L2'''\n",
        "normer = Normalizer(norm='l2')\n",
        "X_train_nl2 = normer.fit(X_train_org).transform(X_train_org)\n",
        "X_test_nl2 = normer.fit(X_test_org).transform(X_test_org)\n",
        "\n",
        "'''Norm Lmax'''\n",
        "normer = Normalizer(norm='max')\n",
        "X_train_nlmax = normer.fit(X_train_org).transform(X_train_org)\n",
        "X_test_nlmax = normer.fit(X_test_org).transform(X_test_org)\n",
        "\n",
        "\n",
        "print('\\n',X_train_org[:3])\n",
        "print('\\n',X_train_std[:3])\n",
        "print('\\n',X_train_nl1[:3])\n",
        "print('\\n',X_train_nl2[:3])\n",
        "print('\\n',X_train_nlmax[:3])"
      ],
      "execution_count": null,
      "outputs": [
        {
          "output_type": "stream",
          "text": [
            "53940\n",
            "53940\n",
            "\n",
            " [[ 0.41  4.    4.    6.   62.3  53.    4.8   4.77  2.98]\n",
            " [ 1.12  3.    4.    1.   60.5  59.    6.79  6.73  4.09]\n",
            " [ 0.42  4.    4.    4.   60.6  56.    4.83  4.87  2.94]]\n",
            "\n",
            " [[-0.8137994   0.98088133  0.34862092  1.7869023   0.38608253 -1.9910904\n",
            "  -0.8248175  -0.8347238  -0.784375  ]\n",
            " [ 0.678822    0.08326726  0.34862092 -1.2481686  -0.8709732   0.689861\n",
            "   0.9442779   0.8664688   0.7792566 ]\n",
            " [-0.7927766   0.98088133  0.34862092  0.57287383 -0.80113786 -0.65061474\n",
            "  -0.7981479  -0.7479283  -0.840722  ]]\n",
            "\n",
            " [[0.00288205 0.02811753 0.02811753 0.0421763  0.43793055 0.3725573\n",
            "  0.03374104 0.03353016 0.02094756]\n",
            " [0.00765917 0.02051563 0.02735417 0.00683854 0.4137318  0.403474\n",
            "  0.0464337  0.04602339 0.02796964]\n",
            " [0.00296485 0.02823662 0.02823662 0.02823662 0.4277848  0.3953127\n",
            "  0.03409572 0.03437809 0.02075392]]\n",
            "\n",
            " [[0.00496719 0.04846036 0.04846036 0.07269054 0.75477004 0.64209974\n",
            "  0.05815243 0.05778898 0.03610297]\n",
            " [0.01312964 0.03516869 0.04689158 0.0117229  0.70923513 0.6916508\n",
            "  0.07959846 0.07889508 0.04794664]\n",
            " [0.00505173 0.04811174 0.04811174 0.04811174 0.7288928  0.6735643\n",
            "  0.05809492 0.05857604 0.03536213]]\n",
            "\n",
            " [[0.00658106 0.06420546 0.06420546 0.09630819 1.         0.8507223\n",
            "  0.07704655 0.07656501 0.04783307]\n",
            " [0.0185124  0.04958678 0.0661157  0.01652892 1.         0.9752066\n",
            "  0.1122314  0.11123967 0.0676033 ]\n",
            " [0.00693069 0.0660066  0.0660066  0.0660066  1.         0.9240924\n",
            "  0.07970297 0.08036304 0.04851485]]\n"
          ],
          "name": "stdout"
        }
      ]
    },
    {
      "cell_type": "markdown",
      "metadata": {
        "id": "p64BQ-W3zpkM"
      },
      "source": [
        "\n",
        "\n",
        "```\n",
        "# This is formatted as code\n",
        "```\n",
        "\n",
        "**KNN Regression [Diamond Price Prediction Dataset]**"
      ]
    },
    {
      "cell_type": "markdown",
      "metadata": {
        "id": "pi5z3DDg04cc"
      },
      "source": [
        "1. a) Build a knn regression algorithm [using only python from scratch] to predict the price of diamonds."
      ]
    },
    {
      "cell_type": "code",
      "metadata": {
        "id": "8kcAcD2T3Hsh"
      },
      "source": [
        "# code for knn regression\n",
        "\n",
        "Ks_list = [2,3,5,7,9,11,13,16]\n",
        "\n",
        "'''Minkowski distance function'''\n",
        "def minkowski_dist(test_pt, train_X, p):\n",
        "    # test_pt = np.array(test_pt)\n",
        "    # train_X = np.array(train_X)\n",
        "    temp = abs(test_pt - train_X) \n",
        "    if p==2:\n",
        "        return np.sqrt(np.sum(temp*temp,axis=1))\n",
        "    if p==1:\n",
        "        return np.sum(temp,axis=1)\n",
        "    if p==0:\n",
        "        temp = temp!=0\n",
        "        return np.sum(temp*1,axis=1)\n",
        "\n",
        "max_nn = 25 #only 25 smallest distances\n",
        "\n",
        "def cal_all_dists(train_X,test_X,p):\n",
        "    all_dists = [] \n",
        "    # train_Xnp = np.array(train_X)\n",
        "    # test_X = np.array(test_X)\n",
        "    for i in range(test_X.shape[0]):\n",
        "        cur_dists = minkowski_dist(test_X[i],train_X,p)\n",
        "        idx = np.argpartition(cur_dists, max_nn)[:max_nn]\n",
        "        cur_dists = cur_dists[idx]\n",
        "        # idx_df = [train_X.iloc[j].name for j in idx]\n",
        "        df_cur_dists = pd.DataFrame(data=cur_dists, columns=['dist'], index=idx)\n",
        "        df_cur_dists = df_cur_dists.sort_values(by=['dist'], axis=0)\n",
        "        all_dists.append(df_cur_dists)\n",
        "    return all_dists\n",
        "\n",
        "'''criterion = 0:simple_mean, 1:weighted_mean'''\n",
        "def knn_predict(test_X,all_dists,k,metric=1):\n",
        "    predictions = []\n",
        "    # c=0\n",
        "    # for i in test_X.index:\n",
        "    for c in range(test_X.shape[0]):\n",
        "        knn_dists = all_dists[c][:k]\n",
        "        # knn_ys = np.array([y_train.loc[j] for j in knn_dists.index])\n",
        "        knn_ys = np.array([y_train[j] for j in knn_dists.index])\n",
        "        knn_dists = np.array(knn_dists).reshape((k,))\n",
        "        if metric==0:\n",
        "            predictions.append(knn_ys.mean())\n",
        "        else:\n",
        "            if 0 in knn_dists:\n",
        "                knn_ws = np.array(knn_dists==0, dtype=float)\n",
        "            else:\n",
        "                knn_ws = 1/knn_dists\n",
        "            predictions.append(np.sum(knn_ys * knn_ws)/np.sum(knn_ws))\n",
        "        c+=1\n",
        "    return predictions"
      ],
      "execution_count": null,
      "outputs": []
    },
    {
      "cell_type": "markdown",
      "metadata": {
        "id": "rdhlOuB_0xGr"
      },
      "source": [
        "1. b) Do we need to normalise data? [If so Does it make any difference?].\n",
        "\n",
        "As KNN is a distance algorithm, it is affected by the range of features as it uses distances between the datapoints to determine their similarity. This way, the KNN can become biased towards a feature having higher magnitude. To avoid this, it is recommended to scale the data so that all features contribute equally to the outcome. Standardization and normalization are 2 ways to scale the data.\n",
        "\n",
        "Standardization: Centering and scaling each feature independantly by subtracting the mean and dividing by the standard deviation such that the variance of the formed distribution becomes 1 and mean becomes 0\n",
        "\n",
        "Normalization (SKlearn): Each sample (i.e. each row of the data matrix) with at least one non zero component is rescaled independently of other samples so that its norm (l1, l2 or inf) equals one.\n",
        "\n",
        "Here, we observe that standardizing the data gives least error as it preserves the distance information within each feature and distorts the relative distances between the feature, which prevents the model from getting biased to a feature.\n",
        "\n",
        "Here, normalization performs worse than the unprocessed data as each row is normalized separately, which removes the overall distance information both within and between the features\n"
      ]
    },
    {
      "cell_type": "code",
      "metadata": {
        "id": "0i3Q6iXF3IMj",
        "colab": {
          "base_uri": "https://localhost:8080/",
          "height": 829
        },
        "outputId": "6353780a-1f89-4311-9583-b91ae58eaffa"
      },
      "source": [
        "allproc_score_dict = {}\n",
        "\n",
        "'''Unprocessed org data'''\n",
        "all_dists_org = cal_all_dists(X_train_org,X_test_org,2)\n",
        "temp_dict = {}\n",
        "for k in Ks_list:\n",
        "    temp_dict[k] = {}\n",
        "    y_pred = knn_predict(X_test_org,all_dists_org,k)\n",
        "    temp_dict[k]['R-sqr'] = r2_score(y_test, y_pred)\n",
        "    temp_dict[k]['MAE'] = mean_absolute_error(y_test, y_pred)\n",
        "    temp_dict[k]['MSE'] = mean_squared_error(y_test, y_pred)\n",
        "allproc_score_dict['org'] = temp_dict\n",
        "\n",
        "'''Standardized data'''\n",
        "all_dists_std = cal_all_dists(X_train_std,X_test_std,2)\n",
        "temp_dict = {}\n",
        "for k in Ks_list:\n",
        "    temp_dict[k] = {}\n",
        "    y_pred = knn_predict(X_test_std,all_dists_std,k)\n",
        "    temp_dict[k]['R-sqr'] = r2_score(y_test, y_pred)\n",
        "    temp_dict[k]['MAE'] = mean_absolute_error(y_test, y_pred)\n",
        "    temp_dict[k]['MSE'] = mean_squared_error(y_test, y_pred)\n",
        "allproc_score_dict['std'] = temp_dict\n",
        "\n",
        "'''Normalized L1 data'''\n",
        "all_dists_nl1 = cal_all_dists(X_train_nl1,X_test_nl1,2)\n",
        "temp_dict = {}\n",
        "for k in Ks_list:\n",
        "    temp_dict[k] = {}\n",
        "    y_pred = knn_predict(X_test_nl1,all_dists_nl1,k)\n",
        "    temp_dict[k]['R-sqr'] = r2_score(y_test, y_pred)\n",
        "    temp_dict[k]['MAE'] = mean_absolute_error(y_test, y_pred)\n",
        "    temp_dict[k]['MSE'] = mean_squared_error(y_test, y_pred)\n",
        "allproc_score_dict['nl1'] = temp_dict\n",
        "\n",
        "'''Normalized L2 data'''\n",
        "all_dists_nl2 = cal_all_dists(X_train_nl2,X_test_nl2,2)\n",
        "temp_dict = {}\n",
        "for k in Ks_list:\n",
        "    temp_dict[k] = {}\n",
        "    y_pred = knn_predict(X_test_nl2,all_dists_nl2,k)\n",
        "    temp_dict[k]['R-sqr'] = r2_score(y_test, y_pred)\n",
        "    temp_dict[k]['MAE'] = mean_absolute_error(y_test, y_pred)\n",
        "    temp_dict[k]['MSE'] = mean_squared_error(y_test, y_pred)\n",
        "allproc_score_dict['nl2'] = temp_dict\n",
        "\n",
        "'''Normalized Max data'''\n",
        "all_dists_nlmax = cal_all_dists(X_train_nlmax,X_test_nlmax,2)\n",
        "temp_dict = {}\n",
        "for k in Ks_list:\n",
        "    temp_dict[k] = {}\n",
        "    y_pred = knn_predict(X_test_nlmax,all_dists_nlmax,k)\n",
        "    temp_dict[k]['R-sqr'] = r2_score(y_test, y_pred)\n",
        "    temp_dict[k]['MAE'] = mean_absolute_error(y_test, y_pred)\n",
        "    temp_dict[k]['MSE'] = mean_squared_error(y_test, y_pred)\n",
        "allproc_score_dict['nlmax'] = temp_dict\n",
        "\n",
        "print(\"Euclidean distance measure fixed for now\")\n",
        "print(\"\\nOriginal Data\")\n",
        "display(pd.DataFrame(allproc_score_dict['org']))\n",
        "print(\"\\nStandardized Data\")\n",
        "display(pd.DataFrame(allproc_score_dict['std']))\n",
        "print(\"\\nNormalized L1 Data\")\n",
        "display(pd.DataFrame(allproc_score_dict['nl1']))\n",
        "print(\"\\nNormalized L2 Data\")\n",
        "display(pd.DataFrame(allproc_score_dict['nl2']))\n",
        "print(\"\\nMax Normalized Data\")\n",
        "display(pd.DataFrame(allproc_score_dict['nlmax']))"
      ],
      "execution_count": null,
      "outputs": [
        {
          "output_type": "stream",
          "text": [
            "Euclidean distance measure fixed for now\n",
            "\n",
            "Original Data\n"
          ],
          "name": "stdout"
        },
        {
          "output_type": "display_data",
          "data": {
            "text/html": [
              "<div>\n",
              "<style scoped>\n",
              "    .dataframe tbody tr th:only-of-type {\n",
              "        vertical-align: middle;\n",
              "    }\n",
              "\n",
              "    .dataframe tbody tr th {\n",
              "        vertical-align: top;\n",
              "    }\n",
              "\n",
              "    .dataframe thead th {\n",
              "        text-align: right;\n",
              "    }\n",
              "</style>\n",
              "<table border=\"1\" class=\"dataframe\">\n",
              "  <thead>\n",
              "    <tr style=\"text-align: right;\">\n",
              "      <th></th>\n",
              "      <th>2</th>\n",
              "      <th>3</th>\n",
              "      <th>5</th>\n",
              "      <th>7</th>\n",
              "      <th>9</th>\n",
              "      <th>11</th>\n",
              "      <th>13</th>\n",
              "      <th>16</th>\n",
              "    </tr>\n",
              "  </thead>\n",
              "  <tbody>\n",
              "    <tr>\n",
              "      <th>R-sqr</th>\n",
              "      <td>0.946542</td>\n",
              "      <td>0.953260</td>\n",
              "      <td>0.958276</td>\n",
              "      <td>0.959730</td>\n",
              "      <td>0.960037</td>\n",
              "      <td>0.960285</td>\n",
              "      <td>0.960248</td>\n",
              "      <td>0.959450</td>\n",
              "    </tr>\n",
              "    <tr>\n",
              "      <th>MAE</th>\n",
              "      <td>469.890452</td>\n",
              "      <td>447.207527</td>\n",
              "      <td>424.582763</td>\n",
              "      <td>418.063603</td>\n",
              "      <td>415.668648</td>\n",
              "      <td>415.130779</td>\n",
              "      <td>414.668973</td>\n",
              "      <td>417.944052</td>\n",
              "    </tr>\n",
              "    <tr>\n",
              "      <th>MSE</th>\n",
              "      <td>830663.954018</td>\n",
              "      <td>726271.993608</td>\n",
              "      <td>648322.516231</td>\n",
              "      <td>625735.945699</td>\n",
              "      <td>620963.941357</td>\n",
              "      <td>617117.733170</td>\n",
              "      <td>617682.059395</td>\n",
              "      <td>630082.945982</td>\n",
              "    </tr>\n",
              "  </tbody>\n",
              "</table>\n",
              "</div>"
            ],
            "text/plain": [
              "                  2              3   ...             13             16\n",
              "R-sqr       0.946542       0.953260  ...       0.960248       0.959450\n",
              "MAE       469.890452     447.207527  ...     414.668973     417.944052\n",
              "MSE    830663.954018  726271.993608  ...  617682.059395  630082.945982\n",
              "\n",
              "[3 rows x 8 columns]"
            ]
          },
          "metadata": {
            "tags": []
          }
        },
        {
          "output_type": "stream",
          "text": [
            "\n",
            "Standardized Data\n"
          ],
          "name": "stdout"
        },
        {
          "output_type": "display_data",
          "data": {
            "text/html": [
              "<div>\n",
              "<style scoped>\n",
              "    .dataframe tbody tr th:only-of-type {\n",
              "        vertical-align: middle;\n",
              "    }\n",
              "\n",
              "    .dataframe tbody tr th {\n",
              "        vertical-align: top;\n",
              "    }\n",
              "\n",
              "    .dataframe thead th {\n",
              "        text-align: right;\n",
              "    }\n",
              "</style>\n",
              "<table border=\"1\" class=\"dataframe\">\n",
              "  <thead>\n",
              "    <tr style=\"text-align: right;\">\n",
              "      <th></th>\n",
              "      <th>2</th>\n",
              "      <th>3</th>\n",
              "      <th>5</th>\n",
              "      <th>7</th>\n",
              "      <th>9</th>\n",
              "      <th>11</th>\n",
              "      <th>13</th>\n",
              "      <th>16</th>\n",
              "    </tr>\n",
              "  </thead>\n",
              "  <tbody>\n",
              "    <tr>\n",
              "      <th>R-sqr</th>\n",
              "      <td>0.964385</td>\n",
              "      <td>0.967989</td>\n",
              "      <td>0.969893</td>\n",
              "      <td>0.970123</td>\n",
              "      <td>0.970520</td>\n",
              "      <td>0.970580</td>\n",
              "      <td>0.970417</td>\n",
              "      <td>0.970230</td>\n",
              "    </tr>\n",
              "    <tr>\n",
              "      <th>MAE</th>\n",
              "      <td>385.660050</td>\n",
              "      <td>366.893483</td>\n",
              "      <td>354.000467</td>\n",
              "      <td>350.164939</td>\n",
              "      <td>348.987565</td>\n",
              "      <td>348.290196</td>\n",
              "      <td>349.525805</td>\n",
              "      <td>350.719304</td>\n",
              "    </tr>\n",
              "    <tr>\n",
              "      <th>MSE</th>\n",
              "      <td>553404.971184</td>\n",
              "      <td>497402.190567</td>\n",
              "      <td>467810.407937</td>\n",
              "      <td>464251.782630</td>\n",
              "      <td>458082.710579</td>\n",
              "      <td>457141.487616</td>\n",
              "      <td>459676.955288</td>\n",
              "      <td>462578.919953</td>\n",
              "    </tr>\n",
              "  </tbody>\n",
              "</table>\n",
              "</div>"
            ],
            "text/plain": [
              "                  2              3   ...             13             16\n",
              "R-sqr       0.964385       0.967989  ...       0.970417       0.970230\n",
              "MAE       385.660050     366.893483  ...     349.525805     350.719304\n",
              "MSE    553404.971184  497402.190567  ...  459676.955288  462578.919953\n",
              "\n",
              "[3 rows x 8 columns]"
            ]
          },
          "metadata": {
            "tags": []
          }
        },
        {
          "output_type": "stream",
          "text": [
            "\n",
            "Normalized L1 Data\n"
          ],
          "name": "stdout"
        },
        {
          "output_type": "display_data",
          "data": {
            "text/html": [
              "<div>\n",
              "<style scoped>\n",
              "    .dataframe tbody tr th:only-of-type {\n",
              "        vertical-align: middle;\n",
              "    }\n",
              "\n",
              "    .dataframe tbody tr th {\n",
              "        vertical-align: top;\n",
              "    }\n",
              "\n",
              "    .dataframe thead th {\n",
              "        text-align: right;\n",
              "    }\n",
              "</style>\n",
              "<table border=\"1\" class=\"dataframe\">\n",
              "  <thead>\n",
              "    <tr style=\"text-align: right;\">\n",
              "      <th></th>\n",
              "      <th>2</th>\n",
              "      <th>3</th>\n",
              "      <th>5</th>\n",
              "      <th>7</th>\n",
              "      <th>9</th>\n",
              "      <th>11</th>\n",
              "      <th>13</th>\n",
              "      <th>16</th>\n",
              "    </tr>\n",
              "  </thead>\n",
              "  <tbody>\n",
              "    <tr>\n",
              "      <th>R-sqr</th>\n",
              "      <td>0.952874</td>\n",
              "      <td>0.957840</td>\n",
              "      <td>0.960343</td>\n",
              "      <td>0.961146</td>\n",
              "      <td>0.961343</td>\n",
              "      <td>0.961948</td>\n",
              "      <td>0.961837</td>\n",
              "      <td>0.961712</td>\n",
              "    </tr>\n",
              "    <tr>\n",
              "      <th>MAE</th>\n",
              "      <td>444.215129</td>\n",
              "      <td>426.860563</td>\n",
              "      <td>416.182092</td>\n",
              "      <td>413.403953</td>\n",
              "      <td>413.872560</td>\n",
              "      <td>411.551497</td>\n",
              "      <td>412.997638</td>\n",
              "      <td>414.103724</td>\n",
              "    </tr>\n",
              "    <tr>\n",
              "      <th>MSE</th>\n",
              "      <td>732260.835598</td>\n",
              "      <td>655096.112067</td>\n",
              "      <td>616215.755690</td>\n",
              "      <td>603726.320600</td>\n",
              "      <td>600666.199465</td>\n",
              "      <td>591265.871239</td>\n",
              "      <td>592999.358727</td>\n",
              "      <td>594939.479260</td>\n",
              "    </tr>\n",
              "  </tbody>\n",
              "</table>\n",
              "</div>"
            ],
            "text/plain": [
              "                  2              3   ...             13             16\n",
              "R-sqr       0.952874       0.957840  ...       0.961837       0.961712\n",
              "MAE       444.215129     426.860563  ...     412.997638     414.103724\n",
              "MSE    732260.835598  655096.112067  ...  592999.358727  594939.479260\n",
              "\n",
              "[3 rows x 8 columns]"
            ]
          },
          "metadata": {
            "tags": []
          }
        },
        {
          "output_type": "stream",
          "text": [
            "\n",
            "Normalized L2 Data\n"
          ],
          "name": "stdout"
        },
        {
          "output_type": "display_data",
          "data": {
            "text/html": [
              "<div>\n",
              "<style scoped>\n",
              "    .dataframe tbody tr th:only-of-type {\n",
              "        vertical-align: middle;\n",
              "    }\n",
              "\n",
              "    .dataframe tbody tr th {\n",
              "        vertical-align: top;\n",
              "    }\n",
              "\n",
              "    .dataframe thead th {\n",
              "        text-align: right;\n",
              "    }\n",
              "</style>\n",
              "<table border=\"1\" class=\"dataframe\">\n",
              "  <thead>\n",
              "    <tr style=\"text-align: right;\">\n",
              "      <th></th>\n",
              "      <th>2</th>\n",
              "      <th>3</th>\n",
              "      <th>5</th>\n",
              "      <th>7</th>\n",
              "      <th>9</th>\n",
              "      <th>11</th>\n",
              "      <th>13</th>\n",
              "      <th>16</th>\n",
              "    </tr>\n",
              "  </thead>\n",
              "  <tbody>\n",
              "    <tr>\n",
              "      <th>R-sqr</th>\n",
              "      <td>0.950081</td>\n",
              "      <td>0.954342</td>\n",
              "      <td>0.957241</td>\n",
              "      <td>0.957590</td>\n",
              "      <td>0.957901</td>\n",
              "      <td>0.957894</td>\n",
              "      <td>0.957680</td>\n",
              "      <td>0.957360</td>\n",
              "    </tr>\n",
              "    <tr>\n",
              "      <th>MAE</th>\n",
              "      <td>452.783602</td>\n",
              "      <td>435.951335</td>\n",
              "      <td>427.203983</td>\n",
              "      <td>427.079778</td>\n",
              "      <td>429.482985</td>\n",
              "      <td>430.866983</td>\n",
              "      <td>433.421467</td>\n",
              "      <td>436.538269</td>\n",
              "    </tr>\n",
              "    <tr>\n",
              "      <th>MSE</th>\n",
              "      <td>775670.538751</td>\n",
              "      <td>709458.626473</td>\n",
              "      <td>664403.907291</td>\n",
              "      <td>658986.503445</td>\n",
              "      <td>654152.694419</td>\n",
              "      <td>654268.237792</td>\n",
              "      <td>657595.090820</td>\n",
              "      <td>662560.633318</td>\n",
              "    </tr>\n",
              "  </tbody>\n",
              "</table>\n",
              "</div>"
            ],
            "text/plain": [
              "                  2              3   ...             13             16\n",
              "R-sqr       0.950081       0.954342  ...       0.957680       0.957360\n",
              "MAE       452.783602     435.951335  ...     433.421467     436.538269\n",
              "MSE    775670.538751  709458.626473  ...  657595.090820  662560.633318\n",
              "\n",
              "[3 rows x 8 columns]"
            ]
          },
          "metadata": {
            "tags": []
          }
        },
        {
          "output_type": "stream",
          "text": [
            "\n",
            "Max Normalized Data\n"
          ],
          "name": "stdout"
        },
        {
          "output_type": "display_data",
          "data": {
            "text/html": [
              "<div>\n",
              "<style scoped>\n",
              "    .dataframe tbody tr th:only-of-type {\n",
              "        vertical-align: middle;\n",
              "    }\n",
              "\n",
              "    .dataframe tbody tr th {\n",
              "        vertical-align: top;\n",
              "    }\n",
              "\n",
              "    .dataframe thead th {\n",
              "        text-align: right;\n",
              "    }\n",
              "</style>\n",
              "<table border=\"1\" class=\"dataframe\">\n",
              "  <thead>\n",
              "    <tr style=\"text-align: right;\">\n",
              "      <th></th>\n",
              "      <th>2</th>\n",
              "      <th>3</th>\n",
              "      <th>5</th>\n",
              "      <th>7</th>\n",
              "      <th>9</th>\n",
              "      <th>11</th>\n",
              "      <th>13</th>\n",
              "      <th>16</th>\n",
              "    </tr>\n",
              "  </thead>\n",
              "  <tbody>\n",
              "    <tr>\n",
              "      <th>R-sqr</th>\n",
              "      <td>0.945636</td>\n",
              "      <td>0.951192</td>\n",
              "      <td>0.954014</td>\n",
              "      <td>0.954262</td>\n",
              "      <td>0.954557</td>\n",
              "      <td>0.955079</td>\n",
              "      <td>0.954998</td>\n",
              "      <td>0.954910</td>\n",
              "    </tr>\n",
              "    <tr>\n",
              "      <th>MAE</th>\n",
              "      <td>472.715816</td>\n",
              "      <td>453.334902</td>\n",
              "      <td>444.171083</td>\n",
              "      <td>443.981041</td>\n",
              "      <td>445.589001</td>\n",
              "      <td>444.750613</td>\n",
              "      <td>447.307125</td>\n",
              "      <td>449.499878</td>\n",
              "    </tr>\n",
              "    <tr>\n",
              "      <th>MSE</th>\n",
              "      <td>844742.802392</td>\n",
              "      <td>758407.031079</td>\n",
              "      <td>714553.919658</td>\n",
              "      <td>710705.792727</td>\n",
              "      <td>706118.298546</td>\n",
              "      <td>698009.869938</td>\n",
              "      <td>699260.128506</td>\n",
              "      <td>700633.290531</td>\n",
              "    </tr>\n",
              "  </tbody>\n",
              "</table>\n",
              "</div>"
            ],
            "text/plain": [
              "                  2              3   ...             13             16\n",
              "R-sqr       0.945636       0.951192  ...       0.954998       0.954910\n",
              "MAE       472.715816     453.334902  ...     447.307125     449.499878\n",
              "MSE    844742.802392  758407.031079  ...  699260.128506  700633.290531\n",
              "\n",
              "[3 rows x 8 columns]"
            ]
          },
          "metadata": {
            "tags": []
          }
        }
      ]
    },
    {
      "cell_type": "markdown",
      "metadata": {
        "id": "E5bPcmCj0xCn"
      },
      "source": [
        "2. Experiment with different distance measures[Euclidean distance, Manhattan distance, Hamming Distance] to handle categorical attributes.\n",
        "\n",
        "Here we observe that the hamming distance performs worst as it removes the distance information within the features. As we have converted the categorial attributes to ordinal, while calculating the hamming distance, ham(very-good(3),fair(1)) = ham(very-good(3),good(2)) = 1. So the model is not able to see how far or close each feature is."
      ]
    },
    {
      "cell_type": "code",
      "metadata": {
        "id": "JVFgXFJM3I0m"
      },
      "source": [
        "# show all the experiments\n",
        "\n",
        "### Standardized dataset gives best accuracy, so we use it further\n",
        "\n",
        "'''For weighted mean'''\n",
        "alldist_wm_score_dict = {}\n",
        "\n",
        "for p in range(3):\n",
        "    all_dists_std = cal_all_dists(X_train_std,X_test_std,p)\n",
        "    temp_dict = {}\n",
        "    for k in Ks_list:\n",
        "        temp_dict[k] = {}\n",
        "        y_pred = knn_predict(X_test_std,all_dists_std,k)\n",
        "        temp_dict[k]['R-sqr'] = r2_score(y_test, y_pred)\n",
        "        temp_dict[k]['MAE'] = mean_absolute_error(y_test, y_pred)\n",
        "        temp_dict[k]['MSE'] = mean_squared_error(y_test, y_pred)\n",
        "    alldist_wm_score_dict['p'+str(p)] = temp_dict\n",
        "\n",
        "'''For simple mean'''\n",
        "alldist_sm_score_dict = {}\n",
        "\n",
        "for p in range(3):\n",
        "    all_dists_std = cal_all_dists(X_train_std,X_test_std,p)\n",
        "    temp_dict = {}\n",
        "    for k in Ks_list:\n",
        "        temp_dict[k] = {}\n",
        "        y_pred = knn_predict(X_test_std,all_dists_std,k,0)\n",
        "        temp_dict[k]['R-sqr'] = r2_score(y_test, y_pred)\n",
        "        temp_dict[k]['MAE'] = mean_absolute_error(y_test, y_pred)\n",
        "        temp_dict[k]['MSE'] = mean_squared_error(y_test, y_pred)\n",
        "    alldist_sm_score_dict['p'+str(p)] = temp_dict\n"
      ],
      "execution_count": null,
      "outputs": []
    },
    {
      "cell_type": "markdown",
      "metadata": {
        "id": "O64G_tqG0w_l"
      },
      "source": [
        "3. Report Mean Squared Error(MSE), Mean-Absolute-Error(MAE), R-squared (R2) score in a tabular form."
      ]
    },
    {
      "cell_type": "code",
      "metadata": {
        "id": "1WGPbWa-3JY7",
        "colab": {
          "base_uri": "https://localhost:8080/",
          "height": 1000
        },
        "outputId": "9c3fc16a-4b17-4bd0-9b47-411ba976dcf7"
      },
      "source": [
        "# report a table\n",
        "\n",
        "print(\"********Weighted Mean********\")\n",
        "for p,q in {'p0':'Hamming Distance','p1':'Manhattan Distance','p2':'Euclidean Distance'}.items():\n",
        "    print(\"\\n\",q)\n",
        "    display(pd.DataFrame(alldist_wm_score_dict[p]))\n",
        "\n",
        "print(\"\\n\\n*******Simple Mean*********\")\n",
        "for p,q in {'p0':'Hamming Distance','p1':'Manhattan Distance','p2':'Euclidean Distance'}.items():\n",
        "    print(\"\\n\",q)\n",
        "    display(pd.DataFrame(alldist_sm_score_dict[p]))\n"
      ],
      "execution_count": null,
      "outputs": [
        {
          "output_type": "stream",
          "text": [
            "********Weighted Mean********\n",
            "\n",
            " Hamming Distance\n"
          ],
          "name": "stdout"
        },
        {
          "output_type": "display_data",
          "data": {
            "text/html": [
              "<div>\n",
              "<style scoped>\n",
              "    .dataframe tbody tr th:only-of-type {\n",
              "        vertical-align: middle;\n",
              "    }\n",
              "\n",
              "    .dataframe tbody tr th {\n",
              "        vertical-align: top;\n",
              "    }\n",
              "\n",
              "    .dataframe thead th {\n",
              "        text-align: right;\n",
              "    }\n",
              "</style>\n",
              "<table border=\"1\" class=\"dataframe\">\n",
              "  <thead>\n",
              "    <tr style=\"text-align: right;\">\n",
              "      <th></th>\n",
              "      <th>2</th>\n",
              "      <th>3</th>\n",
              "      <th>5</th>\n",
              "      <th>7</th>\n",
              "      <th>9</th>\n",
              "      <th>11</th>\n",
              "      <th>13</th>\n",
              "      <th>16</th>\n",
              "    </tr>\n",
              "  </thead>\n",
              "  <tbody>\n",
              "    <tr>\n",
              "      <th>R-sqr</th>\n",
              "      <td>6.708528e-01</td>\n",
              "      <td>6.746553e-01</td>\n",
              "      <td>6.619648e-01</td>\n",
              "      <td>6.430358e-01</td>\n",
              "      <td>6.303910e-01</td>\n",
              "      <td>6.140705e-01</td>\n",
              "      <td>6.014006e-01</td>\n",
              "      <td>5.838181e-01</td>\n",
              "    </tr>\n",
              "    <tr>\n",
              "      <th>MAE</th>\n",
              "      <td>1.041023e+03</td>\n",
              "      <td>1.081306e+03</td>\n",
              "      <td>1.142025e+03</td>\n",
              "      <td>1.202353e+03</td>\n",
              "      <td>1.246111e+03</td>\n",
              "      <td>1.288867e+03</td>\n",
              "      <td>1.325750e+03</td>\n",
              "      <td>1.376288e+03</td>\n",
              "    </tr>\n",
              "    <tr>\n",
              "      <th>MSE</th>\n",
              "      <td>5.114458e+06</td>\n",
              "      <td>5.055372e+06</td>\n",
              "      <td>5.252564e+06</td>\n",
              "      <td>5.546692e+06</td>\n",
              "      <td>5.743173e+06</td>\n",
              "      <td>5.996770e+06</td>\n",
              "      <td>6.193641e+06</td>\n",
              "      <td>6.466848e+06</td>\n",
              "    </tr>\n",
              "  </tbody>\n",
              "</table>\n",
              "</div>"
            ],
            "text/plain": [
              "                 2             3   ...            13            16\n",
              "R-sqr  6.708528e-01  6.746553e-01  ...  6.014006e-01  5.838181e-01\n",
              "MAE    1.041023e+03  1.081306e+03  ...  1.325750e+03  1.376288e+03\n",
              "MSE    5.114458e+06  5.055372e+06  ...  6.193641e+06  6.466848e+06\n",
              "\n",
              "[3 rows x 8 columns]"
            ]
          },
          "metadata": {
            "tags": []
          }
        },
        {
          "output_type": "stream",
          "text": [
            "\n",
            " Manhattan Distance\n"
          ],
          "name": "stdout"
        },
        {
          "output_type": "display_data",
          "data": {
            "text/html": [
              "<div>\n",
              "<style scoped>\n",
              "    .dataframe tbody tr th:only-of-type {\n",
              "        vertical-align: middle;\n",
              "    }\n",
              "\n",
              "    .dataframe tbody tr th {\n",
              "        vertical-align: top;\n",
              "    }\n",
              "\n",
              "    .dataframe thead th {\n",
              "        text-align: right;\n",
              "    }\n",
              "</style>\n",
              "<table border=\"1\" class=\"dataframe\">\n",
              "  <thead>\n",
              "    <tr style=\"text-align: right;\">\n",
              "      <th></th>\n",
              "      <th>2</th>\n",
              "      <th>3</th>\n",
              "      <th>5</th>\n",
              "      <th>7</th>\n",
              "      <th>9</th>\n",
              "      <th>11</th>\n",
              "      <th>13</th>\n",
              "      <th>16</th>\n",
              "    </tr>\n",
              "  </thead>\n",
              "  <tbody>\n",
              "    <tr>\n",
              "      <th>R-sqr</th>\n",
              "      <td>0.966896</td>\n",
              "      <td>0.970198</td>\n",
              "      <td>0.972539</td>\n",
              "      <td>0.974259</td>\n",
              "      <td>0.974579</td>\n",
              "      <td>0.974534</td>\n",
              "      <td>0.974375</td>\n",
              "      <td>0.974116</td>\n",
              "    </tr>\n",
              "    <tr>\n",
              "      <th>MAE</th>\n",
              "      <td>360.432884</td>\n",
              "      <td>343.646937</td>\n",
              "      <td>329.970119</td>\n",
              "      <td>323.271429</td>\n",
              "      <td>321.364104</td>\n",
              "      <td>320.736984</td>\n",
              "      <td>320.590190</td>\n",
              "      <td>322.100285</td>\n",
              "    </tr>\n",
              "    <tr>\n",
              "      <th>MSE</th>\n",
              "      <td>514386.836033</td>\n",
              "      <td>463086.434888</td>\n",
              "      <td>426702.647823</td>\n",
              "      <td>399984.122325</td>\n",
              "      <td>395008.059028</td>\n",
              "      <td>395699.974173</td>\n",
              "      <td>398171.903354</td>\n",
              "      <td>402203.753237</td>\n",
              "    </tr>\n",
              "  </tbody>\n",
              "</table>\n",
              "</div>"
            ],
            "text/plain": [
              "                  2              3   ...             13             16\n",
              "R-sqr       0.966896       0.970198  ...       0.974375       0.974116\n",
              "MAE       360.432884     343.646937  ...     320.590190     322.100285\n",
              "MSE    514386.836033  463086.434888  ...  398171.903354  402203.753237\n",
              "\n",
              "[3 rows x 8 columns]"
            ]
          },
          "metadata": {
            "tags": []
          }
        },
        {
          "output_type": "stream",
          "text": [
            "\n",
            " Euclidean Distance\n"
          ],
          "name": "stdout"
        },
        {
          "output_type": "display_data",
          "data": {
            "text/html": [
              "<div>\n",
              "<style scoped>\n",
              "    .dataframe tbody tr th:only-of-type {\n",
              "        vertical-align: middle;\n",
              "    }\n",
              "\n",
              "    .dataframe tbody tr th {\n",
              "        vertical-align: top;\n",
              "    }\n",
              "\n",
              "    .dataframe thead th {\n",
              "        text-align: right;\n",
              "    }\n",
              "</style>\n",
              "<table border=\"1\" class=\"dataframe\">\n",
              "  <thead>\n",
              "    <tr style=\"text-align: right;\">\n",
              "      <th></th>\n",
              "      <th>2</th>\n",
              "      <th>3</th>\n",
              "      <th>5</th>\n",
              "      <th>7</th>\n",
              "      <th>9</th>\n",
              "      <th>11</th>\n",
              "      <th>13</th>\n",
              "      <th>16</th>\n",
              "    </tr>\n",
              "  </thead>\n",
              "  <tbody>\n",
              "    <tr>\n",
              "      <th>R-sqr</th>\n",
              "      <td>0.964385</td>\n",
              "      <td>0.967989</td>\n",
              "      <td>0.969893</td>\n",
              "      <td>0.970123</td>\n",
              "      <td>0.970520</td>\n",
              "      <td>0.970580</td>\n",
              "      <td>0.970417</td>\n",
              "      <td>0.970230</td>\n",
              "    </tr>\n",
              "    <tr>\n",
              "      <th>MAE</th>\n",
              "      <td>385.660050</td>\n",
              "      <td>366.893483</td>\n",
              "      <td>354.000467</td>\n",
              "      <td>350.164939</td>\n",
              "      <td>348.987565</td>\n",
              "      <td>348.290196</td>\n",
              "      <td>349.525805</td>\n",
              "      <td>350.719304</td>\n",
              "    </tr>\n",
              "    <tr>\n",
              "      <th>MSE</th>\n",
              "      <td>553404.971184</td>\n",
              "      <td>497402.190567</td>\n",
              "      <td>467810.407937</td>\n",
              "      <td>464251.782630</td>\n",
              "      <td>458082.710579</td>\n",
              "      <td>457141.487616</td>\n",
              "      <td>459676.955288</td>\n",
              "      <td>462578.919953</td>\n",
              "    </tr>\n",
              "  </tbody>\n",
              "</table>\n",
              "</div>"
            ],
            "text/plain": [
              "                  2              3   ...             13             16\n",
              "R-sqr       0.964385       0.967989  ...       0.970417       0.970230\n",
              "MAE       385.660050     366.893483  ...     349.525805     350.719304\n",
              "MSE    553404.971184  497402.190567  ...  459676.955288  462578.919953\n",
              "\n",
              "[3 rows x 8 columns]"
            ]
          },
          "metadata": {
            "tags": []
          }
        },
        {
          "output_type": "stream",
          "text": [
            "\n",
            "\n",
            "*******Simple Mean*********\n",
            "\n",
            " Hamming Distance\n"
          ],
          "name": "stdout"
        },
        {
          "output_type": "display_data",
          "data": {
            "text/html": [
              "<div>\n",
              "<style scoped>\n",
              "    .dataframe tbody tr th:only-of-type {\n",
              "        vertical-align: middle;\n",
              "    }\n",
              "\n",
              "    .dataframe tbody tr th {\n",
              "        vertical-align: top;\n",
              "    }\n",
              "\n",
              "    .dataframe thead th {\n",
              "        text-align: right;\n",
              "    }\n",
              "</style>\n",
              "<table border=\"1\" class=\"dataframe\">\n",
              "  <thead>\n",
              "    <tr style=\"text-align: right;\">\n",
              "      <th></th>\n",
              "      <th>2</th>\n",
              "      <th>3</th>\n",
              "      <th>5</th>\n",
              "      <th>7</th>\n",
              "      <th>9</th>\n",
              "      <th>11</th>\n",
              "      <th>13</th>\n",
              "      <th>16</th>\n",
              "    </tr>\n",
              "  </thead>\n",
              "  <tbody>\n",
              "    <tr>\n",
              "      <th>R-sqr</th>\n",
              "      <td>6.503595e-01</td>\n",
              "      <td>6.475930e-01</td>\n",
              "      <td>6.325067e-01</td>\n",
              "      <td>6.124435e-01</td>\n",
              "      <td>5.998265e-01</td>\n",
              "      <td>5.836206e-01</td>\n",
              "      <td>5.706690e-01</td>\n",
              "      <td>5.535100e-01</td>\n",
              "    </tr>\n",
              "    <tr>\n",
              "      <th>MAE</th>\n",
              "      <td>1.091167e+03</td>\n",
              "      <td>1.145357e+03</td>\n",
              "      <td>1.211220e+03</td>\n",
              "      <td>1.273443e+03</td>\n",
              "      <td>1.317747e+03</td>\n",
              "      <td>1.361231e+03</td>\n",
              "      <td>1.398566e+03</td>\n",
              "      <td>1.449311e+03</td>\n",
              "    </tr>\n",
              "    <tr>\n",
              "      <th>MSE</th>\n",
              "      <td>5.432892e+06</td>\n",
              "      <td>5.475880e+06</td>\n",
              "      <td>5.710299e+06</td>\n",
              "      <td>6.022051e+06</td>\n",
              "      <td>6.218101e+06</td>\n",
              "      <td>6.469916e+06</td>\n",
              "      <td>6.671164e+06</td>\n",
              "      <td>6.937790e+06</td>\n",
              "    </tr>\n",
              "  </tbody>\n",
              "</table>\n",
              "</div>"
            ],
            "text/plain": [
              "                 2             3   ...            13            16\n",
              "R-sqr  6.503595e-01  6.475930e-01  ...  5.706690e-01  5.535100e-01\n",
              "MAE    1.091167e+03  1.145357e+03  ...  1.398566e+03  1.449311e+03\n",
              "MSE    5.432892e+06  5.475880e+06  ...  6.671164e+06  6.937790e+06\n",
              "\n",
              "[3 rows x 8 columns]"
            ]
          },
          "metadata": {
            "tags": []
          }
        },
        {
          "output_type": "stream",
          "text": [
            "\n",
            " Manhattan Distance\n"
          ],
          "name": "stdout"
        },
        {
          "output_type": "display_data",
          "data": {
            "text/html": [
              "<div>\n",
              "<style scoped>\n",
              "    .dataframe tbody tr th:only-of-type {\n",
              "        vertical-align: middle;\n",
              "    }\n",
              "\n",
              "    .dataframe tbody tr th {\n",
              "        vertical-align: top;\n",
              "    }\n",
              "\n",
              "    .dataframe thead th {\n",
              "        text-align: right;\n",
              "    }\n",
              "</style>\n",
              "<table border=\"1\" class=\"dataframe\">\n",
              "  <thead>\n",
              "    <tr style=\"text-align: right;\">\n",
              "      <th></th>\n",
              "      <th>2</th>\n",
              "      <th>3</th>\n",
              "      <th>5</th>\n",
              "      <th>7</th>\n",
              "      <th>9</th>\n",
              "      <th>11</th>\n",
              "      <th>13</th>\n",
              "      <th>16</th>\n",
              "    </tr>\n",
              "  </thead>\n",
              "  <tbody>\n",
              "    <tr>\n",
              "      <th>R-sqr</th>\n",
              "      <td>0.965284</td>\n",
              "      <td>0.968126</td>\n",
              "      <td>0.969805</td>\n",
              "      <td>0.971709</td>\n",
              "      <td>0.971863</td>\n",
              "      <td>0.971912</td>\n",
              "      <td>0.971753</td>\n",
              "      <td>0.971374</td>\n",
              "    </tr>\n",
              "    <tr>\n",
              "      <th>MAE</th>\n",
              "      <td>375.009369</td>\n",
              "      <td>360.871887</td>\n",
              "      <td>349.685059</td>\n",
              "      <td>342.784912</td>\n",
              "      <td>342.028870</td>\n",
              "      <td>340.678772</td>\n",
              "      <td>340.675934</td>\n",
              "      <td>342.908722</td>\n",
              "    </tr>\n",
              "    <tr>\n",
              "      <th>MSE</th>\n",
              "      <td>539442.187500</td>\n",
              "      <td>495274.562500</td>\n",
              "      <td>469178.093750</td>\n",
              "      <td>439594.531250</td>\n",
              "      <td>437206.906250</td>\n",
              "      <td>436438.531250</td>\n",
              "      <td>438923.000000</td>\n",
              "      <td>444804.750000</td>\n",
              "    </tr>\n",
              "  </tbody>\n",
              "</table>\n",
              "</div>"
            ],
            "text/plain": [
              "                  2              3   ...             13             16\n",
              "R-sqr       0.965284       0.968126  ...       0.971753       0.971374\n",
              "MAE       375.009369     360.871887  ...     340.675934     342.908722\n",
              "MSE    539442.187500  495274.562500  ...  438923.000000  444804.750000\n",
              "\n",
              "[3 rows x 8 columns]"
            ]
          },
          "metadata": {
            "tags": []
          }
        },
        {
          "output_type": "stream",
          "text": [
            "\n",
            " Euclidean Distance\n"
          ],
          "name": "stdout"
        },
        {
          "output_type": "display_data",
          "data": {
            "text/html": [
              "<div>\n",
              "<style scoped>\n",
              "    .dataframe tbody tr th:only-of-type {\n",
              "        vertical-align: middle;\n",
              "    }\n",
              "\n",
              "    .dataframe tbody tr th {\n",
              "        vertical-align: top;\n",
              "    }\n",
              "\n",
              "    .dataframe thead th {\n",
              "        text-align: right;\n",
              "    }\n",
              "</style>\n",
              "<table border=\"1\" class=\"dataframe\">\n",
              "  <thead>\n",
              "    <tr style=\"text-align: right;\">\n",
              "      <th></th>\n",
              "      <th>2</th>\n",
              "      <th>3</th>\n",
              "      <th>5</th>\n",
              "      <th>7</th>\n",
              "      <th>9</th>\n",
              "      <th>11</th>\n",
              "      <th>13</th>\n",
              "      <th>16</th>\n",
              "    </tr>\n",
              "  </thead>\n",
              "  <tbody>\n",
              "    <tr>\n",
              "      <th>R-sqr</th>\n",
              "      <td>0.963116</td>\n",
              "      <td>0.965724</td>\n",
              "      <td>0.966891</td>\n",
              "      <td>0.967010</td>\n",
              "      <td>0.967306</td>\n",
              "      <td>0.967347</td>\n",
              "      <td>0.967217</td>\n",
              "      <td>0.967072</td>\n",
              "    </tr>\n",
              "    <tr>\n",
              "      <th>MAE</th>\n",
              "      <td>400.892670</td>\n",
              "      <td>386.545837</td>\n",
              "      <td>376.181641</td>\n",
              "      <td>373.323547</td>\n",
              "      <td>373.274597</td>\n",
              "      <td>372.508209</td>\n",
              "      <td>372.912079</td>\n",
              "      <td>373.860382</td>\n",
              "    </tr>\n",
              "    <tr>\n",
              "      <th>MSE</th>\n",
              "      <td>573128.000000</td>\n",
              "      <td>532604.375000</td>\n",
              "      <td>514472.000000</td>\n",
              "      <td>512615.843750</td>\n",
              "      <td>508010.312500</td>\n",
              "      <td>507384.687500</td>\n",
              "      <td>509404.312500</td>\n",
              "      <td>511659.281250</td>\n",
              "    </tr>\n",
              "  </tbody>\n",
              "</table>\n",
              "</div>"
            ],
            "text/plain": [
              "                  2              3   ...             13             16\n",
              "R-sqr       0.963116       0.965724  ...       0.967217       0.967072\n",
              "MAE       400.892670     386.545837  ...     372.912079     373.860382\n",
              "MSE    573128.000000  532604.375000  ...  509404.312500  511659.281250\n",
              "\n",
              "[3 rows x 8 columns]"
            ]
          },
          "metadata": {
            "tags": []
          }
        }
      ]
    },
    {
      "cell_type": "markdown",
      "metadata": {
        "id": "MA2kN7dL0wjE"
      },
      "source": [
        "4.  a) Choose different K values (k=2,3,5,7,11,16) and experiment. Plot a graph showing R2 score vs k."
      ]
    },
    {
      "cell_type": "code",
      "metadata": {
        "id": "Z3VSKWrU3KBT",
        "colab": {
          "base_uri": "https://localhost:8080/",
          "height": 624
        },
        "outputId": "8f641f6b-060a-48ac-ef82-1083cb83042a"
      },
      "source": [
        "# plot\n",
        "\n",
        "print(\"Weighted Mean\")\n",
        "rsqs = []\n",
        "for a,b in alldist_wm_score_dict.items():\n",
        "    rs = []\n",
        "    for p,q in b.items():\n",
        "        rs.append(q['R-sqr'])\n",
        "    rsqs.append(rs)\n",
        "\n",
        "plt.plot(Ks_list, rsqs[0], label = \"Hamming\", color='blue', markersize=5, marker='o',markerfacecolor='blue')\n",
        "plt.plot(Ks_list, rsqs[1], label = \"Manhattan\", color='red', markersize=5, marker='o',markerfacecolor='red')\n",
        "plt.plot(Ks_list, rsqs[2], label = \"Euclidean\", color='green', markersize=5, marker='o',markerfacecolor='green')\n",
        "plt.xlabel('K values')\n",
        "plt.ylabel('R-squared scores')\n",
        "plt.title('Comparison of distance measures')\n",
        "plt.legend()\n",
        "plt.show()\n",
        "\n",
        "print(\"\\nSimple Mean\")\n",
        "rsqs = []\n",
        "for a,b in alldist_sm_score_dict.items():\n",
        "    rs = []\n",
        "    for p,q in b.items():\n",
        "        rs.append(q['R-sqr'])\n",
        "    rsqs.append(rs)\n",
        "\n",
        "plt.plot(Ks_list, rsqs[0], label = \"Hamming\", color='blue', markersize=5, marker='o',markerfacecolor='blue')\n",
        "plt.plot(Ks_list, rsqs[1], label = \"Manhattan\", color='red', markersize=5, marker='o',markerfacecolor='red')\n",
        "plt.plot(Ks_list, rsqs[2], label = \"Euclidean\", color='green', markersize=5, marker='o',markerfacecolor='green')\n",
        "plt.xlabel('K values')\n",
        "plt.ylabel('R-squared scores')\n",
        "plt.title('Comparison of distance measures')\n",
        "plt.legend()\n",
        "plt.show()"
      ],
      "execution_count": null,
      "outputs": [
        {
          "output_type": "stream",
          "text": [
            "Weighted Mean\n"
          ],
          "name": "stdout"
        },
        {
          "output_type": "display_data",
          "data": {
            "image/png": "[encoded data removed]",
            "text/plain": [
              "<Figure size 432x288 with 1 Axes>"
            ]
          },
          "metadata": {
            "tags": [],
            "needs_background": "light"
          }
        },
        {
          "output_type": "stream",
          "text": [
            "\n",
            "Simple Mean\n"
          ],
          "name": "stdout"
        },
        {
          "output_type": "display_data",
          "data": {
            "image/png": "[encoded data removed]",
            "text/plain": [
              "<Figure size 432x288 with 1 Axes>"
            ]
          },
          "metadata": {
            "tags": [],
            "needs_background": "light"
          }
        }
      ]
    },
    {
      "cell_type": "markdown",
      "metadata": {
        "id": "xgkHg7QL1mzy"
      },
      "source": [
        "4. b) Are the R-squared scores the same? Why / Why not? How do we identify the best K? Suggest a computational procedure, with a logical explanation.\n",
        "\n",
        "Here, we observe that the R2 scores are not same but close to each other for the given Ks. The better way to choose the best K would be N-fold cross validation, where the dataset is equally divided into N partitions and the model with a particular K is validated on 1 of the N partitions and trained on the remaining until all partitions are once used for validation and the we take the average validation score. We repeat this process for each K and chose the K which gives best average accuracy.\n",
        "\n",
        "Procedure:  \n",
        "1) Shuffle the dataset randomly  \n",
        "2) Split the dataset into N groups  \n",
        "3) For each unique group:  \n",
        "&nbsp;&nbsp;&nbsp;&nbsp;3a) Take the group as a hold out or test data set  \n",
        "&nbsp;&nbsp;&nbsp;&nbsp;3b) Take the remaining groups as a training data set  \n",
        "&nbsp;&nbsp;&nbsp;&nbsp;3c) Fit a model on the training set and evaluate it on the test set  \n",
        "&nbsp;&nbsp;&nbsp;&nbsp;3d) Retain the evaluation score and discard the model  \n",
        "4) Summarize the skill of the model using the sample of model evaluation scores  \n",
        "\n",
        "This procedure is implemented below for KNN classification"
      ]
    },
    {
      "cell_type": "markdown",
      "metadata": {
        "id": "Psho4dHI1wXb"
      },
      "source": [
        "5. a) Also, report the performance of scikit-learn’s kNN regression algorithm.  "
      ]
    },
    {
      "cell_type": "code",
      "metadata": {
        "id": "XmBOqvrm3Lkf",
        "colab": {
          "base_uri": "https://localhost:8080/",
          "height": 853
        },
        "outputId": "7ead8b7d-5312-4178-a697-0e9091a47e27"
      },
      "source": [
        "# scikit-learn KNN Regressor\n",
        "\n",
        "## Standardized dataset gives best accuracy, so we use it further\n",
        "\n",
        "'''For weighted mean'''\n",
        "skl_alldist_wm_score_dict = {}\n",
        "\n",
        "for algo in ['brute','kd_tree','ball_tree']:\n",
        "    skl_alldist_wm_score_dict[algo] = {}\n",
        "    for p in range(1,3):\n",
        "        temp_dict = {}\n",
        "        for k in Ks_list:\n",
        "            neigh = KNeighborsRegressor(n_neighbors=k,weights='distance',algorithm=algo,p=p)\n",
        "            neigh.fit(X_train_std, y_train)\n",
        "            sknnpred = neigh.predict(X_test_std)\n",
        "            temp_dict[k] = r2_score(y_test, sknnpred)\n",
        "        skl_alldist_wm_score_dict[algo]['p'+str(p)] = temp_dict\n",
        "\n",
        "print(\"******Weighted Mean******\")\n",
        "print(\"\\nBrute force algorithm\")\n",
        "display(pd.DataFrame(skl_alldist_wm_score_dict['brute']).T)\n",
        "print(\"\\nKD-tree algorithm\")\n",
        "display(pd.DataFrame(skl_alldist_wm_score_dict['kd_tree']).T)\n",
        "print(\"\\nBall-tree algorithm\")\n",
        "display(pd.DataFrame(skl_alldist_wm_score_dict['ball_tree']).T)\n",
        "\n",
        "\n",
        "'''For simple mean'''\n",
        "skl_alldist_sm_score_dict = {}\n",
        "\n",
        "for algo in ['brute','kd_tree','ball_tree']:\n",
        "    skl_alldist_sm_score_dict[algo] = {}\n",
        "    for p in range(1,3):\n",
        "        temp_dict = {}\n",
        "        for k in Ks_list:\n",
        "            neigh = KNeighborsRegressor(n_neighbors=k,weights='uniform',algorithm=algo,p=p)\n",
        "            neigh.fit(X_train_std, y_train)\n",
        "            sknnpred = neigh.predict(X_test_std)\n",
        "            temp_dict[k] = r2_score(y_test, sknnpred)\n",
        "        skl_alldist_sm_score_dict[algo]['p'+str(p)] = temp_dict\n",
        "\n",
        "print(\"\\n\\n******Simple Mean******\")\n",
        "print(\"\\nBrute force algorithm\")\n",
        "display(pd.DataFrame(skl_alldist_sm_score_dict['brute']).T)\n",
        "print(\"\\nKD-tree algorithm\")\n",
        "display(pd.DataFrame(skl_alldist_sm_score_dict['kd_tree']).T)\n",
        "print(\"\\nBall-tree algorithm\")\n",
        "display(pd.DataFrame(skl_alldist_sm_score_dict['ball_tree']).T)\n"
      ],
      "execution_count": null,
      "outputs": [
        {
          "output_type": "stream",
          "text": [
            "******Weighted Mean******\n",
            "\n",
            "Brute force algorithm\n"
          ],
          "name": "stdout"
        },
        {
          "output_type": "display_data",
          "data": {
            "text/html": [
              "<div>\n",
              "<style scoped>\n",
              "    .dataframe tbody tr th:only-of-type {\n",
              "        vertical-align: middle;\n",
              "    }\n",
              "\n",
              "    .dataframe tbody tr th {\n",
              "        vertical-align: top;\n",
              "    }\n",
              "\n",
              "    .dataframe thead th {\n",
              "        text-align: right;\n",
              "    }\n",
              "</style>\n",
              "<table border=\"1\" class=\"dataframe\">\n",
              "  <thead>\n",
              "    <tr style=\"text-align: right;\">\n",
              "      <th></th>\n",
              "      <th>2</th>\n",
              "      <th>3</th>\n",
              "      <th>5</th>\n",
              "      <th>7</th>\n",
              "      <th>9</th>\n",
              "      <th>11</th>\n",
              "      <th>13</th>\n",
              "      <th>16</th>\n",
              "    </tr>\n",
              "  </thead>\n",
              "  <tbody>\n",
              "    <tr>\n",
              "      <th>p1</th>\n",
              "      <td>0.966896</td>\n",
              "      <td>0.970197</td>\n",
              "      <td>0.972537</td>\n",
              "      <td>0.974259</td>\n",
              "      <td>0.974579</td>\n",
              "      <td>0.974534</td>\n",
              "      <td>0.974375</td>\n",
              "      <td>0.974116</td>\n",
              "    </tr>\n",
              "    <tr>\n",
              "      <th>p2</th>\n",
              "      <td>0.964382</td>\n",
              "      <td>0.967987</td>\n",
              "      <td>0.969888</td>\n",
              "      <td>0.970120</td>\n",
              "      <td>0.970520</td>\n",
              "      <td>0.970580</td>\n",
              "      <td>0.970417</td>\n",
              "      <td>0.970231</td>\n",
              "    </tr>\n",
              "  </tbody>\n",
              "</table>\n",
              "</div>"
            ],
            "text/plain": [
              "          2         3         5   ...        11        13        16\n",
              "p1  0.966896  0.970197  0.972537  ...  0.974534  0.974375  0.974116\n",
              "p2  0.964382  0.967987  0.969888  ...  0.970580  0.970417  0.970231\n",
              "\n",
              "[2 rows x 8 columns]"
            ]
          },
          "metadata": {
            "tags": []
          }
        },
        {
          "output_type": "stream",
          "text": [
            "\n",
            "KD-tree algorithm\n"
          ],
          "name": "stdout"
        },
        {
          "output_type": "display_data",
          "data": {
            "text/html": [
              "<div>\n",
              "<style scoped>\n",
              "    .dataframe tbody tr th:only-of-type {\n",
              "        vertical-align: middle;\n",
              "    }\n",
              "\n",
              "    .dataframe tbody tr th {\n",
              "        vertical-align: top;\n",
              "    }\n",
              "\n",
              "    .dataframe thead th {\n",
              "        text-align: right;\n",
              "    }\n",
              "</style>\n",
              "<table border=\"1\" class=\"dataframe\">\n",
              "  <thead>\n",
              "    <tr style=\"text-align: right;\">\n",
              "      <th></th>\n",
              "      <th>2</th>\n",
              "      <th>3</th>\n",
              "      <th>5</th>\n",
              "      <th>7</th>\n",
              "      <th>9</th>\n",
              "      <th>11</th>\n",
              "      <th>13</th>\n",
              "      <th>16</th>\n",
              "    </tr>\n",
              "  </thead>\n",
              "  <tbody>\n",
              "    <tr>\n",
              "      <th>p1</th>\n",
              "      <td>0.966893</td>\n",
              "      <td>0.970197</td>\n",
              "      <td>0.972544</td>\n",
              "      <td>0.974259</td>\n",
              "      <td>0.97458</td>\n",
              "      <td>0.974534</td>\n",
              "      <td>0.974375</td>\n",
              "      <td>0.974116</td>\n",
              "    </tr>\n",
              "    <tr>\n",
              "      <th>p2</th>\n",
              "      <td>0.964379</td>\n",
              "      <td>0.967992</td>\n",
              "      <td>0.969894</td>\n",
              "      <td>0.970121</td>\n",
              "      <td>0.97052</td>\n",
              "      <td>0.970585</td>\n",
              "      <td>0.970417</td>\n",
              "      <td>0.970230</td>\n",
              "    </tr>\n",
              "  </tbody>\n",
              "</table>\n",
              "</div>"
            ],
            "text/plain": [
              "          2         3         5   ...        11        13        16\n",
              "p1  0.966893  0.970197  0.972544  ...  0.974534  0.974375  0.974116\n",
              "p2  0.964379  0.967992  0.969894  ...  0.970585  0.970417  0.970230\n",
              "\n",
              "[2 rows x 8 columns]"
            ]
          },
          "metadata": {
            "tags": []
          }
        },
        {
          "output_type": "stream",
          "text": [
            "\n",
            "Ball-tree algorithm\n"
          ],
          "name": "stdout"
        },
        {
          "output_type": "display_data",
          "data": {
            "text/html": [
              "<div>\n",
              "<style scoped>\n",
              "    .dataframe tbody tr th:only-of-type {\n",
              "        vertical-align: middle;\n",
              "    }\n",
              "\n",
              "    .dataframe tbody tr th {\n",
              "        vertical-align: top;\n",
              "    }\n",
              "\n",
              "    .dataframe thead th {\n",
              "        text-align: right;\n",
              "    }\n",
              "</style>\n",
              "<table border=\"1\" class=\"dataframe\">\n",
              "  <thead>\n",
              "    <tr style=\"text-align: right;\">\n",
              "      <th></th>\n",
              "      <th>2</th>\n",
              "      <th>3</th>\n",
              "      <th>5</th>\n",
              "      <th>7</th>\n",
              "      <th>9</th>\n",
              "      <th>11</th>\n",
              "      <th>13</th>\n",
              "      <th>16</th>\n",
              "    </tr>\n",
              "  </thead>\n",
              "  <tbody>\n",
              "    <tr>\n",
              "      <th>p1</th>\n",
              "      <td>0.966892</td>\n",
              "      <td>0.970196</td>\n",
              "      <td>0.972544</td>\n",
              "      <td>0.974258</td>\n",
              "      <td>0.974580</td>\n",
              "      <td>0.974534</td>\n",
              "      <td>0.974375</td>\n",
              "      <td>0.974116</td>\n",
              "    </tr>\n",
              "    <tr>\n",
              "      <th>p2</th>\n",
              "      <td>0.964378</td>\n",
              "      <td>0.967990</td>\n",
              "      <td>0.969893</td>\n",
              "      <td>0.970122</td>\n",
              "      <td>0.970518</td>\n",
              "      <td>0.970584</td>\n",
              "      <td>0.970418</td>\n",
              "      <td>0.970230</td>\n",
              "    </tr>\n",
              "  </tbody>\n",
              "</table>\n",
              "</div>"
            ],
            "text/plain": [
              "          2         3         5   ...        11        13        16\n",
              "p1  0.966892  0.970196  0.972544  ...  0.974534  0.974375  0.974116\n",
              "p2  0.964378  0.967990  0.969893  ...  0.970584  0.970418  0.970230\n",
              "\n",
              "[2 rows x 8 columns]"
            ]
          },
          "metadata": {
            "tags": []
          }
        },
        {
          "output_type": "stream",
          "text": [
            "\n",
            "\n",
            "******Simple Mean******\n",
            "\n",
            "Brute force algorithm\n"
          ],
          "name": "stdout"
        },
        {
          "output_type": "display_data",
          "data": {
            "text/html": [
              "<div>\n",
              "<style scoped>\n",
              "    .dataframe tbody tr th:only-of-type {\n",
              "        vertical-align: middle;\n",
              "    }\n",
              "\n",
              "    .dataframe tbody tr th {\n",
              "        vertical-align: top;\n",
              "    }\n",
              "\n",
              "    .dataframe thead th {\n",
              "        text-align: right;\n",
              "    }\n",
              "</style>\n",
              "<table border=\"1\" class=\"dataframe\">\n",
              "  <thead>\n",
              "    <tr style=\"text-align: right;\">\n",
              "      <th></th>\n",
              "      <th>2</th>\n",
              "      <th>3</th>\n",
              "      <th>5</th>\n",
              "      <th>7</th>\n",
              "      <th>9</th>\n",
              "      <th>11</th>\n",
              "      <th>13</th>\n",
              "      <th>16</th>\n",
              "    </tr>\n",
              "  </thead>\n",
              "  <tbody>\n",
              "    <tr>\n",
              "      <th>p1</th>\n",
              "      <td>0.965283</td>\n",
              "      <td>0.968129</td>\n",
              "      <td>0.969802</td>\n",
              "      <td>0.971710</td>\n",
              "      <td>0.971863</td>\n",
              "      <td>0.971912</td>\n",
              "      <td>0.971753</td>\n",
              "      <td>0.971374</td>\n",
              "    </tr>\n",
              "    <tr>\n",
              "      <th>p2</th>\n",
              "      <td>0.963112</td>\n",
              "      <td>0.965722</td>\n",
              "      <td>0.966881</td>\n",
              "      <td>0.967007</td>\n",
              "      <td>0.967307</td>\n",
              "      <td>0.967346</td>\n",
              "      <td>0.967217</td>\n",
              "      <td>0.967072</td>\n",
              "    </tr>\n",
              "  </tbody>\n",
              "</table>\n",
              "</div>"
            ],
            "text/plain": [
              "          2         3         5   ...        11        13        16\n",
              "p1  0.965283  0.968129  0.969802  ...  0.971912  0.971753  0.971374\n",
              "p2  0.963112  0.965722  0.966881  ...  0.967346  0.967217  0.967072\n",
              "\n",
              "[2 rows x 8 columns]"
            ]
          },
          "metadata": {
            "tags": []
          }
        },
        {
          "output_type": "stream",
          "text": [
            "\n",
            "KD-tree algorithm\n"
          ],
          "name": "stdout"
        },
        {
          "output_type": "display_data",
          "data": {
            "text/html": [
              "<div>\n",
              "<style scoped>\n",
              "    .dataframe tbody tr th:only-of-type {\n",
              "        vertical-align: middle;\n",
              "    }\n",
              "\n",
              "    .dataframe tbody tr th {\n",
              "        vertical-align: top;\n",
              "    }\n",
              "\n",
              "    .dataframe thead th {\n",
              "        text-align: right;\n",
              "    }\n",
              "</style>\n",
              "<table border=\"1\" class=\"dataframe\">\n",
              "  <thead>\n",
              "    <tr style=\"text-align: right;\">\n",
              "      <th></th>\n",
              "      <th>2</th>\n",
              "      <th>3</th>\n",
              "      <th>5</th>\n",
              "      <th>7</th>\n",
              "      <th>9</th>\n",
              "      <th>11</th>\n",
              "      <th>13</th>\n",
              "      <th>16</th>\n",
              "    </tr>\n",
              "  </thead>\n",
              "  <tbody>\n",
              "    <tr>\n",
              "      <th>p1</th>\n",
              "      <td>0.965280</td>\n",
              "      <td>0.968129</td>\n",
              "      <td>0.969815</td>\n",
              "      <td>0.971709</td>\n",
              "      <td>0.971864</td>\n",
              "      <td>0.971912</td>\n",
              "      <td>0.971753</td>\n",
              "      <td>0.971375</td>\n",
              "    </tr>\n",
              "    <tr>\n",
              "      <th>p2</th>\n",
              "      <td>0.963109</td>\n",
              "      <td>0.965727</td>\n",
              "      <td>0.966891</td>\n",
              "      <td>0.967008</td>\n",
              "      <td>0.967308</td>\n",
              "      <td>0.967352</td>\n",
              "      <td>0.967217</td>\n",
              "      <td>0.967072</td>\n",
              "    </tr>\n",
              "  </tbody>\n",
              "</table>\n",
              "</div>"
            ],
            "text/plain": [
              "          2         3         5   ...        11        13        16\n",
              "p1  0.965280  0.968129  0.969815  ...  0.971912  0.971753  0.971375\n",
              "p2  0.963109  0.965727  0.966891  ...  0.967352  0.967217  0.967072\n",
              "\n",
              "[2 rows x 8 columns]"
            ]
          },
          "metadata": {
            "tags": []
          }
        },
        {
          "output_type": "stream",
          "text": [
            "\n",
            "Ball-tree algorithm\n"
          ],
          "name": "stdout"
        },
        {
          "output_type": "display_data",
          "data": {
            "text/html": [
              "<div>\n",
              "<style scoped>\n",
              "    .dataframe tbody tr th:only-of-type {\n",
              "        vertical-align: middle;\n",
              "    }\n",
              "\n",
              "    .dataframe tbody tr th {\n",
              "        vertical-align: top;\n",
              "    }\n",
              "\n",
              "    .dataframe thead th {\n",
              "        text-align: right;\n",
              "    }\n",
              "</style>\n",
              "<table border=\"1\" class=\"dataframe\">\n",
              "  <thead>\n",
              "    <tr style=\"text-align: right;\">\n",
              "      <th></th>\n",
              "      <th>2</th>\n",
              "      <th>3</th>\n",
              "      <th>5</th>\n",
              "      <th>7</th>\n",
              "      <th>9</th>\n",
              "      <th>11</th>\n",
              "      <th>13</th>\n",
              "      <th>16</th>\n",
              "    </tr>\n",
              "  </thead>\n",
              "  <tbody>\n",
              "    <tr>\n",
              "      <th>p1</th>\n",
              "      <td>0.965279</td>\n",
              "      <td>0.968125</td>\n",
              "      <td>0.969815</td>\n",
              "      <td>0.971709</td>\n",
              "      <td>0.971864</td>\n",
              "      <td>0.971913</td>\n",
              "      <td>0.971753</td>\n",
              "      <td>0.971375</td>\n",
              "    </tr>\n",
              "    <tr>\n",
              "      <th>p2</th>\n",
              "      <td>0.963109</td>\n",
              "      <td>0.965725</td>\n",
              "      <td>0.966890</td>\n",
              "      <td>0.967009</td>\n",
              "      <td>0.967305</td>\n",
              "      <td>0.967352</td>\n",
              "      <td>0.967217</td>\n",
              "      <td>0.967072</td>\n",
              "    </tr>\n",
              "  </tbody>\n",
              "</table>\n",
              "</div>"
            ],
            "text/plain": [
              "          2         3         5   ...        11        13        16\n",
              "p1  0.965279  0.968125  0.969815  ...  0.971913  0.971753  0.971375\n",
              "p2  0.963109  0.965725  0.966890  ...  0.967352  0.967217  0.967072\n",
              "\n",
              "[2 rows x 8 columns]"
            ]
          },
          "metadata": {
            "tags": []
          }
        }
      ]
    },
    {
      "cell_type": "markdown",
      "metadata": {
        "id": "R7ZzdSUu2Iez"
      },
      "source": [
        "5. b) Compare it with the algorithm you built. [ you can use complexities, R2 score etc..]"
      ]
    },
    {
      "cell_type": "code",
      "metadata": {
        "id": "hmi9rZDF3MNB",
        "colab": {
          "base_uri": "https://localhost:8080/",
          "height": 290
        },
        "outputId": "15bdc6bd-8f68-4dcc-aa37-03ddb260c629"
      },
      "source": [
        "# Comparison\n",
        "\n",
        "print(\"We consider k=11, as it performs well on our model and compare the R-squared scores below with SKlearn's brute force algorithm\")\n",
        "\n",
        "p_dist_map = {'p0':'Hamming','p1':'Manhattan','p2':'Euclidean'}\n",
        "\n",
        "'''Weighted Mean'''\n",
        "myskl_cmp_dist_wm_dict = {'Manhattan':{}, 'Euclidean':{}}\n",
        "\n",
        "for a,b in alldist_wm_score_dict.items():\n",
        "    if(a=='p0'):\n",
        "        continue\n",
        "    myskl_cmp_dist_wm_dict[p_dist_map[a]]['Our KNN'] = b[11]['R-sqr']\n",
        "\n",
        "for a,b in skl_alldist_wm_score_dict.items():\n",
        "    for p,q in b.items():\n",
        "        myskl_cmp_dist_wm_dict[p_dist_map[p]]['SKlearn'] = q[11]\n",
        "        myskl_cmp_dist_wm_dict[p_dist_map[p]]['Difference'] = np.float32(myskl_cmp_dist_wm_dict[p_dist_map[p]]['Our KNN'] - q[11])\n",
        "\n",
        "print(\"\\n****** Weighted Mean, K=11 *******\")\n",
        "display(pd.DataFrame(myskl_cmp_dist_wm_dict).T)\n",
        "\n",
        "\n",
        "'''Simple Mean'''\n",
        "myskl_cmp_dist_sm_dict = {'Manhattan':{}, 'Euclidean':{}}\n",
        "\n",
        "for a,b in alldist_sm_score_dict.items():\n",
        "    if(a=='p0'):\n",
        "        continue\n",
        "    myskl_cmp_dist_sm_dict[p_dist_map[a]]['Our KNN'] = b[11]['R-sqr']\n",
        "\n",
        "for a,b in skl_alldist_sm_score_dict['brute'].items():\n",
        "    myskl_cmp_dist_sm_dict[p_dist_map[a]]['SKlearn'] = b[11]\n",
        "    myskl_cmp_dist_sm_dict[p_dist_map[a]]['Difference'] = np.float32(myskl_cmp_dist_sm_dict[p_dist_map[p]]['Our KNN'] - b[11])\n",
        "\n",
        "print(\"\\n****** Simple Mean, K=11 *******\")\n",
        "display(pd.DataFrame(myskl_cmp_dist_sm_dict).T)"
      ],
      "execution_count": null,
      "outputs": [
        {
          "output_type": "stream",
          "text": [
            "We consider k=11, as it performs well on our model and compare the R-squared scores below with SKlearn's brute force algorithm\n",
            "\n",
            "****** Weighted Mean, K=11 *******\n"
          ],
          "name": "stdout"
        },
        {
          "output_type": "display_data",
          "data": {
            "text/html": [
              "<div>\n",
              "<style scoped>\n",
              "    .dataframe tbody tr th:only-of-type {\n",
              "        vertical-align: middle;\n",
              "    }\n",
              "\n",
              "    .dataframe tbody tr th {\n",
              "        vertical-align: top;\n",
              "    }\n",
              "\n",
              "    .dataframe thead th {\n",
              "        text-align: right;\n",
              "    }\n",
              "</style>\n",
              "<table border=\"1\" class=\"dataframe\">\n",
              "  <thead>\n",
              "    <tr style=\"text-align: right;\">\n",
              "      <th></th>\n",
              "      <th>Our KNN</th>\n",
              "      <th>SKlearn</th>\n",
              "      <th>Difference</th>\n",
              "    </tr>\n",
              "  </thead>\n",
              "  <tbody>\n",
              "    <tr>\n",
              "      <th>Manhattan</th>\n",
              "      <td>0.974534</td>\n",
              "      <td>0.974534</td>\n",
              "      <td>-2.161515e-07</td>\n",
              "    </tr>\n",
              "    <tr>\n",
              "      <th>Euclidean</th>\n",
              "      <td>0.970580</td>\n",
              "      <td>0.970584</td>\n",
              "      <td>-4.276119e-06</td>\n",
              "    </tr>\n",
              "  </tbody>\n",
              "</table>\n",
              "</div>"
            ],
            "text/plain": [
              "            Our KNN   SKlearn    Difference\n",
              "Manhattan  0.974534  0.974534 -2.161515e-07\n",
              "Euclidean  0.970580  0.970584 -4.276119e-06"
            ]
          },
          "metadata": {
            "tags": []
          }
        },
        {
          "output_type": "stream",
          "text": [
            "\n",
            "****** Simple Mean, K=11 *******\n"
          ],
          "name": "stdout"
        },
        {
          "output_type": "display_data",
          "data": {
            "text/html": [
              "<div>\n",
              "<style scoped>\n",
              "    .dataframe tbody tr th:only-of-type {\n",
              "        vertical-align: middle;\n",
              "    }\n",
              "\n",
              "    .dataframe tbody tr th {\n",
              "        vertical-align: top;\n",
              "    }\n",
              "\n",
              "    .dataframe thead th {\n",
              "        text-align: right;\n",
              "    }\n",
              "</style>\n",
              "<table border=\"1\" class=\"dataframe\">\n",
              "  <thead>\n",
              "    <tr style=\"text-align: right;\">\n",
              "      <th></th>\n",
              "      <th>Our KNN</th>\n",
              "      <th>SKlearn</th>\n",
              "      <th>Difference</th>\n",
              "    </tr>\n",
              "  </thead>\n",
              "  <tbody>\n",
              "    <tr>\n",
              "      <th>Manhattan</th>\n",
              "      <td>0.971912</td>\n",
              "      <td>0.971912</td>\n",
              "      <td>-4.564956e-03</td>\n",
              "    </tr>\n",
              "    <tr>\n",
              "      <th>Euclidean</th>\n",
              "      <td>0.967347</td>\n",
              "      <td>0.967346</td>\n",
              "      <td>5.369756e-07</td>\n",
              "    </tr>\n",
              "  </tbody>\n",
              "</table>\n",
              "</div>"
            ],
            "text/plain": [
              "            Our KNN   SKlearn    Difference\n",
              "Manhattan  0.971912  0.971912 -4.564956e-03\n",
              "Euclidean  0.967347  0.967346  5.369756e-07"
            ]
          },
          "metadata": {
            "tags": []
          }
        }
      ]
    },
    {
      "cell_type": "markdown",
      "metadata": {
        "id": "Xa-vbZfY2OFO"
      },
      "source": [
        "6. From the above experiments, what do you think are advantages and disadvantages of the knn regression algorithm?\n",
        "\n",
        "Advantages:  \n",
        "1) There is no training required. It just stores the training instances to further calculate distances during test time  \n",
        "2) New training data can be easily added  \n",
        "3) KNN is a non-parametric model (eg. no learning rate, etc)  \n",
        "4) It is intuitive, as it considers only nearest neighbours for predicting which is many times true in real world and this method is similar to as what humans predict things  \n",
        "5) It is easy to understand and implement\n",
        "\n",
        "Disadvantages:  \n",
        "1) If the dataset is very large, calculating distances between the test point and every training point becomes expensive and time consuming  \n",
        "2) If the right feature scaling method is not chosen the KNN would not be able to calculate distances correctly  \n",
        "3) KNN is sensitive to noise and outliers as one wrong point can lead to wrong result if it is found to be closest to the test point  \n",
        "4) N-fold cross validation becomes very expensive as we need to repeat the process several times\n"
      ]
    },
    {
      "cell_type": "markdown",
      "metadata": {
        "id": "NlPGwmq2elOR"
      },
      "source": [
        "# **2)** **Linear Regression**\n",
        "\n",
        "Dataset - same as above (Diamond Price Detection)\n"
      ]
    },
    {
      "cell_type": "markdown",
      "metadata": {
        "id": "DB9Co3225uTa"
      },
      "source": [
        "2a) Implement a Linear Regression model (from the scratch) taking suitable independent variables from the dataset. \n",
        "\n",
        "Report and Calculate the error obtained.\n"
      ]
    },
    {
      "cell_type": "code",
      "metadata": {
        "id": "NXHHJyQ3naEZ"
      },
      "source": [
        "import pandas as pd\n",
        "import numpy as np\n",
        "from sklearn.model_selection import train_test_split\n",
        "from sklearn.preprocessing import StandardScaler\n",
        "from sklearn.preprocessing import Normalizer\n",
        "from sklearn.metrics import r2_score, mean_absolute_error, mean_squared_error\n",
        "import seaborn as sns\n",
        "import matplotlib.pyplot as plt\n",
        "from sklearn.linear_model import LinearRegression"
      ],
      "execution_count": null,
      "outputs": []
    },
    {
      "cell_type": "code",
      "metadata": {
        "id": "wsckTq4zzxnx",
        "colab": {
          "base_uri": "https://localhost:8080/"
        },
        "outputId": "f7e4c4ba-6881-4a4d-ca19-8c2c251e84d9"
      },
      "source": [
        "'''To read data from diamonds.csv'''\n",
        "headers = [\"carat\",\t\"cut\",\"color\",\"clarity\",\"depth\",\"table\",\"price\",\"x\",\"y\",\"z\"]\n",
        "data = pd.read_csv('Regression_Diamonds_data/diamonds.csv', na_values=np.NaN,    \n",
        "         header=None,  names = headers) \n",
        "data = data.reset_index(drop=True)\n",
        "data = data.iloc[1:]\n",
        "'''Convert categorical attributes to numeric'''\n",
        "cat_to_num = {\"cut\":{\"Fair\":0, \"Good\":1, \"Very Good\":2, \"Premium\":3, \"Ideal\":4}, \n",
        "              \"clarity\":{\"I1\":0, \"SI2\":1, \"SI1\":2, \"VS2\":3, \"VS1\":4, \"VVS2\":5, \"VVS1\":6, \"IF\":7},\n",
        "              \"color\":{\"J\":0, \"I\":1, \"H\":2, \"G\":3, \"F\":4, \"E\":5, \"D\":6}}\n",
        "data = data.replace(cat_to_num)\n",
        "print(data.head())\n",
        "for h in headers:\n",
        "    data[h] = pd.to_numeric(data[h],downcast='float')\n",
        "X = data.drop('price', axis=1)\n",
        "y = data.price\n",
        "\n",
        "X_train_df, X_test_df, y_train_df, y_test_df = train_test_split(X, y, test_size=0.20,random_state=1)\n",
        "X_train_org = np.array(X_train_df)\n",
        "X_test_org = np.array(X_test_df)\n",
        "y_train = np.array(y_train_df)\n",
        "y_test = np.array(y_test_df)\n",
        "\n",
        "'''Standardize data'''\n",
        "scaler = StandardScaler()\n",
        "X_train_std = scaler.fit_transform(X_train_org)\n",
        "X_test_std = scaler.transform(X_test_org)"
      ],
      "execution_count": null,
      "outputs": [
        {
          "output_type": "stream",
          "text": [
            "  carat  cut  color  clarity depth table price     x     y     z\n",
            "1  0.23    4      5        1  61.5    55   326  3.95  3.98  2.43\n",
            "2  0.21    3      5        2  59.8    61   326  3.89  3.84  2.31\n",
            "3  0.23    1      5        4  56.9    65   327  4.05  4.07  2.31\n",
            "4  0.29    3      1        3  62.4    58   334   4.2  4.23  2.63\n",
            "5  0.31    1      0        1  63.3    58   335  4.34  4.35  2.75\n"
          ],
          "name": "stdout"
        }
      ]
    },
    {
      "cell_type": "code",
      "metadata": {
        "id": "g1-5E2tTnwpy"
      },
      "source": [
        "class LinearRegressor():\n",
        "    def __init__(self, lr, itrs):\n",
        "        self.lr = lr\n",
        "        self.itrs = itrs\n",
        "        self.W = None\n",
        "\n",
        "    def GD_fit(self, X, Y, test_x, test_y):\n",
        "        X = np.c_[np.ones(X.shape[0]), X]\n",
        "        test_x = np.c_[np.ones(test_x.shape[0]), test_x]\n",
        "        n, f = np.shape(X)\n",
        "        self.W = np.ones(f)\n",
        "        mae_arr = []\n",
        "        for i in range(self.itrs):\n",
        "            errs = np.dot(X,self.W) - Y\n",
        "            cost = np.sum(errs**2) / (2*n)\n",
        "            gradient = np.dot(X.T, errs) / n\n",
        "            self.W = self.W-self.lr*gradient\n",
        "            if i % 5 == 0:\n",
        "                pred_y = self.predict(test_x)\n",
        "                mae = mean_absolute_error(pred_y,test_y)\n",
        "                mae_arr.append([i,mae])\n",
        "        return np.array(mae_arr)\n",
        "\n",
        "    def predict(self, x, cat=False):\n",
        "        if cat:\n",
        "            x = np.c_[np.ones(x.shape[0]), x]\n",
        "        return np.dot(x, self.W)"
      ],
      "execution_count": null,
      "outputs": []
    },
    {
      "cell_type": "markdown",
      "metadata": {
        "id": "j2QNr2JbuEMD"
      },
      "source": [
        "Here,  we first try out linear regression model on all features. The following graph shows the validation MAE during training. The following parameters are chosen after a number of experiments\n",
        "\n",
        "Iterations: 1000  \n",
        "Learing rate: 0.2\n"
      ]
    },
    {
      "cell_type": "code",
      "metadata": {
        "colab": {
          "base_uri": "https://localhost:8080/",
          "height": 363
        },
        "id": "bWtLhdTCoBfw",
        "outputId": "8ef5ef9b-4f03-412a-9b9e-c36d62fc8765"
      },
      "source": [
        "itrs = 1000\n",
        "lrgd = LinearRegressor(0.2,itrs=itrs)\n",
        "mae_hist = lrgd.GD_fit(X_train_std, y_train, X_test_std, y_test)\n",
        "lrg_pred_y = lrgd.predict(X_test_std,True)\n",
        "\n",
        "print(\"Linear Regression on entire dataset (all features)\")\n",
        "print(\"R2 Score:\",r2_score(lrg_pred_y,y_test))\n",
        "print(\"MAE :\",mean_absolute_error(lrg_pred_y,y_test))\n",
        "print(\"MSE :\",mean_squared_error(lrg_pred_y,y_test))\n",
        "\n",
        "\n",
        "plt.plot(mae_hist[:,0], mae_hist[:,1], label = \"MAE\", color='blue')\n",
        "plt.xlabel('Iterations')\n",
        "plt.ylabel('MAE')\n",
        "plt.title('MAE Plot for all features')\n",
        "plt.legend()\n",
        "plt.show()"
      ],
      "execution_count": null,
      "outputs": [
        {
          "output_type": "stream",
          "text": [
            "Linear Regression on entire dataset (all features)\n",
            "R2 Score: 0.8976466582346719\n",
            "MAE : 800.1821752094139\n",
            "MSE : 1420345.69107116\n"
          ],
          "name": "stdout"
        },
        {
          "output_type": "display_data",
          "data": {
            "image/png": "[encoded data removed]",
            "text/plain": [
              "<Figure size 432x288 with 1 Axes>"
            ]
          },
          "metadata": {
            "tags": [],
            "needs_background": "light"
          }
        }
      ]
    },
    {
      "cell_type": "markdown",
      "metadata": {
        "id": "6PUfKXGU6DQ2"
      },
      "source": [
        "2b) What are the best suitable features you used to predict the price of the dataset and Why?\n",
        "\n",
        "Idea: Use Correlation to get the suitable features and Report the values accordingly."
      ]
    },
    {
      "cell_type": "code",
      "metadata": {
        "id": "nUVKOe6d6g2u",
        "colab": {
          "base_uri": "https://localhost:8080/",
          "height": 308
        },
        "outputId": "d1b93b9b-3efd-41b7-c8e4-36358b59daf8"
      },
      "source": [
        "#code for Correlation between features and the Diamond Price.\n",
        "corr = X.corr()\n",
        "sns.heatmap(corr)"
      ],
      "execution_count": null,
      "outputs": [
        {
          "output_type": "execute_result",
          "data": {
            "text/plain": [
              "<matplotlib.axes._subplots.AxesSubplot at 0x7f4887080780>"
            ]
          },
          "metadata": {
            "tags": []
          },
          "execution_count": 12
        },
        {
          "output_type": "display_data",
          "data": {
            "image/png": "[encoded data removed]",
            "text/plain": [
              "<Figure size 432x288 with 2 Axes>"
            ]
          },
          "metadata": {
            "tags": [],
            "needs_background": "light"
          }
        }
      ]
    },
    {
      "cell_type": "markdown",
      "metadata": {
        "id": "JahXVQoPvZb3"
      },
      "source": [
        "Correlation is the measure of linear relationship between 2 quantitative variables which also tells us how strongly they are dependant on each other. If 2 features are highly correlated, they provide redundant information in regards to the target. Hence it is possible to make accurate prediction on the target with just one of the redundant features."
      ]
    },
    {
      "cell_type": "code",
      "metadata": {
        "colab": {
          "base_uri": "https://localhost:8080/",
          "height": 221
        },
        "id": "zHe8UJy6qFKF",
        "outputId": "fd942b53-dbec-45e0-b2d5-06f24b6afa73"
      },
      "source": [
        "cols = np.full((corr.shape[0],), True, dtype=bool)\n",
        "for i in range(corr.shape[0]):\n",
        "    for j in range(i+1, corr.shape[0]):\n",
        "        if corr.iloc[i,j] >= 0.9:\n",
        "            if cols[j]:\n",
        "                cols[j] = False\n",
        "selected_cols = X.columns[cols]\n",
        "redc_X = X[selected_cols]\n",
        "\n",
        "print(\"Selected features are:\")\n",
        "display(redc_X.head())"
      ],
      "execution_count": null,
      "outputs": [
        {
          "output_type": "stream",
          "text": [
            "Selected features are:\n"
          ],
          "name": "stdout"
        },
        {
          "output_type": "display_data",
          "data": {
            "text/html": [
              "<div>\n",
              "<style scoped>\n",
              "    .dataframe tbody tr th:only-of-type {\n",
              "        vertical-align: middle;\n",
              "    }\n",
              "\n",
              "    .dataframe tbody tr th {\n",
              "        vertical-align: top;\n",
              "    }\n",
              "\n",
              "    .dataframe thead th {\n",
              "        text-align: right;\n",
              "    }\n",
              "</style>\n",
              "<table border=\"1\" class=\"dataframe\">\n",
              "  <thead>\n",
              "    <tr style=\"text-align: right;\">\n",
              "      <th></th>\n",
              "      <th>carat</th>\n",
              "      <th>cut</th>\n",
              "      <th>color</th>\n",
              "      <th>clarity</th>\n",
              "      <th>depth</th>\n",
              "      <th>table</th>\n",
              "    </tr>\n",
              "  </thead>\n",
              "  <tbody>\n",
              "    <tr>\n",
              "      <th>1</th>\n",
              "      <td>0.23</td>\n",
              "      <td>4.0</td>\n",
              "      <td>5.0</td>\n",
              "      <td>1.0</td>\n",
              "      <td>61.500000</td>\n",
              "      <td>55.0</td>\n",
              "    </tr>\n",
              "    <tr>\n",
              "      <th>2</th>\n",
              "      <td>0.21</td>\n",
              "      <td>3.0</td>\n",
              "      <td>5.0</td>\n",
              "      <td>2.0</td>\n",
              "      <td>59.799999</td>\n",
              "      <td>61.0</td>\n",
              "    </tr>\n",
              "    <tr>\n",
              "      <th>3</th>\n",
              "      <td>0.23</td>\n",
              "      <td>1.0</td>\n",
              "      <td>5.0</td>\n",
              "      <td>4.0</td>\n",
              "      <td>56.900002</td>\n",
              "      <td>65.0</td>\n",
              "    </tr>\n",
              "    <tr>\n",
              "      <th>4</th>\n",
              "      <td>0.29</td>\n",
              "      <td>3.0</td>\n",
              "      <td>1.0</td>\n",
              "      <td>3.0</td>\n",
              "      <td>62.400002</td>\n",
              "      <td>58.0</td>\n",
              "    </tr>\n",
              "    <tr>\n",
              "      <th>5</th>\n",
              "      <td>0.31</td>\n",
              "      <td>1.0</td>\n",
              "      <td>0.0</td>\n",
              "      <td>1.0</td>\n",
              "      <td>63.299999</td>\n",
              "      <td>58.0</td>\n",
              "    </tr>\n",
              "  </tbody>\n",
              "</table>\n",
              "</div>"
            ],
            "text/plain": [
              "   carat  cut  color  clarity      depth  table\n",
              "1   0.23  4.0    5.0      1.0  61.500000   55.0\n",
              "2   0.21  3.0    5.0      2.0  59.799999   61.0\n",
              "3   0.23  1.0    5.0      4.0  56.900002   65.0\n",
              "4   0.29  3.0    1.0      3.0  62.400002   58.0\n",
              "5   0.31  1.0    0.0      1.0  63.299999   58.0"
            ]
          },
          "metadata": {
            "tags": []
          }
        }
      ]
    },
    {
      "cell_type": "code",
      "metadata": {
        "id": "rqW0J1IzqNn9"
      },
      "source": [
        "X_train_redc_df, X_test_redc_df, y_train_redc_df, y_test_redc_df = train_test_split(redc_X, y, test_size=0.20,random_state=1)\n",
        "X_train_redc = np.array(X_train_redc_df)\n",
        "X_test_redc = np.array(X_test_redc_df)\n",
        "y_train_redc = np.array(y_train_redc_df)\n",
        "y_test_redc = np.array(y_test_redc_df)\n",
        "\n",
        "'''Standardize data'''\n",
        "scaler = StandardScaler()\n",
        "X_train_redc_std = scaler.fit_transform(X_train_redc)\n",
        "X_test_redc_std = scaler.transform(X_test_redc)"
      ],
      "execution_count": null,
      "outputs": []
    },
    {
      "cell_type": "markdown",
      "metadata": {
        "id": "g5cxjSsbwjMb"
      },
      "source": [
        "We observe that the same model trained on same parameters but with reduced features gives us the same score"
      ]
    },
    {
      "cell_type": "code",
      "metadata": {
        "colab": {
          "base_uri": "https://localhost:8080/",
          "height": 363
        },
        "id": "cfZE4zBSqaRW",
        "outputId": "02c05c11-f8c0-4c64-e092-a31a7e24bbe1"
      },
      "source": [
        "itrs = 1000\n",
        "lrgd = LinearRegressor(0.2,itrs=itrs)\n",
        "mae_histr = lrgd.GD_fit(X_train_redc_std, y_train_redc, X_test_redc_std, y_test_redc)\n",
        "lrg_predc_y = lrgd.predict(X_test_redc_std,True)\n",
        "\n",
        "print(\"Linear Regression on only selected features\")\n",
        "print(\"R2 Score:\",r2_score(lrg_predc_y,y_test_redc))\n",
        "print(\"MAE :\",mean_absolute_error(lrg_predc_y,y_test_redc))\n",
        "print(\"MSE :\",mean_squared_error(lrg_predc_y,y_test_redc))\n",
        "\n",
        "\n",
        "\n",
        "plt.plot(mae_histr[:,0], mae_histr[:,1], label = \"MAE\", color='blue')\n",
        "plt.xlabel('Iterations')\n",
        "plt.ylabel('MAE')\n",
        "plt.title('MAE Plot')\n",
        "plt.legend()\n",
        "plt.show()"
      ],
      "execution_count": null,
      "outputs": [
        {
          "output_type": "stream",
          "text": [
            "Linear Regression on only selected features\n",
            "R2 Score: 0.8939199059776919\n",
            "MAE : 847.7514068612998\n",
            "MSE : 1473505.307637412\n"
          ],
          "name": "stdout"
        },
        {
          "output_type": "display_data",
          "data": {
            "image/png": "[encoded data removed]",
            "text/plain": [
              "<Figure size 432x288 with 1 Axes>"
            ]
          },
          "metadata": {
            "tags": [],
            "needs_background": "light"
          }
        }
      ]
    },
    {
      "cell_type": "markdown",
      "metadata": {
        "id": "3QB-vCqz6u5z"
      },
      "source": [
        "Explanation for 2b) - "
      ]
    },
    {
      "cell_type": "markdown",
      "metadata": {
        "id": "NNDl68N26yY3"
      },
      "source": [
        "2c) Use the module Linear Regression from sklearn to predict the price of diamonds(considering the same attributes as before) and compare the result obtained with the above. \n"
      ]
    },
    {
      "cell_type": "code",
      "metadata": {
        "id": "50xYhwND64tM",
        "colab": {
          "base_uri": "https://localhost:8080/"
        },
        "outputId": "3f0b2b50-b9d3-4e5f-b0aa-59b448f96863"
      },
      "source": [
        "# import sklearn model\n",
        "skreg = LinearRegression().fit(X_train_redc_std, y_train_redc)\n",
        "print(\"Sklearn linear regression score for selected features:\",skreg.score(X_test_redc_std, y_test_redc))\n",
        "print(\"Our linear regression score for selected features:\",r2_score(lrg_predc_y,y_test_redc))"
      ],
      "execution_count": null,
      "outputs": [
        {
          "output_type": "stream",
          "text": [
            "Sklearn linear regression score for selected features: 0.9051707575469035\n",
            "Our linear regression score for selected features: 0.8939199059776919\n"
          ],
          "name": "stdout"
        }
      ]
    },
    {
      "cell_type": "markdown",
      "metadata": {
        "id": "121Z4wwx7CLk"
      },
      "source": [
        "2d) Now, using the whole dataset, predict the price of the Diamonds using the module of Linear Regression from sklearn. Report the changes you have observed compared to before? Adding extra features did it make the prediction better or worse.Comment? \n"
      ]
    },
    {
      "cell_type": "code",
      "metadata": {
        "id": "Eo1pB2QB7Jqz",
        "colab": {
          "base_uri": "https://localhost:8080/"
        },
        "outputId": "58dc59d9-a15c-4932-ad14-8b93c2bddbbd"
      },
      "source": [
        "skreg = LinearRegression().fit(X_train_std, y_train)\n",
        "print(\"Sklearn linear regression score for all features:\",skreg.score(X_test_std, y_test))\n",
        "print(\"Our linear regression score for all features:\",r2_score(lrg_pred_y,y_test))"
      ],
      "execution_count": null,
      "outputs": [
        {
          "output_type": "stream",
          "text": [
            "Sklearn linear regression score for all features: 0.9086830124889127\n",
            "Our linear regression score for all features: 0.8976466582346719\n"
          ],
          "name": "stdout"
        }
      ]
    },
    {
      "cell_type": "markdown",
      "metadata": {
        "id": "cAqKLuCh7qP5"
      },
      "source": [
        "2e) Now, compare the algorithms KNN regression and Linear Regression. What are the differences you have observed? Which is better and why. Your statements should be backed up with statistics. \n"
      ]
    },
    {
      "cell_type": "markdown",
      "metadata": {
        "id": "4Qb2nIZ171vI"
      },
      "source": [
        "Explanation - \n",
        "\n",
        "Differences:  \n",
        "For the given dataset, KNN regression performs better as linear regression supports linear solutions whereas KNN can support non-linear solutions as well. KNN algorithm is much slower than linear regression. We need to try out different values for learning rate and iterations for linear regression. Prediction in case of linear regression is very easy and fast. Also the weights of the linear regression model give us the idea avout how much importnat a particular feature is.\n",
        "\n",
        "Which is better:  \n",
        "For smaller dimensions and sufficient data, KNN may give better results as it it tries to approximate based on some local vicinity and can also model non-linearity. But as the dimensions increase, KNN will start to suffer from curse of dimension. Eg. if in the current dimension, there is no training instance, the test point will be estimated based on long distant instances of other dimensions and also would become very expensive to calculate distances. Whereas, in most of the cases, linear regression model will not suffer from curse of dimensionality as its weights will not increase exponentially wrt number of features. "
      ]
    },
    {
      "cell_type": "markdown",
      "metadata": {
        "id": "vdAATTFJ8Lvn"
      },
      "source": [
        "2f) Plot the predicted values from KNN regression, Linear Regression and Actual Diamond Price.\n"
      ]
    },
    {
      "cell_type": "code",
      "metadata": {
        "id": "Wts-tBCC8NiA",
        "colab": {
          "base_uri": "https://localhost:8080/",
          "height": 607
        },
        "outputId": "4ac166ab-9a3c-42ea-f794-a341903c244c"
      },
      "source": [
        "#plot \n",
        "'''Minkowski distance function'''\n",
        "def minkowski_dist(test_pt, train_X, p):\n",
        "    temp = abs(test_pt - train_X) \n",
        "    if p==2:\n",
        "        return np.sqrt(np.sum(temp*temp,axis=1))\n",
        "    if p==1:\n",
        "        return np.sum(temp,axis=1)\n",
        "    if p==0:\n",
        "        temp = temp!=0\n",
        "        return np.sum(temp*1,axis=1)\n",
        "\n",
        "max_nn = 25\n",
        "\n",
        "def cal_all_dists(train_X,test_X,p):\n",
        "    all_dists = [] \n",
        "    for i in range(test_X.shape[0]):\n",
        "        cur_dists = minkowski_dist(test_X[i],train_X,p)\n",
        "        idx = np.argpartition(cur_dists, max_nn)[:max_nn]\n",
        "        cur_dists = cur_dists[idx]\n",
        "        df_cur_dists = pd.DataFrame(data=cur_dists, columns=['dist'], index=idx)\n",
        "        df_cur_dists = df_cur_dists.sort_values(by=['dist'], axis=0)\n",
        "        all_dists.append(df_cur_dists)\n",
        "    return all_dists\n",
        "\n",
        "def knn_predict(test_X,train_y,all_dists,k,metric=1):\n",
        "    predictions = []\n",
        "    for c in range(test_X.shape[0]):\n",
        "        knn_dists = all_dists[c][:k]\n",
        "        knn_ys = np.array([train_y[j] for j in knn_dists.index])\n",
        "        knn_dists = np.array(knn_dists).reshape((k,))\n",
        "        if metric==0:\n",
        "            predictions.append(knn_ys.mean())\n",
        "        else:\n",
        "            if 0 in knn_dists:\n",
        "                knn_ws = np.array(knn_dists==0, dtype=float)\n",
        "            else:\n",
        "                knn_ws = 1/knn_dists\n",
        "            predictions.append(np.sum(knn_ys * knn_ws)/np.sum(knn_ws))\n",
        "        c+=1\n",
        "    return predictions\n",
        "\n",
        "all_dists_std = cal_all_dists(X_train_redc_std,X_test_redc_std,1)\n",
        "y_pred_knn = knn_predict(X_test_redc_std,y_train_redc,all_dists_std,11)\n",
        "\n",
        "print(\"Actual price vs predicted price plot\\n\")\n",
        "\n",
        "plt.scatter(y_test_redc, lrg_predc_y, c='crimson')\n",
        "p1 = max(max(lrg_predc_y), max(y_test_redc))\n",
        "p2 = min(min(lrg_predc_y), min(y_test_redc))\n",
        "plt.plot([p1, p2], [p1, p2], 'b-')\n",
        "plt.xlabel('True Prices')\n",
        "plt.ylabel('Predictions')\n",
        "plt.axis('equal')\n",
        "plt.title(\"Linear regression on reduced features\")\n",
        "plt.show()\n",
        "\n",
        "\n",
        "plt.scatter(y_test_redc, y_pred_knn, c='crimson')\n",
        "p1 = max(max(y_pred_knn), max(y_test_redc))\n",
        "p2 = min(min(y_pred_knn), min(y_test_redc))\n",
        "plt.plot([p1, p2], [p1, p2], 'b-')\n",
        "plt.xlabel('True Prices')\n",
        "plt.ylabel('Predictions')\n",
        "plt.axis('equal')\n",
        "plt.title(\"KNN regression on reduced features\")\n",
        "plt.show()"
      ],
      "execution_count": null,
      "outputs": [
        {
          "output_type": "stream",
          "text": [
            "Actual price vs predicted price plot\n",
            "\n"
          ],
          "name": "stdout"
        },
        {
          "output_type": "display_data",
          "data": {
            "image/png": "[encoded data removed]",
            "text/plain": [
              "<Figure size 432x288 with 1 Axes>"
            ]
          },
          "metadata": {
            "tags": [],
            "needs_background": "light"
          }
        },
        {
          "output_type": "display_data",
          "data": {
            "image/png": "[encoded data removed]",
            "text/plain": [
              "<Figure size 432x288 with 1 Axes>"
            ]
          },
          "metadata": {
            "tags": [],
            "needs_background": "light"
          }
        }
      ]
    },
    {
      "cell_type": "markdown",
      "metadata": {
        "id": "-PkRYsKTzzLM"
      },
      "source": [
        "#**KNN Classifier**"
      ]
    },
    {
      "cell_type": "markdown",
      "metadata": {
        "id": "Ve2icBQ8Zuqq"
      },
      "source": [
        "In this problem you are required to train, test and validate a K-Nearest Neighbor Classifier on the famous CIFAR-10 dataset. The next few cells will guide you through the process. Follow along..."
      ]
    },
    {
      "cell_type": "code",
      "metadata": {
        "id": "eOs6RZc1pQNn"
      },
      "source": [
        "import random\n",
        "import numpy as np\n",
        "import pandas as pd\n",
        "import matplotlib.pyplot as plt\n",
        "import os\n",
        "import time\n",
        "from __future__ import print_function\n",
        "from builtins import range\n",
        "from six.moves import cPickle as pickle\n",
        "from imageio import imread\n",
        "import platform\n",
        "from scipy import stats \n",
        "from sklearn.neighbors import KNeighborsClassifier\n",
        "from sklearn.model_selection import KFold"
      ],
      "execution_count": null,
      "outputs": []
    },
    {
      "cell_type": "code",
      "metadata": {
        "colab": {
          "base_uri": "https://localhost:8080/"
        },
        "id": "1BZZyZZ3bq-3",
        "outputId": "50159c87-a063-4a1d-a380-d845d9a39c9b"
      },
      "source": [
        "# Run some setup code for this notebook.\n",
        "\n",
        "# This is a bit of magic to make matplotlib figures appear inline in the notebook\n",
        "# rather than in a new window.\n",
        "%matplotlib inline\n",
        "plt.rcParams['figure.figsize'] = (10.0, 8.0) # set default size of plots\n",
        "plt.rcParams['image.interpolation'] = 'nearest'\n",
        "plt.rcParams['image.cmap'] = 'gray'\n",
        "\n",
        "# Some more magic so that the notebook will reload external python modules;\n",
        "# see http://stackoverflow.com/questions/1907993/autoreload-of-modules-in-ipython\n",
        "%load_ext autoreload\n",
        "%autoreload 2"
      ],
      "execution_count": null,
      "outputs": [
        {
          "output_type": "stream",
          "text": [
            "The autoreload extension is already loaded. To reload it, use:\n",
            "  %reload_ext autoreload\n"
          ],
          "name": "stdout"
        }
      ]
    },
    {
      "cell_type": "code",
      "metadata": {
        "colab": {
          "base_uri": "https://localhost:8080/"
        },
        "id": "v9TLyifNd5eE",
        "outputId": "494f4c0b-e42f-4b31-8dac-b4ca23476088"
      },
      "source": [
        "# Download the dataset\n",
        "!wget http://www.cs.toronto.edu/~kriz/cifar-10-python.tar.gz -O cifar-10-python.tar.gz\n",
        "!tar -xzvf cifar-10-python.tar.gz\n",
        "!rm cifar-10-python.tar.gz"
      ],
      "execution_count": null,
      "outputs": [
        {
          "output_type": "stream",
          "text": [
            "--2021-01-25 17:02:02--  http://www.cs.toronto.edu/~kriz/cifar-10-python.tar.gz\n",
            "Resolving www.cs.toronto.edu (www.cs.toronto.edu)... 128.100.3.30\n",
            "Connecting to www.cs.toronto.edu (www.cs.toronto.edu)|128.100.3.30|:80... connected.\n",
            "HTTP request sent, awaiting response... 200 OK\n",
            "Length: 170498071 (163M) [application/x-gzip]\n",
            "Saving to: ‘cifar-10-python.tar.gz’\n",
            "\n",
            "cifar-10-python.tar 100%[===================>] 162.60M  71.2MB/s    in 2.3s    \n",
            "\n",
            "2021-01-25 17:02:04 (71.2 MB/s) - ‘cifar-10-python.tar.gz’ saved [170498071/170498071]\n",
            "\n",
            "cifar-10-batches-py/\n",
            "cifar-10-batches-py/data_batch_4\n",
            "cifar-10-batches-py/readme.html\n",
            "cifar-10-batches-py/test_batch\n",
            "cifar-10-batches-py/data_batch_3\n",
            "cifar-10-batches-py/batches.meta\n",
            "cifar-10-batches-py/data_batch_2\n",
            "cifar-10-batches-py/data_batch_5\n",
            "cifar-10-batches-py/data_batch_1\n"
          ],
          "name": "stdout"
        }
      ]
    },
    {
      "cell_type": "code",
      "metadata": {
        "colab": {
          "base_uri": "https://localhost:8080/"
        },
        "id": "LUWUH9G8dsAi",
        "outputId": "803c3a19-a10c-451d-c92e-d0dd717a670f"
      },
      "source": [
        "# This cell loads the training and testing dataset. Please note the variables at\n",
        "# the end of the cell as you would require them to access the train/test data \n",
        "# and labels throughout the assignment\n",
        "def load_pickle(f):\n",
        "    version = platform.python_version_tuple()\n",
        "    if version[0] == '2':\n",
        "        return  pickle.load(f)\n",
        "    elif version[0] == '3':\n",
        "        return  pickle.load(f, encoding='latin1')\n",
        "    raise ValueError(\"invalid python version: {}\".format(version))\n",
        "  \n",
        "def load_CIFAR_batch(filename):\n",
        "    \"\"\" load single batch of cifar \"\"\"\n",
        "    with open(filename, 'rb') as f:\n",
        "        datadict = load_pickle(f)\n",
        "        X = datadict['data']\n",
        "        Y = datadict['labels']\n",
        "        X = X.reshape(10000, 3, 32, 32).transpose(0,2,3,1).astype(\"float\")\n",
        "        Y = np.array(Y)\n",
        "        return X, Y\n",
        "\n",
        "def load_CIFAR10(ROOT):\n",
        "    \"\"\" load all of cifar \"\"\"\n",
        "    xs = []\n",
        "    ys = []\n",
        "    for b in range(1,6):\n",
        "        f = os.path.join(ROOT, 'data_batch_%d' % (b, ))\n",
        "        X, Y = load_CIFAR_batch(f)\n",
        "        xs.append(X)\n",
        "        ys.append(Y)\n",
        "    Xtr = np.concatenate(xs)\n",
        "    Ytr = np.concatenate(ys)\n",
        "    del X, Y\n",
        "    Xte, Yte = load_CIFAR_batch(os.path.join(ROOT, 'test_batch'))\n",
        "    return Xtr, Ytr, Xte, Yte\n",
        "\n",
        "\n",
        "cifar10_dir = 'cifar-10-batches-py'\n",
        "\n",
        "# Cleaning up variables to prevent loading data multiple times\n",
        "try:\n",
        "   del X_train, y_train\n",
        "   del X_test, y_test\n",
        "   print('Clear previously loaded data.')\n",
        "except:\n",
        "   pass\n",
        "\n",
        "X_train, y_train, X_test, y_test = load_CIFAR10(cifar10_dir)\n",
        "\n",
        "# As a sanity check, we print out the size of the training and test data.\n",
        "print('Training data shape: ', X_train.shape)\n",
        "print('Training labels shape: ', y_train.shape)\n",
        "print('Test data shape: ', X_test.shape)\n",
        "print('Test labels shape: ', y_test.shape)"
      ],
      "execution_count": null,
      "outputs": [
        {
          "output_type": "stream",
          "text": [
            "Training data shape:  (50000, 32, 32, 3)\n",
            "Training labels shape:  (50000,)\n",
            "Test data shape:  (10000, 32, 32, 3)\n",
            "Test labels shape:  (10000,)\n"
          ],
          "name": "stdout"
        }
      ]
    },
    {
      "cell_type": "markdown",
      "metadata": {
        "id": "ImbVaneln_Vo"
      },
      "source": [
        "Next we visualize the CIFAR-10 dataset. Although these functions are being written for you, we highly recommend you go through the code and make yourself familiar as these are things you will be required to do very often when working on AI/ML projects"
      ]
    },
    {
      "cell_type": "code",
      "metadata": {
        "colab": {
          "base_uri": "https://localhost:8080/",
          "height": 476
        },
        "id": "JBiR9dSyn1mV",
        "outputId": "f70f32d2-01d2-488c-897e-b630d700d2c6"
      },
      "source": [
        "# Visualize some examples from the dataset.\n",
        "# We show a few examples of training images from each class.\n",
        "classes = ['plane', 'car', 'bird', 'cat', 'deer', 'dog', 'frog', 'horse', 'ship', 'truck']\n",
        "num_classes = len(classes)\n",
        "samples_per_class = 7\n",
        "for y, cls in enumerate(classes):\n",
        "    idxs = np.flatnonzero(y_train == y)\n",
        "    idxs = np.random.choice(idxs, samples_per_class, replace=False)\n",
        "    for i, idx in enumerate(idxs):\n",
        "        plt_idx = i * num_classes + y + 1\n",
        "        plt.subplot(samples_per_class, num_classes, plt_idx)\n",
        "        plt.imshow(X_train[idx].astype('uint8'))\n",
        "        plt.axis('off')\n",
        "        if i == 0:\n",
        "            plt.title(cls)\n",
        "plt.show()"
      ],
      "execution_count": null,
      "outputs": [
        {
          "output_type": "display_data",
          "data": {
            "image/png": "[encoded data removed]",
            "text/plain": [
              "<Figure size 720x576 with 70 Axes>"
            ]
          },
          "metadata": {
            "tags": [],
            "needs_background": "light"
          }
        }
      ]
    },
    {
      "cell_type": "markdown",
      "metadata": {
        "id": "3J80qrXPoaIx"
      },
      "source": [
        "In the next cell we flatten each image into a single dimensional vector so that it is easy to process. You should be able to reason about the dimensions comfortable."
      ]
    },
    {
      "cell_type": "code",
      "metadata": {
        "colab": {
          "base_uri": "https://localhost:8080/"
        },
        "id": "-FoCgA3Xn9K6",
        "outputId": "fedc42ba-668e-4ee7-bb15-3ee13e10da69"
      },
      "source": [
        "# Subsample the data for more efficient code execution in this exercise\n",
        "num_training = 5000\n",
        "mask = list(range(num_training))\n",
        "X_train = X_train[mask]\n",
        "y_train = y_train[mask]\n",
        "\n",
        "num_test = 500\n",
        "mask = list(range(num_test))\n",
        "X_test = X_test[mask]\n",
        "y_test = y_test[mask]\n",
        "\n",
        "# Reshape the image data into rows\n",
        "X_train = np.reshape(X_train, (X_train.shape[0], -1))\n",
        "X_test = np.reshape(X_test, (X_test.shape[0], -1))\n",
        "print(X_train.shape, X_test.shape)"
      ],
      "execution_count": null,
      "outputs": [
        {
          "output_type": "stream",
          "text": [
            "(5000, 3072) (500, 3072)\n"
          ],
          "name": "stdout"
        }
      ]
    },
    {
      "cell_type": "markdown",
      "metadata": {
        "id": "Atyl_HGcgmb5"
      },
      "source": [
        "In the next cell you are going to implement the main KNearestNeighbor class and keep adding functions to it as and when required in the subsequent steps."
      ]
    },
    {
      "cell_type": "code",
      "metadata": {
        "id": "kGM_wB3Wmenb"
      },
      "source": [
        "# You will keep coming back to this cell to add more functions as and when\n",
        "# required. Right now it is very simple!\n",
        "class KNearestNeighbor(object):\n",
        "    \"\"\" a kNN classifier with L2 distance \"\"\"\n",
        "    def __init__(self):\n",
        "        self.train_X = []\n",
        "        self.train_y = []\n",
        "    \n",
        "    def train(self, train_X, train_y):\n",
        "        self.train_X = train_X\n",
        "        self.train_y = train_y\n",
        "    \n",
        "    def compute_distances_two_loops(self, test_X):\n",
        "        all_dists = []\n",
        "        for i in range(test_X.shape[0]):\n",
        "            cur_dist = []\n",
        "            for j in range(self.train_X.shape[0]):\n",
        "                temp = abs(self.train_X[j] - test_X[i])\n",
        "                cur_dist.append(np.sqrt(np.dot(temp,temp)))\n",
        "            all_dists.append(cur_dist)\n",
        "        return np.array(all_dists)\n",
        "\n",
        "    def compute_distances_single_loop(self, test_X):\n",
        "        all_dists = []\n",
        "        for i in range(test_X.shape[0]):\n",
        "            temp = self.train_X - test_X[i]\n",
        "            all_dists.append(np.sqrt(np.sum(temp*temp,axis=1)))\n",
        "        return np.array(all_dists)\n",
        "\n",
        "    def compute_distances_no_loop(self, test_X):\n",
        "        all_dists = -2 * np.dot(test_X, self.train_X.T) + np.sum(self.train_X**2, axis=1) + np.sum(test_X**2, axis=1)[:, np.newaxis]\n",
        "        all_dists = np.sqrt(all_dists)\n",
        "        return all_dists\n",
        "\n",
        "    def predict_labels(self,all_dists,k=1):\n",
        "        max_nn = 15\n",
        "        pred_y = []\n",
        "        for cur_dists in all_dists:\n",
        "            idx = np.argpartition(cur_dists, max_nn)[:max_nn]\n",
        "            cur_dists = cur_dists[idx]\n",
        "            df_cur_dists = pd.DataFrame(data=cur_dists, columns=['dist'], index=idx)\n",
        "            knn_cur_dists = df_cur_dists.sort_values(by=['dist'], axis=0)[:k]\n",
        "            knn_ys = [self.train_y[j] for j in knn_cur_dists.index]\n",
        "            freq_y = [knn_ys.count(e) for e in knn_ys]\n",
        "            pry = knn_ys[np.argmax(freq_y)]\n",
        "            pred_y.append(pry)\n",
        "        return pred_y"
      ],
      "execution_count": null,
      "outputs": []
    },
    {
      "cell_type": "markdown",
      "metadata": {
        "id": "K0Rk36rKmwwK"
      },
      "source": [
        "Go back to KNearestNeighbor class and add a method to train the classifier. Your function will be called as below. In KNN classifier, this step is a simple memorization of the training data."
      ]
    },
    {
      "cell_type": "code",
      "metadata": {
        "id": "MQy2OIH8nrPd"
      },
      "source": [
        "# Make sure to add train() in the classifier class before executing this cell\n",
        "classifier = KNearestNeighbor()\n",
        "classifier.train(X_train, y_train)"
      ],
      "execution_count": null,
      "outputs": []
    },
    {
      "cell_type": "markdown",
      "metadata": {
        "id": "R3MZBeobnzN2"
      },
      "source": [
        "Go back to KNearestNeighbor class and add a method to compute distances between each pair of test image and train image. You can use two loops to do this. Remember we are using standard L-2 distance metric. Precisely your method should return a distance matrix($D$) where $D(i,j)$ = **L-2** distance between the $i^{th}$ test image and the $j^{th}$ train image. Your function will be called as below"
      ]
    },
    {
      "cell_type": "code",
      "metadata": {
        "id": "r3ACfN_CqbPH",
        "colab": {
          "base_uri": "https://localhost:8080/"
        },
        "outputId": "b541a7b3-404c-4120-8f5d-c7b3b7b4a751"
      },
      "source": [
        "# Make sure to add compute_distances_two_loops() in the classifier class \n",
        "# before executing this cell\n",
        "dists = classifier.compute_distances_two_loops(X_test)\n",
        "print(dists.shape)"
      ],
      "execution_count": null,
      "outputs": [
        {
          "output_type": "stream",
          "text": [
            "(500, 5000)\n"
          ],
          "name": "stdout"
        }
      ]
    },
    {
      "cell_type": "markdown",
      "metadata": {
        "id": "-PbMeV5Qq2NZ"
      },
      "source": [
        "Next implement the function to predict labels. Again go back to the KNearestNeighbor class cell. Your function will be called as below"
      ]
    },
    {
      "cell_type": "code",
      "metadata": {
        "id": "5F8wO5_GrSK6",
        "colab": {
          "base_uri": "https://localhost:8080/"
        },
        "outputId": "e241ab98-742d-4b35-858b-5ed95f5ae85a"
      },
      "source": [
        "# Make sure to add predict_labels() in the classifier class \n",
        "# before executing this cell\n",
        "y_test_pred = classifier.predict_labels(dists, k=1)\n",
        "\n",
        "# Compute and print the fraction of correctly predicted examples\n",
        "num_correct = np.sum(y_test_pred == y_test)\n",
        "accuracy = float(num_correct) / num_test\n",
        "print('Got %d / %d correct => accuracy: %f' % (num_correct, num_test, accuracy))"
      ],
      "execution_count": null,
      "outputs": [
        {
          "output_type": "stream",
          "text": [
            "Got 137 / 500 correct => accuracy: 0.274000\n"
          ],
          "name": "stdout"
        }
      ]
    },
    {
      "cell_type": "markdown",
      "metadata": {
        "id": "tcR0kTEWsDDj"
      },
      "source": [
        "Now we have a basic classifier ready but it is extremely inefficient. In Machine Learning writing vectorised code is one of the most important skills. \n",
        "\n",
        "Now you have to again go back to the KNearestNeighbor class cell and add functions to compute the distance matrix using:\n",
        "1.   single loop\n",
        "2.   no loops\n",
        "\n",
        "From here onwards we won't do as much hand holding as done before. You are expected to write all the code from scratch\n",
        "\n"
      ]
    },
    {
      "cell_type": "code",
      "metadata": {
        "id": "3EfaDb59rcdq",
        "colab": {
          "base_uri": "https://localhost:8080/",
          "height": 165
        },
        "outputId": "66614ab9-3a1a-45b6-86d7-c14dff324afc"
      },
      "source": [
        "# Use this cell to present your timing results for computing distance matrix\n",
        "classifier = KNearestNeighbor()\n",
        "classifier.train(X_train, y_train)\n",
        "\n",
        "times = {}\n",
        "\n",
        "start = time.time()\n",
        "dists2 = classifier.compute_distances_two_loops(X_test)\n",
        "end = time.time()\n",
        "times['Two-loops'] = (end - start)\n",
        "\n",
        "start = time.time()\n",
        "dists1 = classifier.compute_distances_single_loop(X_test)\n",
        "end = time.time()\n",
        "times['Single-loop'] = (end - start)\n",
        "\n",
        "start = time.time()\n",
        "dists0 = classifier.compute_distances_no_loop(X_test)\n",
        "end = time.time()\n",
        "times['No-loop'] = (end - start)\n",
        "\n",
        "print(\"Checking if distances computed are same\")\n",
        "print(dists0.shape,dists1.shape,dists2.shape)\n",
        "print(np.sum(dists0!=dists1))\n",
        "print(np.sum(dists1!=dists2))\n",
        "print(np.sum(dists0!=dists2))\n",
        "display(pd.DataFrame(times,index=[0]))\n"
      ],
      "execution_count": null,
      "outputs": [
        {
          "output_type": "stream",
          "text": [
            "Checking if distances computed are same\n",
            "(500, 5000) (500, 5000) (500, 5000)\n",
            "0\n",
            "0\n",
            "0\n"
          ],
          "name": "stdout"
        },
        {
          "output_type": "display_data",
          "data": {
            "text/html": [
              "<div>\n",
              "<style scoped>\n",
              "    .dataframe tbody tr th:only-of-type {\n",
              "        vertical-align: middle;\n",
              "    }\n",
              "\n",
              "    .dataframe tbody tr th {\n",
              "        vertical-align: top;\n",
              "    }\n",
              "\n",
              "    .dataframe thead th {\n",
              "        text-align: right;\n",
              "    }\n",
              "</style>\n",
              "<table border=\"1\" class=\"dataframe\">\n",
              "  <thead>\n",
              "    <tr style=\"text-align: right;\">\n",
              "      <th></th>\n",
              "      <th>Two-loops</th>\n",
              "      <th>Single-loop</th>\n",
              "      <th>No-loop</th>\n",
              "    </tr>\n",
              "  </thead>\n",
              "  <tbody>\n",
              "    <tr>\n",
              "      <th>0</th>\n",
              "      <td>35.346255</td>\n",
              "      <td>22.26556</td>\n",
              "      <td>0.560938</td>\n",
              "    </tr>\n",
              "  </tbody>\n",
              "</table>\n",
              "</div>"
            ],
            "text/plain": [
              "   Two-loops  Single-loop   No-loop\n",
              "0  35.346255     22.26556  0.560938"
            ]
          },
          "metadata": {
            "tags": []
          }
        }
      ]
    },
    {
      "cell_type": "markdown",
      "metadata": {
        "id": "1J8F3PB3tgPf"
      },
      "source": [
        "Next, you are required to tabulate the time taken to compute the distance matrix using each of the three above methods implemented for k = 1, 3, 5, 7."
      ]
    },
    {
      "cell_type": "code",
      "metadata": {
        "id": "N2_Fyhk6t36f",
        "colab": {
          "base_uri": "https://localhost:8080/",
          "height": 328
        },
        "outputId": "420865da-491a-4b82-9770-4d47cc3a8d0c"
      },
      "source": [
        "# Use this cell to compute accuracies for k = 3, 5, 7\n",
        "\n",
        "classifier = KNearestNeighbor()\n",
        "classifier.train(X_train, y_train)\n",
        "\n",
        "allk_acc = {'Our KNN':{},'SKlearn':{},'Difference':{}}\n",
        "num_test = len(y_test)\n",
        "\n",
        "# K = 1.....9\n",
        "\n",
        "for k in range(1,10):\n",
        "    y_preds = classifier.predict_labels(dists0, k=k)\n",
        "    num_correct = np.sum(y_preds == y_test)\n",
        "    allk_acc['Our KNN'][k] = float(num_correct) / num_test\n",
        "\n",
        "for k in range(1,10):\n",
        "    neigh = KNeighborsClassifier(n_neighbors=k)\n",
        "    neigh.fit(X_train, y_train)\n",
        "    y_preds = neigh.predict(X_test)\n",
        "    num_correct = np.sum(y_preds == y_test)\n",
        "    allk_acc['SKlearn'][k] = float(num_correct) / num_test\n",
        "    allk_acc['Difference'][k] = allk_acc['Our KNN'][k] - allk_acc['SKlearn'][k]\n",
        "\n",
        "display(pd.DataFrame(allk_acc))\n"
      ],
      "execution_count": null,
      "outputs": [
        {
          "output_type": "display_data",
          "data": {
            "text/html": [
              "<div>\n",
              "<style scoped>\n",
              "    .dataframe tbody tr th:only-of-type {\n",
              "        vertical-align: middle;\n",
              "    }\n",
              "\n",
              "    .dataframe tbody tr th {\n",
              "        vertical-align: top;\n",
              "    }\n",
              "\n",
              "    .dataframe thead th {\n",
              "        text-align: right;\n",
              "    }\n",
              "</style>\n",
              "<table border=\"1\" class=\"dataframe\">\n",
              "  <thead>\n",
              "    <tr style=\"text-align: right;\">\n",
              "      <th></th>\n",
              "      <th>Our KNN</th>\n",
              "      <th>SKlearn</th>\n",
              "      <th>Difference</th>\n",
              "    </tr>\n",
              "  </thead>\n",
              "  <tbody>\n",
              "    <tr>\n",
              "      <th>1</th>\n",
              "      <td>0.274</td>\n",
              "      <td>0.274</td>\n",
              "      <td>0.000</td>\n",
              "    </tr>\n",
              "    <tr>\n",
              "      <th>2</th>\n",
              "      <td>0.274</td>\n",
              "      <td>0.224</td>\n",
              "      <td>0.050</td>\n",
              "    </tr>\n",
              "    <tr>\n",
              "      <th>3</th>\n",
              "      <td>0.280</td>\n",
              "      <td>0.272</td>\n",
              "      <td>0.008</td>\n",
              "    </tr>\n",
              "    <tr>\n",
              "      <th>4</th>\n",
              "      <td>0.284</td>\n",
              "      <td>0.272</td>\n",
              "      <td>0.012</td>\n",
              "    </tr>\n",
              "    <tr>\n",
              "      <th>5</th>\n",
              "      <td>0.290</td>\n",
              "      <td>0.278</td>\n",
              "      <td>0.012</td>\n",
              "    </tr>\n",
              "    <tr>\n",
              "      <th>6</th>\n",
              "      <td>0.290</td>\n",
              "      <td>0.282</td>\n",
              "      <td>0.008</td>\n",
              "    </tr>\n",
              "    <tr>\n",
              "      <th>7</th>\n",
              "      <td>0.292</td>\n",
              "      <td>0.274</td>\n",
              "      <td>0.018</td>\n",
              "    </tr>\n",
              "    <tr>\n",
              "      <th>8</th>\n",
              "      <td>0.294</td>\n",
              "      <td>0.274</td>\n",
              "      <td>0.020</td>\n",
              "    </tr>\n",
              "    <tr>\n",
              "      <th>9</th>\n",
              "      <td>0.290</td>\n",
              "      <td>0.268</td>\n",
              "      <td>0.022</td>\n",
              "    </tr>\n",
              "  </tbody>\n",
              "</table>\n",
              "</div>"
            ],
            "text/plain": [
              "   Our KNN  SKlearn  Difference\n",
              "1    0.274    0.274       0.000\n",
              "2    0.274    0.224       0.050\n",
              "3    0.280    0.272       0.008\n",
              "4    0.284    0.272       0.012\n",
              "5    0.290    0.278       0.012\n",
              "6    0.290    0.282       0.008\n",
              "7    0.292    0.274       0.018\n",
              "8    0.294    0.274       0.020\n",
              "9    0.290    0.268       0.022"
            ]
          },
          "metadata": {
            "tags": []
          }
        }
      ]
    },
    {
      "cell_type": "markdown",
      "metadata": {
        "id": "Tw0j1o8JuBZu"
      },
      "source": [
        "As you can see that in KNN algorithm it is important to tune the hyperparameter K. We will do this using Cross Validation Leave One Out approach. The idea is to split the train set into few folds(here we recommend you to set the fold number to 5). Then, for each value of K, we leave one of these folds out to evaluate performance but use the others to train. Repeat this by leaving each fold out once. You will get 5 accuracies in this case, one for leaving out each fold. Depending on the average accuracy decide on the optimal value of K. Report the same. We also expect you to present plots showing the average accuracy and standard deviation for each value of K."
      ]
    },
    {
      "cell_type": "code",
      "metadata": {
        "id": "JwKY3D05vw4h",
        "colab": {
          "base_uri": "https://localhost:8080/",
          "height": 204
        },
        "outputId": "88a2d62a-a148-4835-c799-8413799ec9ad"
      },
      "source": [
        "# Use this cell to implement Cross Validation\n",
        "\n",
        "ks_list = [1,3,5,7,9]\n",
        "\n",
        "kfolder = KFold(n_splits=5,random_state=1, shuffle=True)\n",
        "\n",
        "kfold_acc = {}\n",
        "\n",
        "for k in ks_list:\n",
        "    kfold_acc[k] = {}\n",
        "    sum_facc = 0 \n",
        "    for i, kfd in enumerate(kfolder.split(X_train)):\n",
        "        fx_train, fx_test = X_train[kfd[0]], X_train[kfd[1]]\n",
        "        fy_train, fy_test = y_train[kfd[0]], y_train[kfd[1]]\n",
        "        myknn = KNearestNeighbor()\n",
        "        myknn.train(fx_train, fy_train)\n",
        "        f_dists = myknn.compute_distances_no_loop(fx_test)\n",
        "        fy_preds = myknn.predict_labels(f_dists, k=k)\n",
        "        # neigh = KNeighborsClassifier(n_neighbors=k)\n",
        "        # neigh.fit(fx_train, fy_train)\n",
        "        # fy_preds = neigh.predict(fx_test)\n",
        "        num_correct = np.sum(fy_preds == fy_test)\n",
        "        facc = float(num_correct) / len(fy_test)\n",
        "        kfold_acc[k]['Fold-'+str(i)] = facc\n",
        "        sum_facc += facc\n",
        "    kfold_acc[k]['Avg'] = sum_facc / 5\n",
        "\n",
        "display(pd.DataFrame(kfold_acc).T)"
      ],
      "execution_count": null,
      "outputs": [
        {
          "output_type": "display_data",
          "data": {
            "text/html": [
              "<div>\n",
              "<style scoped>\n",
              "    .dataframe tbody tr th:only-of-type {\n",
              "        vertical-align: middle;\n",
              "    }\n",
              "\n",
              "    .dataframe tbody tr th {\n",
              "        vertical-align: top;\n",
              "    }\n",
              "\n",
              "    .dataframe thead th {\n",
              "        text-align: right;\n",
              "    }\n",
              "</style>\n",
              "<table border=\"1\" class=\"dataframe\">\n",
              "  <thead>\n",
              "    <tr style=\"text-align: right;\">\n",
              "      <th></th>\n",
              "      <th>Fold-0</th>\n",
              "      <th>Fold-1</th>\n",
              "      <th>Fold-2</th>\n",
              "      <th>Fold-3</th>\n",
              "      <th>Fold-4</th>\n",
              "      <th>Avg</th>\n",
              "    </tr>\n",
              "  </thead>\n",
              "  <tbody>\n",
              "    <tr>\n",
              "      <th>1</th>\n",
              "      <td>0.283</td>\n",
              "      <td>0.258</td>\n",
              "      <td>0.249</td>\n",
              "      <td>0.273</td>\n",
              "      <td>0.276</td>\n",
              "      <td>0.2678</td>\n",
              "    </tr>\n",
              "    <tr>\n",
              "      <th>3</th>\n",
              "      <td>0.282</td>\n",
              "      <td>0.284</td>\n",
              "      <td>0.255</td>\n",
              "      <td>0.276</td>\n",
              "      <td>0.266</td>\n",
              "      <td>0.2726</td>\n",
              "    </tr>\n",
              "    <tr>\n",
              "      <th>5</th>\n",
              "      <td>0.291</td>\n",
              "      <td>0.277</td>\n",
              "      <td>0.280</td>\n",
              "      <td>0.288</td>\n",
              "      <td>0.285</td>\n",
              "      <td>0.2842</td>\n",
              "    </tr>\n",
              "    <tr>\n",
              "      <th>7</th>\n",
              "      <td>0.292</td>\n",
              "      <td>0.272</td>\n",
              "      <td>0.293</td>\n",
              "      <td>0.289</td>\n",
              "      <td>0.298</td>\n",
              "      <td>0.2888</td>\n",
              "    </tr>\n",
              "    <tr>\n",
              "      <th>9</th>\n",
              "      <td>0.285</td>\n",
              "      <td>0.265</td>\n",
              "      <td>0.288</td>\n",
              "      <td>0.282</td>\n",
              "      <td>0.287</td>\n",
              "      <td>0.2814</td>\n",
              "    </tr>\n",
              "  </tbody>\n",
              "</table>\n",
              "</div>"
            ],
            "text/plain": [
              "   Fold-0  Fold-1  Fold-2  Fold-3  Fold-4     Avg\n",
              "1   0.283   0.258   0.249   0.273   0.276  0.2678\n",
              "3   0.282   0.284   0.255   0.276   0.266  0.2726\n",
              "5   0.291   0.277   0.280   0.288   0.285  0.2842\n",
              "7   0.292   0.272   0.293   0.289   0.298  0.2888\n",
              "9   0.285   0.265   0.288   0.282   0.287  0.2814"
            ]
          },
          "metadata": {
            "tags": []
          }
        }
      ]
    },
    {
      "cell_type": "markdown",
      "metadata": {
        "id": "JvpBcX8av5P1"
      },
      "source": [
        "In this last part of the notebook you are expected to do the following and present appropriate reports/results:\n",
        "\n",
        "1. Try subtracting the mean from each pixel in each image. This mean is computed across all pixels in all images. Report accuracies on the test set for k = 1,3,5,7. Is there any change in the accuracy? Why?\n",
        "2. Try subtracting the mean from each pixel in each image. This mean is computed across all pixels at that position from all images. Report accuracies on the test set for k = 1,3,5,7. Is there any change in the accuracy? Why?\n",
        "3. What is the time complexity of training using KNN classifier? What is the time complexity while testing? Is KNN a linear classifier or can it learn any boundary?\n",
        "4. Bonus: Explore what image features you can use to better the performance of KNN classifier.\n",
        "\n",
        "\n"
      ]
    },
    {
      "cell_type": "markdown",
      "metadata": {
        "id": "LUaFdu5s_Na1"
      },
      "source": [
        "We observe that there is no such change in the accuracies after applying the given preprocessing techniques. This is because we have subtracted the overall mean (constant) from each pixel, which does not change the relative distances. First method performs slightly better than the 2nd one as in the 1st method all distances (within columns as well as within rows) are perfectly maintained. "
      ]
    },
    {
      "cell_type": "code",
      "metadata": {
        "colab": {
          "base_uri": "https://localhost:8080/",
          "height": 286
        },
        "id": "1qnoeWlnoUkV",
        "outputId": "c9d33182-bdd5-49d9-b13c-6e2c7fcae46c"
      },
      "source": [
        "mean_sub_acc = {'Mean(all pixels)':{}, 'Mean(positional pixels)':{}}\n",
        "\n",
        "Xtrain_all_mean = X_train - X_train.mean()\n",
        "Xtest_all_mean = X_test - X_test.mean()\n",
        "\n",
        "# print(Xtrain_all_mean[0,:10])\n",
        "print(np.sum(Xtrain_all_mean))\n",
        "\n",
        "classifier = KNearestNeighbor()\n",
        "classifier.train(Xtrain_all_mean, y_train)\n",
        "msa_dists = classifier.compute_distances_no_loop(Xtest_all_mean)\n",
        "\n",
        "num_test = len(y_test)\n",
        "\n",
        "temp_ms_acc = {}\n",
        "sum_acc = 0\n",
        "for k in ks_list:\n",
        "    y_preds = classifier.predict_labels(msa_dists, k=k)\n",
        "    num_correct = np.sum(y_preds == y_test)\n",
        "    acc = float(num_correct) / num_test\n",
        "    temp_ms_acc[k] = acc\n",
        "    sum_acc += acc\n",
        "temp_ms_acc['Avg'] = sum_acc/len(ks_list)\n",
        "mean_sub_acc['Mean(all pixels)'] = temp_ms_acc\n",
        "\n",
        "\n",
        "Xtrain_pos_mean = X_train - np.mean(X_train,axis=0)\n",
        "Xtest_pos_mean = X_test - np.mean(X_test,axis=0)\n",
        "\n",
        "classifier = KNearestNeighbor()\n",
        "classifier.train(Xtrain_pos_mean, y_train)\n",
        "msp_dists = classifier.compute_distances_no_loop(Xtest_pos_mean)\n",
        "\n",
        "# print(Xtrain_pos_mean[0,:10])\n",
        "print(np.sum(Xtrain_pos_mean,axis=0))\n",
        "\n",
        "temp_ms_acc = {}\n",
        "sum_acc = 0\n",
        "for k in ks_list:\n",
        "    y_preds = classifier.predict_labels(msp_dists, k=k)\n",
        "    num_correct = np.sum(y_preds == y_test)\n",
        "    acc = float(num_correct) / num_test\n",
        "    temp_ms_acc[k] = acc\n",
        "    sum_acc += acc\n",
        "temp_ms_acc['Avg'] = sum_acc/len(ks_list)\n",
        "mean_sub_acc['Mean(positional pixels)'] = temp_ms_acc\n",
        "\n",
        "display(pd.DataFrame(mean_sub_acc))"
      ],
      "execution_count": null,
      "outputs": [
        {
          "output_type": "stream",
          "text": [
            "1.6039120964705944e-07\n",
            "[-3.31681349e-11 -9.68043423e-11  1.06467724e-10 ... -1.01408659e-10\n",
            "  1.00669695e-10 -2.05147899e-10]\n"
          ],
          "name": "stdout"
        },
        {
          "output_type": "display_data",
          "data": {
            "text/html": [
              "<div>\n",
              "<style scoped>\n",
              "    .dataframe tbody tr th:only-of-type {\n",
              "        vertical-align: middle;\n",
              "    }\n",
              "\n",
              "    .dataframe tbody tr th {\n",
              "        vertical-align: top;\n",
              "    }\n",
              "\n",
              "    .dataframe thead th {\n",
              "        text-align: right;\n",
              "    }\n",
              "</style>\n",
              "<table border=\"1\" class=\"dataframe\">\n",
              "  <thead>\n",
              "    <tr style=\"text-align: right;\">\n",
              "      <th></th>\n",
              "      <th>Mean(all pixels)</th>\n",
              "      <th>Mean(positional pixels)</th>\n",
              "    </tr>\n",
              "  </thead>\n",
              "  <tbody>\n",
              "    <tr>\n",
              "      <th>1</th>\n",
              "      <td>0.2660</td>\n",
              "      <td>0.2700</td>\n",
              "    </tr>\n",
              "    <tr>\n",
              "      <th>3</th>\n",
              "      <td>0.2920</td>\n",
              "      <td>0.2660</td>\n",
              "    </tr>\n",
              "    <tr>\n",
              "      <th>5</th>\n",
              "      <td>0.2920</td>\n",
              "      <td>0.2880</td>\n",
              "    </tr>\n",
              "    <tr>\n",
              "      <th>7</th>\n",
              "      <td>0.2820</td>\n",
              "      <td>0.2700</td>\n",
              "    </tr>\n",
              "    <tr>\n",
              "      <th>9</th>\n",
              "      <td>0.2800</td>\n",
              "      <td>0.2900</td>\n",
              "    </tr>\n",
              "    <tr>\n",
              "      <th>Avg</th>\n",
              "      <td>0.2824</td>\n",
              "      <td>0.2768</td>\n",
              "    </tr>\n",
              "  </tbody>\n",
              "</table>\n",
              "</div>"
            ],
            "text/plain": [
              "     Mean(all pixels)  Mean(positional pixels)\n",
              "1              0.2660                   0.2700\n",
              "3              0.2920                   0.2660\n",
              "5              0.2920                   0.2880\n",
              "7              0.2820                   0.2700\n",
              "9              0.2800                   0.2900\n",
              "Avg            0.2824                   0.2768"
            ]
          },
          "metadata": {
            "tags": []
          }
        }
      ]
    },
    {
      "cell_type": "markdown",
      "metadata": {
        "id": "ZuowGxdF2ZMD"
      },
      "source": [
        "Here, we have followed the brute force approach for KNN. Consider that distance computation between 2 points takes O(d) time which increases with the increase in the dimensions. We calculate distances for the testing point with all the 'n' training points. So distance calculation takes O(dn). We have calculated distances only once. Then we find the smallest 'k' distances from the 'n' distances which takes time O(kn). Thus our overall time complexity for KNN is : O(dn + kn)."
      ]
    },
    {
      "cell_type": "markdown",
      "metadata": {
        "id": "6poNZp96z1gN"
      },
      "source": [
        "# **Decision Trees**\n",
        "\n",
        "The Wisconsin Breast Cancer Dataset(WBCD) can be found here(https://archive.ics.uci.edu/ml/machine-learning-databases/breast-cancer-wisconsin/breast-cancer-wisconsin.data)\n",
        "\n",
        "This dataset describes the characteristics of the cell nuclei of various patients with and without breast cancer. The task is to classify a decision tree to predict if a patient has a benign or a malignant tumour based on these features.\n",
        "\n",
        "Attribute Information:\n",
        "```\n",
        "#  Attribute                     Domain\n",
        "   -- -----------------------------------------\n",
        "   1. Sample code number            id number\n",
        "   2. Clump Thickness               1 - 10\n",
        "   3. Uniformity of Cell Size       1 - 10\n",
        "   4. Uniformity of Cell Shape      1 - 10\n",
        "   5. Marginal Adhesion             1 - 10\n",
        "   6. Single Epithelial Cell Size   1 - 10\n",
        "   7. Bare Nuclei                   1 - 10\n",
        "   8. Bland Chromatin               1 - 10\n",
        "   9. Normal Nucleoli               1 - 10\n",
        "  10. Mitoses                       1 - 10\n",
        "  11. Class:                        (2 for benign, 4 for malignant)\n",
        "```\n"
      ]
    },
    {
      "cell_type": "code",
      "metadata": {
        "id": "faZF0gnV2_pc"
      },
      "source": [
        "import seaborn as sns\n",
        "import pandas as pd\n",
        "import random\n",
        "import time\n",
        "import numpy as np\n",
        "from sklearn.tree import DecisionTreeClassifier\n",
        "from sklearn.preprocessing import StandardScaler\n",
        "from sklearn.preprocessing import Normalizer\n",
        "from sklearn.preprocessing import MinMaxScaler\n",
        "from sklearn.metrics import r2_score, mean_absolute_error, mean_squared_error"
      ],
      "execution_count": 88,
      "outputs": []
    },
    {
      "cell_type": "markdown",
      "metadata": {
        "id": "fx3nK3Evqaos"
      },
      "source": [
        "We observe that there are no non-numeric values in the dataset"
      ]
    },
    {
      "cell_type": "code",
      "metadata": {
        "id": "q14LTptiDDZ4",
        "colab": {
          "base_uri": "https://localhost:8080/",
          "height": 603
        },
        "outputId": "2ea8efea-4716-4564-ea74-8c7c6931343b"
      },
      "source": [
        "\n",
        "headers = [\"ID\",\"CT\",\"UCSize\",\"UCShape\",\"MA\",\"SECSize\",\"BN\",\"BC\",\"NN\",\"Mitoses\",\"Diagnosis\"]\n",
        "data = pd.read_csv('breast-cancer-wisconsin.data', na_values='?',    \n",
        "         header=None, index_col=['ID'], names = headers) \n",
        "data = data.reset_index(drop=True)\n",
        "data = data.fillna(0)\n",
        "display(data.describe())\n",
        "display(data.info())"
      ],
      "execution_count": 11,
      "outputs": [
        {
          "output_type": "display_data",
          "data": {
            "text/html": [
              "<div>\n",
              "<style scoped>\n",
              "    .dataframe tbody tr th:only-of-type {\n",
              "        vertical-align: middle;\n",
              "    }\n",
              "\n",
              "    .dataframe tbody tr th {\n",
              "        vertical-align: top;\n",
              "    }\n",
              "\n",
              "    .dataframe thead th {\n",
              "        text-align: right;\n",
              "    }\n",
              "</style>\n",
              "<table border=\"1\" class=\"dataframe\">\n",
              "  <thead>\n",
              "    <tr style=\"text-align: right;\">\n",
              "      <th></th>\n",
              "      <th>CT</th>\n",
              "      <th>UCSize</th>\n",
              "      <th>UCShape</th>\n",
              "      <th>MA</th>\n",
              "      <th>SECSize</th>\n",
              "      <th>BN</th>\n",
              "      <th>BC</th>\n",
              "      <th>NN</th>\n",
              "      <th>Mitoses</th>\n",
              "      <th>Diagnosis</th>\n",
              "    </tr>\n",
              "  </thead>\n",
              "  <tbody>\n",
              "    <tr>\n",
              "      <th>count</th>\n",
              "      <td>699.000000</td>\n",
              "      <td>699.000000</td>\n",
              "      <td>699.000000</td>\n",
              "      <td>699.000000</td>\n",
              "      <td>699.000000</td>\n",
              "      <td>699.000000</td>\n",
              "      <td>699.000000</td>\n",
              "      <td>699.000000</td>\n",
              "      <td>699.000000</td>\n",
              "      <td>699.000000</td>\n",
              "    </tr>\n",
              "    <tr>\n",
              "      <th>mean</th>\n",
              "      <td>4.417740</td>\n",
              "      <td>3.134478</td>\n",
              "      <td>3.207439</td>\n",
              "      <td>2.806867</td>\n",
              "      <td>3.216023</td>\n",
              "      <td>3.463519</td>\n",
              "      <td>3.437768</td>\n",
              "      <td>2.866953</td>\n",
              "      <td>1.589413</td>\n",
              "      <td>2.689557</td>\n",
              "    </tr>\n",
              "    <tr>\n",
              "      <th>std</th>\n",
              "      <td>2.815741</td>\n",
              "      <td>3.051459</td>\n",
              "      <td>2.971913</td>\n",
              "      <td>2.855379</td>\n",
              "      <td>2.214300</td>\n",
              "      <td>3.640708</td>\n",
              "      <td>2.438364</td>\n",
              "      <td>3.053634</td>\n",
              "      <td>1.715078</td>\n",
              "      <td>0.951273</td>\n",
              "    </tr>\n",
              "    <tr>\n",
              "      <th>min</th>\n",
              "      <td>1.000000</td>\n",
              "      <td>1.000000</td>\n",
              "      <td>1.000000</td>\n",
              "      <td>1.000000</td>\n",
              "      <td>1.000000</td>\n",
              "      <td>0.000000</td>\n",
              "      <td>1.000000</td>\n",
              "      <td>1.000000</td>\n",
              "      <td>1.000000</td>\n",
              "      <td>2.000000</td>\n",
              "    </tr>\n",
              "    <tr>\n",
              "      <th>25%</th>\n",
              "      <td>2.000000</td>\n",
              "      <td>1.000000</td>\n",
              "      <td>1.000000</td>\n",
              "      <td>1.000000</td>\n",
              "      <td>2.000000</td>\n",
              "      <td>1.000000</td>\n",
              "      <td>2.000000</td>\n",
              "      <td>1.000000</td>\n",
              "      <td>1.000000</td>\n",
              "      <td>2.000000</td>\n",
              "    </tr>\n",
              "    <tr>\n",
              "      <th>50%</th>\n",
              "      <td>4.000000</td>\n",
              "      <td>1.000000</td>\n",
              "      <td>1.000000</td>\n",
              "      <td>1.000000</td>\n",
              "      <td>2.000000</td>\n",
              "      <td>1.000000</td>\n",
              "      <td>3.000000</td>\n",
              "      <td>1.000000</td>\n",
              "      <td>1.000000</td>\n",
              "      <td>2.000000</td>\n",
              "    </tr>\n",
              "    <tr>\n",
              "      <th>75%</th>\n",
              "      <td>6.000000</td>\n",
              "      <td>5.000000</td>\n",
              "      <td>5.000000</td>\n",
              "      <td>4.000000</td>\n",
              "      <td>4.000000</td>\n",
              "      <td>5.000000</td>\n",
              "      <td>5.000000</td>\n",
              "      <td>4.000000</td>\n",
              "      <td>1.000000</td>\n",
              "      <td>4.000000</td>\n",
              "    </tr>\n",
              "    <tr>\n",
              "      <th>max</th>\n",
              "      <td>10.000000</td>\n",
              "      <td>10.000000</td>\n",
              "      <td>10.000000</td>\n",
              "      <td>10.000000</td>\n",
              "      <td>10.000000</td>\n",
              "      <td>10.000000</td>\n",
              "      <td>10.000000</td>\n",
              "      <td>10.000000</td>\n",
              "      <td>10.000000</td>\n",
              "      <td>4.000000</td>\n",
              "    </tr>\n",
              "  </tbody>\n",
              "</table>\n",
              "</div>"
            ],
            "text/plain": [
              "               CT      UCSize     UCShape  ...          NN     Mitoses   Diagnosis\n",
              "count  699.000000  699.000000  699.000000  ...  699.000000  699.000000  699.000000\n",
              "mean     4.417740    3.134478    3.207439  ...    2.866953    1.589413    2.689557\n",
              "std      2.815741    3.051459    2.971913  ...    3.053634    1.715078    0.951273\n",
              "min      1.000000    1.000000    1.000000  ...    1.000000    1.000000    2.000000\n",
              "25%      2.000000    1.000000    1.000000  ...    1.000000    1.000000    2.000000\n",
              "50%      4.000000    1.000000    1.000000  ...    1.000000    1.000000    2.000000\n",
              "75%      6.000000    5.000000    5.000000  ...    4.000000    1.000000    4.000000\n",
              "max     10.000000   10.000000   10.000000  ...   10.000000   10.000000    4.000000\n",
              "\n",
              "[8 rows x 10 columns]"
            ]
          },
          "metadata": {
            "tags": []
          }
        },
        {
          "output_type": "stream",
          "text": [
            "<class 'pandas.core.frame.DataFrame'>\n",
            "RangeIndex: 699 entries, 0 to 698\n",
            "Data columns (total 10 columns):\n",
            " #   Column     Non-Null Count  Dtype  \n",
            "---  ------     --------------  -----  \n",
            " 0   CT         699 non-null    int64  \n",
            " 1   UCSize     699 non-null    int64  \n",
            " 2   UCShape    699 non-null    int64  \n",
            " 3   MA         699 non-null    int64  \n",
            " 4   SECSize    699 non-null    int64  \n",
            " 5   BN         699 non-null    float64\n",
            " 6   BC         699 non-null    int64  \n",
            " 7   NN         699 non-null    int64  \n",
            " 8   Mitoses    699 non-null    int64  \n",
            " 9   Diagnosis  699 non-null    int64  \n",
            "dtypes: float64(1), int64(9)\n",
            "memory usage: 54.7 KB\n"
          ],
          "name": "stdout"
        },
        {
          "output_type": "display_data",
          "data": {
            "text/plain": [
              "None"
            ]
          },
          "metadata": {
            "tags": []
          }
        }
      ]
    },
    {
      "cell_type": "markdown",
      "metadata": {
        "id": "eo1BRpN8-jFd"
      },
      "source": [
        "1. a) Implement a decision tree(from scratch using only python data structures) as a class."
      ]
    },
    {
      "cell_type": "code",
      "metadata": {
        "id": "SZ2-nGGPz3WK"
      },
      "source": [
        "def splitTrainTest(data_df, test_size):\n",
        "    random.seed(4)\n",
        "    if isinstance(test_size, float):\n",
        "        test_size = round(test_size * len(data_df))\n",
        "    indices = data_df.index.tolist()\n",
        "    test_indices = random.sample(population = indices, k=test_size)\n",
        "    test_data_df = data_df.loc[test_indices]\n",
        "    train_data_df = data_df.drop(test_indices)\n",
        "    return train_data_df, test_data_df\n",
        "\n",
        "def calculateAccuracy(predictions, category):\n",
        "    result_correct = predictions == category\n",
        "    return result_correct.mean()"
      ],
      "execution_count": 2,
      "outputs": []
    },
    {
      "cell_type": "code",
      "metadata": {
        "id": "6Tg4dY8KzN20"
      },
      "source": [
        "\n",
        "class MyDecisionTree(object):\n",
        "    def __init__(self, data_df, split_metric, max_depth=10, min_samples=2):\n",
        "        self.org_data_df = data_df.values\n",
        "        self.split_metric = split_metric\n",
        "        self.max_depth = max_depth\n",
        "        self.min_samples = min_samples\n",
        "        self.col_headers = data_df.columns\n",
        "        self.classmap = {2:'Benign', 4:'Malignant'}\n",
        "        self.decision_tree = self.buildDecisionTree(self.org_data_df, 0)\n",
        "\n",
        "    def checkPurity(self, curr_data_df):\n",
        "        if len(np.unique(curr_data_df[:, -1])) > 1:\n",
        "            return False\n",
        "        else:\n",
        "            return True\n",
        "    \n",
        "    def classifyData(self, curr_data_df):\n",
        "        uniq_classes, uniq_classes_counts = np.unique(curr_data_df[:, -1], return_counts=True)\n",
        "        return uniq_classes[uniq_classes_counts.argmax()]\n",
        "\n",
        "    def getPotentialSplits(self, curr_data_df):\n",
        "        potential_splits = {}\n",
        "        num_cols = curr_data_df.shape[1]\n",
        "        cols_indices = list(range(num_cols - 1))\n",
        "        for col_idx in cols_indices:\n",
        "            values = curr_data_df[:, col_idx]\n",
        "            unique_values = np.unique(values)\n",
        "            if len(unique_values) == 1:\n",
        "                potential_splits[col_idx] = unique_values\n",
        "            else:\n",
        "                potential_splits[col_idx] = []\n",
        "                for i in range(1,len(unique_values)):\n",
        "                    curr_val = unique_values[i]\n",
        "                    prev_val = unique_values[i - 1]\n",
        "                    potential_splits[col_idx].append((curr_val + prev_val) / 2)\n",
        "        return potential_splits\n",
        "\n",
        "    def calculateEntropy(self, curr_data_df):\n",
        "        _, uniq_classes_counts = np.unique(curr_data_df[:, -1], return_counts = True)\n",
        "        probabilities = uniq_classes_counts / uniq_classes_counts.sum()\n",
        "        return sum(probabilities * -np.log2(probabilities))\n",
        "\n",
        "    def calcOverallEntropy(self, data_below, data_above):\n",
        "        p_data_below = len(data_below) / (len(data_below) + len(data_above))\n",
        "        p_data_above = len(data_above) / (len(data_below) + len(data_above))\n",
        "        return p_data_below * self.calculateEntropy(data_below) + p_data_above * self.calculateEntropy(data_above)\n",
        "\n",
        "    def getBestSplit_Entropy(self, curr_data_df, potential_splits):\n",
        "        overall_entropy = 9999\n",
        "        best_split_col = 0\n",
        "        best_split_val = 0\n",
        "        for split_col in potential_splits:\n",
        "            for split_val in potential_splits[split_col]:\n",
        "                data_below, data_above = self.splitData(curr_data_df, split_col, split_val)\n",
        "                curr_overall_entropy = self.calcOverallEntropy(data_below, data_above)\n",
        "                if curr_overall_entropy <= overall_entropy:\n",
        "                    overall_entropy = curr_overall_entropy\n",
        "                    best_split_col = split_col\n",
        "                    best_split_val = split_val\n",
        "        return best_split_col, best_split_val\n",
        "\n",
        "    def calcGiniImpurity(self, curr_data_df):\n",
        "        uniq_classes, uniq_classes_counts = np.unique(curr_data_df[:, -1], return_counts = True)\n",
        "        impurity = 1.0\n",
        "        for i in range(len(uniq_classes_counts)):\n",
        "            p_i = uniq_classes_counts[i] / sum(uniq_classes_counts)\n",
        "            impurity -= p_i ** 2 \n",
        "        return impurity\n",
        "\n",
        "    def calcInfoGain(self, data_below, data_above, impurity):\n",
        "        p_data_below = len(data_below) / (len(data_below) + len(data_above))\n",
        "        p_data_above = len(data_above) / (len(data_below) + len(data_above))\n",
        "        return impurity - p_data_below * self.calcGiniImpurity(data_below) - p_data_above * self.calcGiniImpurity(data_above)\n",
        "\n",
        "    def getBestSplit_Gini(self, curr_data_df, potential_splits):\n",
        "        best_infogain = 0\n",
        "        best_split_col = 0\n",
        "        best_split_val = 0\n",
        "        node_impurity = self.calcGiniImpurity(curr_data_df)\n",
        "        for split_col in potential_splits:\n",
        "            for split_val in potential_splits[split_col]:\n",
        "                data_below, data_above = self.splitData(curr_data_df, split_col, split_val)\n",
        "                curr_infogain = self.calcInfoGain(data_below, data_above, node_impurity)\n",
        "                if curr_infogain >= best_infogain:\n",
        "                    best_infogain = curr_infogain\n",
        "                    best_split_col = split_col\n",
        "                    best_split_val = split_val\n",
        "        return best_split_col, best_split_val\n",
        "\n",
        "    def calcMisclassRate(self, curr_data_df):\n",
        "        _, uniq_classes_counts = np.unique(curr_data_df[:, -1], return_counts = True)\n",
        "        probabilities = uniq_classes_counts / uniq_classes_counts.sum()\n",
        "        if len(probabilities)==0:\n",
        "            return 0\n",
        "        return 1 - max(probabilities)\n",
        "\n",
        "    def calcOverallMisclassRate(self, data_below, data_above):\n",
        "        p_data_below = len(data_below) / (len(data_below) + len(data_above))\n",
        "        p_data_above = len(data_above) / (len(data_below) + len(data_above))\n",
        "        return p_data_below * self.calcMisclassRate(data_below) + p_data_above * self.calcMisclassRate(data_above)\n",
        "\n",
        "    def getBestSplit_MisclassRate(self, curr_data_df, potential_splits):\n",
        "        overall_misclass_rate = 9999\n",
        "        best_split_col = 0\n",
        "        best_split_val = 0\n",
        "        for split_col in potential_splits:\n",
        "            for split_val in potential_splits[split_col]:\n",
        "                data_below, data_above = self.splitData(curr_data_df, split_col, split_val)\n",
        "                curr_overall_misclass_rate = self.calcOverallMisclassRate(data_below, data_above)\n",
        "                if curr_overall_misclass_rate <= overall_misclass_rate:\n",
        "                    overall_misclass_rate = curr_overall_misclass_rate\n",
        "                    best_split_col = split_col\n",
        "                    best_split_val = split_val\n",
        "        return best_split_col, best_split_val\n",
        "\n",
        "    def getBestSplit(self, curr_data_df, potential_splits):\n",
        "        if self.split_metric == 'entropy':\n",
        "            return self.getBestSplit_Entropy(curr_data_df, potential_splits)\n",
        "        if self.split_metric == 'gini':\n",
        "            return self.getBestSplit_Gini(curr_data_df, potential_splits)\n",
        "        if self.split_metric == 'misclass_rate':\n",
        "            return self.getBestSplit_MisclassRate(curr_data_df, potential_splits)\n",
        "\n",
        "    def splitData(self, curr_data_df, split_col, split_val):\n",
        "        split_col_vals = curr_data_df[:, split_col]\n",
        "        return curr_data_df[split_col_vals <= split_val], curr_data_df[split_col_vals > split_val]\n",
        "\n",
        "    def buildDecisionTree(self, curr_data_df, curr_depth):\n",
        "        if self.checkPurity(curr_data_df) or len(curr_data_df)<self.min_samples or curr_depth==self.max_depth:\n",
        "            return self.classifyData(curr_data_df)\n",
        "        else:\n",
        "            curr_depth += 1\n",
        "            potential_splits = self.getPotentialSplits(curr_data_df)\n",
        "            split_col, split_val = self.getBestSplit(curr_data_df, potential_splits)\n",
        "            data_below, data_above = self.splitData(curr_data_df, split_col, split_val)\n",
        "            if len(data_below)==0 or len(data_above)==0:\n",
        "                return self.classifyData(curr_data_df)\n",
        "            else:\n",
        "                question = str(self.col_headers[split_col])+\" <= \"+str(split_val)\n",
        "                decision_subtree = {question: []}\n",
        "                yes_answer = self.buildDecisionTree(data_below, curr_depth)\n",
        "                no_answer = self.buildDecisionTree(data_above, curr_depth)\n",
        "                if yes_answer == no_answer:\n",
        "                    decision_subtree = yes_answer\n",
        "                else:\n",
        "                    decision_subtree[question].append(yes_answer)\n",
        "                    decision_subtree[question].append(no_answer)\n",
        "                return decision_subtree\n",
        "\n",
        "    def classifySample(self, sample, curr_subtree):\n",
        "        if not isinstance(curr_subtree, dict):\n",
        "            return curr_subtree\n",
        "        question = list(curr_subtree.keys())[0]\n",
        "        attribute, value = question.split(\" <= \")\n",
        "        if sample[attribute] <= float(value):\n",
        "            answer = curr_subtree[question][0]\n",
        "        else:\n",
        "            answer = curr_subtree[question][1]\n",
        "        return self.classifySample(sample, answer)\n",
        "\n",
        "    def decisionTreePredictions(self, test_data_df):\n",
        "        predictions = test_data_df.apply(self.classifySample, axis=1, args = (self.decision_tree,))\n",
        "        return predictions\n",
        "\n",
        "    def showDecisionTree(self):\n",
        "        self.print_dtree(self.decision_tree, depth=0, indent=2)\n",
        "        # return self.decision_tree\n",
        "\n",
        "    def print_dtree(self, tree_dict, depth=0, indent=2):\n",
        "        if not isinstance(tree_dict, dict):\n",
        "            print(\"{}{}\".format(\" \"*(indent*depth), self.classmap[int(tree_dict)]))\n",
        "        else:\n",
        "            q = list(tree_dict.keys())[0]\n",
        "            print(\"{}{}\".format(\" \"*(indent*depth), 'Is '+q+'?'))\n",
        "            print(\"{}{}\".format(\" \"*(indent*depth), 'True Branch'))\n",
        "            self.print_dtree(tree_dict[q][0], depth+1, indent)\n",
        "            print(\"{}{}\".format(\" \"*(indent*depth), 'Is'+q+'?'))\n",
        "            print(\"{}{}\".format(\" \"*(indent*depth), 'False Branch'))\n",
        "            self.print_dtree(tree_dict[q][1], depth+1, indent)\n"
      ],
      "execution_count": 40,
      "outputs": []
    },
    {
      "cell_type": "code",
      "metadata": {
        "id": "IARWNHUl2wie"
      },
      "source": [
        "df_train, df_test = splitTrainTest(data, test_size=0.20)\n",
        "# display(df_train.head())"
      ],
      "execution_count": 108,
      "outputs": []
    },
    {
      "cell_type": "markdown",
      "metadata": {
        "id": "N8tisI0rABrd"
      },
      "source": [
        "1. b) Train a decision tree object of the above class on the WBC dataset using misclassification rate, entropy and Gini as the splitting metrics."
      ]
    },
    {
      "cell_type": "code",
      "metadata": {
        "id": "PM_O8jULEVn2",
        "colab": {
          "base_uri": "https://localhost:8080/"
        },
        "outputId": "b0240c71-c688-412e-f0f9-b0cae3aced1f"
      },
      "source": [
        "metrics = ['entropy', 'gini', 'misclass_rate']\n",
        "test_acc = {}\n",
        "\n",
        "print(\"Initialized the trees with Min-samples:\",4)\n",
        "\n",
        "for metric in metrics:\n",
        "    print(\"\\n***** Metric:\",metric,'*****')\n",
        "    i = 1\n",
        "    acc_train = 0\n",
        "    train_acc_rep = 0\n",
        "    prev_acc_train = 0\n",
        "    max_testacc = 0\n",
        "    best_depth = 0\n",
        "    while acc_train<100 and train_acc_rep<2:\n",
        "        dt_classfier = MyDecisionTree(df_train, split_metric=metric, max_depth=i, min_samples=4)\n",
        "        dt_preds_train = dt_classfier.decisionTreePredictions(df_train)\n",
        "        acc_train = calculateAccuracy(dt_preds_train, df_train.iloc[:, -1]) * 100\n",
        "        dt_preds_test = dt_classfier.decisionTreePredictions(df_test)\n",
        "        acc_test = calculateAccuracy(dt_preds_test, df_test.iloc[:, -1]) * 100\n",
        "        print(\"maxDepth = {}: \".format(i), end = \" \")\n",
        "        print(\"Train acc = {0:.2f}%, \".format(acc_train), end = \" \")\n",
        "        print(\"Test acc = {0:.2f}%, \".format(acc_test), end = \" \")\n",
        "        print(\"Test Rsqr = {0:.2f} \".format(r2_score(dt_preds_test,df_test.iloc[:, -1])), end = \"\\n\")\n",
        "        if acc_test >= max_testacc:\n",
        "            max_testacc = acc_test\n",
        "            best_depth = i\n",
        "        if prev_acc_train==acc_train:\n",
        "            train_acc_rep += 1\n",
        "        else:\n",
        "            train_acc_rep = 0\n",
        "        prev_acc_train = acc_train\n",
        "        i += 1\n",
        "    test_acc[metric] = best_depth"
      ],
      "execution_count": 72,
      "outputs": [
        {
          "output_type": "stream",
          "text": [
            "Initialized the trees with Min-samples: 4\n",
            "\n",
            "***** Metric: entropy *****\n",
            "maxDepth = 1:  Train acc = 92.67%,  Test acc = 91.43%,  Test Rsqr = 0.64 \n",
            "maxDepth = 2:  Train acc = 92.67%,  Test acc = 91.43%,  Test Rsqr = 0.64 \n",
            "maxDepth = 3:  Train acc = 97.14%,  Test acc = 91.43%,  Test Rsqr = 0.62 \n",
            "maxDepth = 4:  Train acc = 98.03%,  Test acc = 92.86%,  Test Rsqr = 0.69 \n",
            "maxDepth = 5:  Train acc = 98.57%,  Test acc = 91.43%,  Test Rsqr = 0.63 \n",
            "maxDepth = 6:  Train acc = 98.93%,  Test acc = 90.71%,  Test Rsqr = 0.61 \n",
            "maxDepth = 7:  Train acc = 99.82%,  Test acc = 91.43%,  Test Rsqr = 0.64 \n",
            "maxDepth = 8:  Train acc = 99.82%,  Test acc = 91.43%,  Test Rsqr = 0.64 \n",
            "maxDepth = 9:  Train acc = 99.82%,  Test acc = 91.43%,  Test Rsqr = 0.64 \n",
            "\n",
            "***** Metric: gini *****\n",
            "maxDepth = 1:  Train acc = 92.67%,  Test acc = 91.43%,  Test Rsqr = 0.64 \n",
            "maxDepth = 2:  Train acc = 95.71%,  Test acc = 92.14%,  Test Rsqr = 0.67 \n",
            "maxDepth = 3:  Train acc = 96.42%,  Test acc = 92.86%,  Test Rsqr = 0.70 \n",
            "maxDepth = 4:  Train acc = 97.32%,  Test acc = 92.86%,  Test Rsqr = 0.69 \n",
            "maxDepth = 5:  Train acc = 97.32%,  Test acc = 92.86%,  Test Rsqr = 0.69 \n",
            "maxDepth = 6:  Train acc = 98.03%,  Test acc = 89.29%,  Test Rsqr = 0.53 \n",
            "maxDepth = 7:  Train acc = 98.75%,  Test acc = 90.00%,  Test Rsqr = 0.56 \n",
            "maxDepth = 8:  Train acc = 98.93%,  Test acc = 91.43%,  Test Rsqr = 0.62 \n",
            "maxDepth = 9:  Train acc = 98.93%,  Test acc = 91.43%,  Test Rsqr = 0.62 \n",
            "maxDepth = 10:  Train acc = 98.93%,  Test acc = 91.43%,  Test Rsqr = 0.62 \n",
            "\n",
            "***** Metric: misclass_rate *****\n",
            "maxDepth = 1:  Train acc = 93.02%,  Test acc = 91.43%,  Test Rsqr = 0.60 \n",
            "maxDepth = 2:  Train acc = 96.06%,  Test acc = 94.29%,  Test Rsqr = 0.74 \n",
            "maxDepth = 3:  Train acc = 96.96%,  Test acc = 93.57%,  Test Rsqr = 0.72 \n",
            "maxDepth = 4:  Train acc = 97.50%,  Test acc = 95.00%,  Test Rsqr = 0.78 \n",
            "maxDepth = 5:  Train acc = 98.21%,  Test acc = 95.00%,  Test Rsqr = 0.78 \n",
            "maxDepth = 6:  Train acc = 98.75%,  Test acc = 95.00%,  Test Rsqr = 0.78 \n",
            "maxDepth = 7:  Train acc = 98.93%,  Test acc = 95.00%,  Test Rsqr = 0.78 \n",
            "maxDepth = 8:  Train acc = 98.93%,  Test acc = 95.00%,  Test Rsqr = 0.78 \n",
            "maxDepth = 9:  Train acc = 99.11%,  Test acc = 94.29%,  Test Rsqr = 0.75 \n",
            "maxDepth = 10:  Train acc = 99.11%,  Test acc = 94.29%,  Test Rsqr = 0.75 \n",
            "maxDepth = 11:  Train acc = 99.11%,  Test acc = 94.29%,  Test Rsqr = 0.75 \n"
          ],
          "name": "stdout"
        }
      ]
    },
    {
      "cell_type": "markdown",
      "metadata": {
        "id": "RAonBT-SrSgL"
      },
      "source": [
        "Training and testing accuracy is noted for different tree max-depth values. We see that as the max_depth increases, the training accuracy also increases but then the tree starts to overfit gradually so the testing accuracy starts decreasing with large max-depth. The best tree here is the one with large train (not ~100%) and large test accuracy and acceptable max-depth"
      ]
    },
    {
      "cell_type": "markdown",
      "metadata": {
        "id": "KS_5y9sPFrYv"
      },
      "source": [
        "1. c) Report the accuracies in each of the above splitting metrics and give the best result. "
      ]
    },
    {
      "cell_type": "code",
      "metadata": {
        "id": "1jDvTBgPHE19",
        "colab": {
          "base_uri": "https://localhost:8080/"
        },
        "outputId": "4515cf6c-719d-426e-c484-d2d1819e75c9"
      },
      "source": [
        "print(\"Best test accuracy for Min-samples=4\")\n",
        "# print(test_acc)\n",
        "\n",
        "for metric,depth in test_acc.items():\n",
        "    print(\"\\n\\n****** Metric:\",metric,\"*******\")\n",
        "    dt_classfier = MyDecisionTree(df_train, split_metric=metric, max_depth=depth, min_samples=4)\n",
        "    dt_preds_train = dt_classfier.decisionTreePredictions(df_train)\n",
        "    acc_train = calculateAccuracy(dt_preds_train, df_train.iloc[:, -1]) * 100\n",
        "    dt_preds_test = dt_classfier.decisionTreePredictions(df_test)\n",
        "    acc_test = calculateAccuracy(dt_preds_test, df_test.iloc[:, -1]) * 100\n",
        "    print(\"maxDepth = {}: \".format(i), end = \" \")\n",
        "    print(\"Train acc = {0:.2f}%, \".format(acc_train), end = \" \")\n",
        "    print(\"Test acc = {0:.2f}%, \".format(acc_test), end = \" \")\n",
        "    print(\"Test MAE = {0:.2f}, \".format(mean_absolute_error(dt_preds_test,df_test.iloc[:, -1])), end = \" \")\n",
        "    print(\"Test MSE = {0:.2f}, \".format(mean_squared_error(dt_preds_test,df_test.iloc[:, -1])), end = \" \")\n",
        "    print(\"Test Rsqr = {0:.2f} \".format(r2_score(dt_preds_test,df_test.iloc[:, -1])), end = \" \")"
      ],
      "execution_count": 70,
      "outputs": [
        {
          "output_type": "stream",
          "text": [
            "Best test accuracy for Min-samples=4\n",
            "\n",
            "\n",
            "****** Metric: entropy *******\n",
            "maxDepth = 12:  Train acc = 98.03%,  Test acc = 92.86%,  Test MAE = 0.14,  Test MSE = 0.29,  Test Rsqr = 0.69  \n",
            "\n",
            "****** Metric: gini *******\n",
            "maxDepth = 12:  Train acc = 97.32%,  Test acc = 92.86%,  Test MAE = 0.14,  Test MSE = 0.29,  Test Rsqr = 0.69  \n",
            "\n",
            "****** Metric: misclass_rate *******\n",
            "maxDepth = 12:  Train acc = 98.93%,  Test acc = 95.00%,  Test MAE = 0.10,  Test MSE = 0.20,  Test Rsqr = 0.78  "
          ],
          "name": "stdout"
        }
      ]
    },
    {
      "cell_type": "markdown",
      "metadata": {
        "id": "CotPmJDKHD0c"
      },
      "source": [
        "1. d) Experiment with different approaches to decide when to terminate the tree(number of layers, purity measure, etc). Report and give explanations for all approaches. "
      ]
    },
    {
      "cell_type": "code",
      "metadata": {
        "id": "n_PJLrIUHZEm",
        "colab": {
          "base_uri": "https://localhost:8080/"
        },
        "outputId": "b4d03cdd-d304-4f39-c391-329eb61e2af4"
      },
      "source": [
        "print(\"Split metric: Entropy\\n\")\n",
        "for max_depth in range(1,df_train.shape[1]):\n",
        "    print(\"******** Max Depth = {}: *********\".format(max_depth), end = \"\\n\")\n",
        "    for min_samples in [2,10,25,50,75,100]:\n",
        "        start_time = time.time()\n",
        "        dt_classfier = MyDecisionTree(df_train, split_metric='entropy', max_depth=max_depth, min_samples=min_samples)\n",
        "        build_time = time.time() - start_time\n",
        "        dt_preds_train = dt_classfier.decisionTreePredictions(df_train)\n",
        "        acc_train = calculateAccuracy(dt_preds_train, df_train.iloc[:, -1]) * 100\n",
        "        dt_preds_test = dt_classfier.decisionTreePredictions(df_test)\n",
        "        acc_test = calculateAccuracy(dt_preds_test, df_test.iloc[:, -1]) * 100\n",
        "        print(\"Min samples = {}: \".format(min_samples), end = \" \")\n",
        "        print(\"Train acc = {0:.2f}%, \".format(acc_train), end = \" \")\n",
        "        print(\"Test acc = {0:.2f}%, \".format(acc_test), end = \" \")\n",
        "        print(\"Test Rsqr = {0:.2f} \".format(r2_score(dt_preds_test,df_test.iloc[:, -1])), end = \"\\n\")"
      ],
      "execution_count": 73,
      "outputs": [
        {
          "output_type": "stream",
          "text": [
            "Split metric: Entropy\n",
            "\n",
            "******** Max Depth = 1: *********\n",
            "Min samples = 2:  Train acc = 92.67%,  Test acc = 91.43%,  Test Rsqr = 0.64 \n",
            "Min samples = 10:  Train acc = 92.67%,  Test acc = 91.43%,  Test Rsqr = 0.64 \n",
            "Min samples = 25:  Train acc = 92.67%,  Test acc = 91.43%,  Test Rsqr = 0.64 \n",
            "Min samples = 50:  Train acc = 92.67%,  Test acc = 91.43%,  Test Rsqr = 0.64 \n",
            "Min samples = 75:  Train acc = 92.67%,  Test acc = 91.43%,  Test Rsqr = 0.64 \n",
            "Min samples = 100:  Train acc = 92.67%,  Test acc = 91.43%,  Test Rsqr = 0.64 \n",
            "******** Max Depth = 2: *********\n",
            "Min samples = 2:  Train acc = 92.67%,  Test acc = 91.43%,  Test Rsqr = 0.64 \n",
            "Min samples = 10:  Train acc = 92.67%,  Test acc = 91.43%,  Test Rsqr = 0.64 \n",
            "Min samples = 25:  Train acc = 92.67%,  Test acc = 91.43%,  Test Rsqr = 0.64 \n",
            "Min samples = 50:  Train acc = 92.67%,  Test acc = 91.43%,  Test Rsqr = 0.64 \n",
            "Min samples = 75:  Train acc = 92.67%,  Test acc = 91.43%,  Test Rsqr = 0.64 \n",
            "Min samples = 100:  Train acc = 92.67%,  Test acc = 91.43%,  Test Rsqr = 0.64 \n",
            "******** Max Depth = 3: *********\n",
            "Min samples = 2:  Train acc = 97.14%,  Test acc = 91.43%,  Test Rsqr = 0.62 \n",
            "Min samples = 10:  Train acc = 97.14%,  Test acc = 91.43%,  Test Rsqr = 0.62 \n",
            "Min samples = 25:  Train acc = 95.71%,  Test acc = 91.43%,  Test Rsqr = 0.61 \n",
            "Min samples = 50:  Train acc = 95.71%,  Test acc = 91.43%,  Test Rsqr = 0.61 \n",
            "Min samples = 75:  Train acc = 92.84%,  Test acc = 91.43%,  Test Rsqr = 0.65 \n",
            "Min samples = 100:  Train acc = 92.84%,  Test acc = 91.43%,  Test Rsqr = 0.65 \n",
            "******** Max Depth = 4: *********\n",
            "Min samples = 2:  Train acc = 98.03%,  Test acc = 92.86%,  Test Rsqr = 0.69 \n",
            "Min samples = 10:  Train acc = 98.03%,  Test acc = 92.86%,  Test Rsqr = 0.69 \n",
            "Min samples = 25:  Train acc = 96.42%,  Test acc = 92.86%,  Test Rsqr = 0.69 \n",
            "Min samples = 50:  Train acc = 95.71%,  Test acc = 91.43%,  Test Rsqr = 0.61 \n",
            "Min samples = 75:  Train acc = 92.84%,  Test acc = 91.43%,  Test Rsqr = 0.65 \n",
            "Min samples = 100:  Train acc = 92.84%,  Test acc = 91.43%,  Test Rsqr = 0.65 \n",
            "******** Max Depth = 5: *********\n",
            "Min samples = 2:  Train acc = 98.57%,  Test acc = 91.43%,  Test Rsqr = 0.63 \n",
            "Min samples = 10:  Train acc = 98.57%,  Test acc = 92.86%,  Test Rsqr = 0.69 \n",
            "Min samples = 25:  Train acc = 96.42%,  Test acc = 92.86%,  Test Rsqr = 0.69 \n",
            "Min samples = 50:  Train acc = 95.71%,  Test acc = 91.43%,  Test Rsqr = 0.61 \n",
            "Min samples = 75:  Train acc = 92.84%,  Test acc = 91.43%,  Test Rsqr = 0.65 \n",
            "Min samples = 100:  Train acc = 92.84%,  Test acc = 91.43%,  Test Rsqr = 0.65 \n",
            "******** Max Depth = 6: *********\n",
            "Min samples = 2:  Train acc = 99.11%,  Test acc = 91.43%,  Test Rsqr = 0.64 \n",
            "Min samples = 10:  Train acc = 98.93%,  Test acc = 92.14%,  Test Rsqr = 0.67 \n",
            "Min samples = 25:  Train acc = 96.42%,  Test acc = 92.86%,  Test Rsqr = 0.69 \n",
            "Min samples = 50:  Train acc = 95.71%,  Test acc = 91.43%,  Test Rsqr = 0.61 \n",
            "Min samples = 75:  Train acc = 92.84%,  Test acc = 91.43%,  Test Rsqr = 0.65 \n",
            "Min samples = 100:  Train acc = 92.84%,  Test acc = 91.43%,  Test Rsqr = 0.65 \n",
            "******** Max Depth = 7: *********\n",
            "Min samples = 2:  Train acc = 100.00%,  Test acc = 92.14%,  Test Rsqr = 0.67 \n",
            "Min samples = 10:  Train acc = 98.93%,  Test acc = 92.14%,  Test Rsqr = 0.67 \n",
            "Min samples = 25:  Train acc = 96.42%,  Test acc = 92.86%,  Test Rsqr = 0.69 \n",
            "Min samples = 50:  Train acc = 95.71%,  Test acc = 91.43%,  Test Rsqr = 0.61 \n",
            "Min samples = 75:  Train acc = 92.84%,  Test acc = 91.43%,  Test Rsqr = 0.65 \n",
            "Min samples = 100:  Train acc = 92.84%,  Test acc = 91.43%,  Test Rsqr = 0.65 \n",
            "******** Max Depth = 8: *********\n",
            "Min samples = 2:  Train acc = 100.00%,  Test acc = 92.14%,  Test Rsqr = 0.67 \n",
            "Min samples = 10:  Train acc = 98.93%,  Test acc = 92.14%,  Test Rsqr = 0.67 \n",
            "Min samples = 25:  Train acc = 96.42%,  Test acc = 92.86%,  Test Rsqr = 0.69 \n",
            "Min samples = 50:  Train acc = 95.71%,  Test acc = 91.43%,  Test Rsqr = 0.61 \n",
            "Min samples = 75:  Train acc = 92.84%,  Test acc = 91.43%,  Test Rsqr = 0.65 \n",
            "Min samples = 100:  Train acc = 92.84%,  Test acc = 91.43%,  Test Rsqr = 0.65 \n",
            "******** Max Depth = 9: *********\n",
            "Min samples = 2:  Train acc = 100.00%,  Test acc = 92.14%,  Test Rsqr = 0.67 \n",
            "Min samples = 10:  Train acc = 98.93%,  Test acc = 92.14%,  Test Rsqr = 0.67 \n",
            "Min samples = 25:  Train acc = 96.42%,  Test acc = 92.86%,  Test Rsqr = 0.69 \n",
            "Min samples = 50:  Train acc = 95.71%,  Test acc = 91.43%,  Test Rsqr = 0.61 \n",
            "Min samples = 75:  Train acc = 92.84%,  Test acc = 91.43%,  Test Rsqr = 0.65 \n",
            "Min samples = 100:  Train acc = 92.84%,  Test acc = 91.43%,  Test Rsqr = 0.65 \n"
          ],
          "name": "stdout"
        }
      ]
    },
    {
      "cell_type": "code",
      "metadata": {
        "colab": {
          "base_uri": "https://localhost:8080/"
        },
        "id": "oVCbi88g5OUv",
        "outputId": "ce237cc6-b0e6-49f5-dabc-3a0b78ec4edc"
      },
      "source": [
        "print(\"Split metric: Gini\\n\")\n",
        "for max_depth in range(1,df_train.shape[1]):\n",
        "    print(\"******** Max Depth = {}: *********\".format(max_depth), end = \"\\n\")\n",
        "    for min_samples in [2,10,25,50,75,100]:\n",
        "        start_time = time.time()\n",
        "        dt_classfier = MyDecisionTree(df_train, split_metric='gini', max_depth=max_depth, min_samples=min_samples)\n",
        "        build_time = time.time() - start_time\n",
        "        dt_preds_train = dt_classfier.decisionTreePredictions(df_train)\n",
        "        acc_train = calculateAccuracy(dt_preds_train, df_train.iloc[:, -1]) * 100\n",
        "        dt_preds_test = dt_classfier.decisionTreePredictions(df_test)\n",
        "        acc_test = calculateAccuracy(dt_preds_test, df_test.iloc[:, -1]) * 100\n",
        "        print(\"Min Samples = {}: \".format(min_samples), end = \" \")\n",
        "        print(\"Train acc = {0:.2f}%, \".format(acc_train), end = \" \")\n",
        "        print(\"Test acc = {0:.2f}%, \".format(acc_test), end = \" \")\n",
        "        print(\"Test Rsqr = {0:.2f} \".format(r2_score(dt_preds_test,df_test.iloc[:, -1])), end = \"\\n\")"
      ],
      "execution_count": 74,
      "outputs": [
        {
          "output_type": "stream",
          "text": [
            "Split metric: Gini\n",
            "\n",
            "******** Max Depth = 1: *********\n",
            "Min Samples = 2:  Train acc = 92.67%,  Test acc = 91.43%,  Test Rsqr = 0.64 \n",
            "Min Samples = 10:  Train acc = 92.67%,  Test acc = 91.43%,  Test Rsqr = 0.64 \n",
            "Min Samples = 25:  Train acc = 92.67%,  Test acc = 91.43%,  Test Rsqr = 0.64 \n",
            "Min Samples = 50:  Train acc = 92.67%,  Test acc = 91.43%,  Test Rsqr = 0.64 \n",
            "Min Samples = 75:  Train acc = 92.67%,  Test acc = 91.43%,  Test Rsqr = 0.64 \n",
            "Min Samples = 100:  Train acc = 92.67%,  Test acc = 91.43%,  Test Rsqr = 0.64 \n",
            "******** Max Depth = 2: *********\n",
            "Min Samples = 2:  Train acc = 95.71%,  Test acc = 92.14%,  Test Rsqr = 0.67 \n",
            "Min Samples = 10:  Train acc = 95.71%,  Test acc = 92.14%,  Test Rsqr = 0.67 \n",
            "Min Samples = 25:  Train acc = 95.71%,  Test acc = 92.14%,  Test Rsqr = 0.67 \n",
            "Min Samples = 50:  Train acc = 95.71%,  Test acc = 92.14%,  Test Rsqr = 0.67 \n",
            "Min Samples = 75:  Train acc = 95.71%,  Test acc = 92.14%,  Test Rsqr = 0.67 \n",
            "Min Samples = 100:  Train acc = 95.71%,  Test acc = 92.14%,  Test Rsqr = 0.67 \n",
            "******** Max Depth = 3: *********\n",
            "Min Samples = 2:  Train acc = 96.42%,  Test acc = 92.86%,  Test Rsqr = 0.70 \n",
            "Min Samples = 10:  Train acc = 96.42%,  Test acc = 92.86%,  Test Rsqr = 0.70 \n",
            "Min Samples = 25:  Train acc = 95.89%,  Test acc = 92.14%,  Test Rsqr = 0.67 \n",
            "Min Samples = 50:  Train acc = 95.89%,  Test acc = 92.14%,  Test Rsqr = 0.67 \n",
            "Min Samples = 75:  Train acc = 95.89%,  Test acc = 92.14%,  Test Rsqr = 0.67 \n",
            "Min Samples = 100:  Train acc = 95.89%,  Test acc = 92.14%,  Test Rsqr = 0.67 \n",
            "******** Max Depth = 4: *********\n",
            "Min Samples = 2:  Train acc = 97.67%,  Test acc = 92.86%,  Test Rsqr = 0.69 \n",
            "Min Samples = 10:  Train acc = 97.32%,  Test acc = 92.86%,  Test Rsqr = 0.69 \n",
            "Min Samples = 25:  Train acc = 95.89%,  Test acc = 92.14%,  Test Rsqr = 0.67 \n",
            "Min Samples = 50:  Train acc = 95.89%,  Test acc = 92.14%,  Test Rsqr = 0.67 \n",
            "Min Samples = 75:  Train acc = 95.89%,  Test acc = 92.14%,  Test Rsqr = 0.67 \n",
            "Min Samples = 100:  Train acc = 95.89%,  Test acc = 92.14%,  Test Rsqr = 0.67 \n",
            "******** Max Depth = 5: *********\n",
            "Min Samples = 2:  Train acc = 97.85%,  Test acc = 92.86%,  Test Rsqr = 0.69 \n",
            "Min Samples = 10:  Train acc = 97.32%,  Test acc = 92.86%,  Test Rsqr = 0.69 \n",
            "Min Samples = 25:  Train acc = 95.89%,  Test acc = 92.14%,  Test Rsqr = 0.67 \n",
            "Min Samples = 50:  Train acc = 95.89%,  Test acc = 92.14%,  Test Rsqr = 0.67 \n",
            "Min Samples = 75:  Train acc = 95.89%,  Test acc = 92.14%,  Test Rsqr = 0.67 \n",
            "Min Samples = 100:  Train acc = 95.89%,  Test acc = 92.14%,  Test Rsqr = 0.67 \n",
            "******** Max Depth = 6: *********\n",
            "Min Samples = 2:  Train acc = 98.57%,  Test acc = 89.29%,  Test Rsqr = 0.53 \n",
            "Min Samples = 10:  Train acc = 97.50%,  Test acc = 90.71%,  Test Rsqr = 0.58 \n",
            "Min Samples = 25:  Train acc = 95.89%,  Test acc = 92.14%,  Test Rsqr = 0.67 \n",
            "Min Samples = 50:  Train acc = 95.89%,  Test acc = 92.14%,  Test Rsqr = 0.67 \n",
            "Min Samples = 75:  Train acc = 95.89%,  Test acc = 92.14%,  Test Rsqr = 0.67 \n",
            "Min Samples = 100:  Train acc = 95.89%,  Test acc = 92.14%,  Test Rsqr = 0.67 \n",
            "******** Max Depth = 7: *********\n",
            "Min Samples = 2:  Train acc = 99.46%,  Test acc = 90.00%,  Test Rsqr = 0.56 \n",
            "Min Samples = 10:  Train acc = 98.03%,  Test acc = 91.43%,  Test Rsqr = 0.62 \n",
            "Min Samples = 25:  Train acc = 95.89%,  Test acc = 92.14%,  Test Rsqr = 0.67 \n",
            "Min Samples = 50:  Train acc = 95.89%,  Test acc = 92.14%,  Test Rsqr = 0.67 \n",
            "Min Samples = 75:  Train acc = 95.89%,  Test acc = 92.14%,  Test Rsqr = 0.67 \n",
            "Min Samples = 100:  Train acc = 95.89%,  Test acc = 92.14%,  Test Rsqr = 0.67 \n",
            "******** Max Depth = 8: *********\n",
            "Min Samples = 2:  Train acc = 99.64%,  Test acc = 91.43%,  Test Rsqr = 0.62 \n",
            "Min Samples = 10:  Train acc = 98.03%,  Test acc = 91.43%,  Test Rsqr = 0.62 \n",
            "Min Samples = 25:  Train acc = 95.89%,  Test acc = 92.14%,  Test Rsqr = 0.67 \n",
            "Min Samples = 50:  Train acc = 95.89%,  Test acc = 92.14%,  Test Rsqr = 0.67 \n",
            "Min Samples = 75:  Train acc = 95.89%,  Test acc = 92.14%,  Test Rsqr = 0.67 \n",
            "Min Samples = 100:  Train acc = 95.89%,  Test acc = 92.14%,  Test Rsqr = 0.67 \n",
            "******** Max Depth = 9: *********\n",
            "Min Samples = 2:  Train acc = 100.00%,  Test acc = 91.43%,  Test Rsqr = 0.62 \n",
            "Min Samples = 10:  Train acc = 98.03%,  Test acc = 91.43%,  Test Rsqr = 0.62 \n",
            "Min Samples = 25:  Train acc = 95.89%,  Test acc = 92.14%,  Test Rsqr = 0.67 \n",
            "Min Samples = 50:  Train acc = 95.89%,  Test acc = 92.14%,  Test Rsqr = 0.67 \n",
            "Min Samples = 75:  Train acc = 95.89%,  Test acc = 92.14%,  Test Rsqr = 0.67 \n",
            "Min Samples = 100:  Train acc = 95.89%,  Test acc = 92.14%,  Test Rsqr = 0.67 \n"
          ],
          "name": "stdout"
        }
      ]
    },
    {
      "cell_type": "code",
      "metadata": {
        "colab": {
          "base_uri": "https://localhost:8080/"
        },
        "id": "VD0TXtdR6qYl",
        "outputId": "da06e590-9391-41d1-d0f4-060eaa628fc8"
      },
      "source": [
        "print(\"Split metric: Misclassification rate\\n\")\n",
        "for max_depth in range(1,df_train.shape[1]):\n",
        "    print(\"******** Max Depth = {}: *********\".format(max_depth), end = \"\\n\")\n",
        "    for min_samples in [2,10,25,50,75,100]:\n",
        "        start_time = time.time()\n",
        "        dt_classfier = MyDecisionTree(df_train, split_metric='misclass_rate', max_depth=max_depth, min_samples=min_samples)\n",
        "        build_time = time.time() - start_time\n",
        "        dt_preds_train = dt_classfier.decisionTreePredictions(df_train)\n",
        "        acc_train = calculateAccuracy(dt_preds_train, df_train.iloc[:, -1]) * 100\n",
        "        dt_preds_test = dt_classfier.decisionTreePredictions(df_test)\n",
        "        acc_test = calculateAccuracy(dt_preds_test, df_test.iloc[:, -1]) * 100\n",
        "        print(\"Min Samples = {}: \".format(min_samples), end = \" \")\n",
        "        print(\"Train acc = {0:.2f}%, \".format(acc_train), end = \" \")\n",
        "        print(\"Test acc = {0:.2f}%, \".format(acc_test), end = \" \")\n",
        "        print(\"Test Rsqr = {0:.2f} \".format(r2_score(dt_preds_test,df_test.iloc[:, -1])), end = \"\\n\")"
      ],
      "execution_count": 75,
      "outputs": [
        {
          "output_type": "stream",
          "text": [
            "Split metric: Misclassification rate\n",
            "\n",
            "******** Max Depth = 1: *********\n",
            "Min Samples = 2:  Train acc = 93.02%,  Test acc = 91.43%,  Test Rsqr = 0.60 \n",
            "Min Samples = 10:  Train acc = 93.02%,  Test acc = 91.43%,  Test Rsqr = 0.60 \n",
            "Min Samples = 25:  Train acc = 93.02%,  Test acc = 91.43%,  Test Rsqr = 0.60 \n",
            "Min Samples = 50:  Train acc = 93.02%,  Test acc = 91.43%,  Test Rsqr = 0.60 \n",
            "Min Samples = 75:  Train acc = 93.02%,  Test acc = 91.43%,  Test Rsqr = 0.60 \n",
            "Min Samples = 100:  Train acc = 93.02%,  Test acc = 91.43%,  Test Rsqr = 0.60 \n",
            "******** Max Depth = 2: *********\n",
            "Min Samples = 2:  Train acc = 96.06%,  Test acc = 94.29%,  Test Rsqr = 0.74 \n",
            "Min Samples = 10:  Train acc = 96.06%,  Test acc = 94.29%,  Test Rsqr = 0.74 \n",
            "Min Samples = 25:  Train acc = 96.06%,  Test acc = 94.29%,  Test Rsqr = 0.74 \n",
            "Min Samples = 50:  Train acc = 96.06%,  Test acc = 94.29%,  Test Rsqr = 0.74 \n",
            "Min Samples = 75:  Train acc = 96.06%,  Test acc = 94.29%,  Test Rsqr = 0.74 \n",
            "Min Samples = 100:  Train acc = 96.06%,  Test acc = 94.29%,  Test Rsqr = 0.74 \n",
            "******** Max Depth = 3: *********\n",
            "Min Samples = 2:  Train acc = 97.14%,  Test acc = 92.86%,  Test Rsqr = 0.69 \n",
            "Min Samples = 10:  Train acc = 96.96%,  Test acc = 93.57%,  Test Rsqr = 0.72 \n",
            "Min Samples = 25:  Train acc = 96.78%,  Test acc = 93.57%,  Test Rsqr = 0.72 \n",
            "Min Samples = 50:  Train acc = 96.78%,  Test acc = 93.57%,  Test Rsqr = 0.72 \n",
            "Min Samples = 75:  Train acc = 96.78%,  Test acc = 93.57%,  Test Rsqr = 0.72 \n",
            "Min Samples = 100:  Train acc = 96.78%,  Test acc = 93.57%,  Test Rsqr = 0.72 \n",
            "******** Max Depth = 4: *********\n",
            "Min Samples = 2:  Train acc = 97.67%,  Test acc = 94.29%,  Test Rsqr = 0.75 \n",
            "Min Samples = 10:  Train acc = 97.50%,  Test acc = 95.00%,  Test Rsqr = 0.78 \n",
            "Min Samples = 25:  Train acc = 96.78%,  Test acc = 93.57%,  Test Rsqr = 0.72 \n",
            "Min Samples = 50:  Train acc = 96.78%,  Test acc = 93.57%,  Test Rsqr = 0.72 \n",
            "Min Samples = 75:  Train acc = 96.78%,  Test acc = 93.57%,  Test Rsqr = 0.72 \n",
            "Min Samples = 100:  Train acc = 96.78%,  Test acc = 93.57%,  Test Rsqr = 0.72 \n",
            "******** Max Depth = 5: *********\n",
            "Min Samples = 2:  Train acc = 98.39%,  Test acc = 94.29%,  Test Rsqr = 0.75 \n",
            "Min Samples = 10:  Train acc = 98.03%,  Test acc = 95.00%,  Test Rsqr = 0.78 \n",
            "Min Samples = 25:  Train acc = 97.14%,  Test acc = 92.86%,  Test Rsqr = 0.68 \n",
            "Min Samples = 50:  Train acc = 96.78%,  Test acc = 93.57%,  Test Rsqr = 0.72 \n",
            "Min Samples = 75:  Train acc = 96.78%,  Test acc = 93.57%,  Test Rsqr = 0.72 \n",
            "Min Samples = 100:  Train acc = 96.78%,  Test acc = 93.57%,  Test Rsqr = 0.72 \n",
            "******** Max Depth = 6: *********\n",
            "Min Samples = 2:  Train acc = 99.11%,  Test acc = 94.29%,  Test Rsqr = 0.75 \n",
            "Min Samples = 10:  Train acc = 98.03%,  Test acc = 95.00%,  Test Rsqr = 0.78 \n",
            "Min Samples = 25:  Train acc = 97.14%,  Test acc = 92.86%,  Test Rsqr = 0.68 \n",
            "Min Samples = 50:  Train acc = 96.78%,  Test acc = 93.57%,  Test Rsqr = 0.72 \n",
            "Min Samples = 75:  Train acc = 96.78%,  Test acc = 93.57%,  Test Rsqr = 0.72 \n",
            "Min Samples = 100:  Train acc = 96.78%,  Test acc = 93.57%,  Test Rsqr = 0.72 \n",
            "******** Max Depth = 7: *********\n",
            "Min Samples = 2:  Train acc = 99.28%,  Test acc = 94.29%,  Test Rsqr = 0.75 \n",
            "Min Samples = 10:  Train acc = 98.03%,  Test acc = 95.00%,  Test Rsqr = 0.78 \n",
            "Min Samples = 25:  Train acc = 97.14%,  Test acc = 92.86%,  Test Rsqr = 0.68 \n",
            "Min Samples = 50:  Train acc = 96.78%,  Test acc = 93.57%,  Test Rsqr = 0.72 \n",
            "Min Samples = 75:  Train acc = 96.78%,  Test acc = 93.57%,  Test Rsqr = 0.72 \n",
            "Min Samples = 100:  Train acc = 96.78%,  Test acc = 93.57%,  Test Rsqr = 0.72 \n",
            "******** Max Depth = 8: *********\n",
            "Min Samples = 2:  Train acc = 99.28%,  Test acc = 94.29%,  Test Rsqr = 0.75 \n",
            "Min Samples = 10:  Train acc = 98.03%,  Test acc = 95.00%,  Test Rsqr = 0.78 \n",
            "Min Samples = 25:  Train acc = 97.14%,  Test acc = 92.86%,  Test Rsqr = 0.68 \n",
            "Min Samples = 50:  Train acc = 96.78%,  Test acc = 93.57%,  Test Rsqr = 0.72 \n",
            "Min Samples = 75:  Train acc = 96.78%,  Test acc = 93.57%,  Test Rsqr = 0.72 \n",
            "Min Samples = 100:  Train acc = 96.78%,  Test acc = 93.57%,  Test Rsqr = 0.72 \n",
            "******** Max Depth = 9: *********\n",
            "Min Samples = 2:  Train acc = 99.46%,  Test acc = 93.57%,  Test Rsqr = 0.72 \n",
            "Min Samples = 10:  Train acc = 98.03%,  Test acc = 95.00%,  Test Rsqr = 0.78 \n",
            "Min Samples = 25:  Train acc = 97.14%,  Test acc = 92.86%,  Test Rsqr = 0.68 \n",
            "Min Samples = 50:  Train acc = 96.78%,  Test acc = 93.57%,  Test Rsqr = 0.72 \n",
            "Min Samples = 75:  Train acc = 96.78%,  Test acc = 93.57%,  Test Rsqr = 0.72 \n",
            "Min Samples = 100:  Train acc = 96.78%,  Test acc = 93.57%,  Test Rsqr = 0.72 \n"
          ],
          "name": "stdout"
        }
      ]
    },
    {
      "cell_type": "markdown",
      "metadata": {
        "id": "OSEhBYSztQ7u"
      },
      "source": [
        "Observations:  \n",
        "Unlike max-depth, the training accuracy decreases with incease in the number of minimum samples constraint applied for split. With very small min-samples values, the tree can overfit the train data. Test accuracy is the highest for moderate min-samples values.  "
      ]
    },
    {
      "cell_type": "markdown",
      "metadata": {
        "id": "E3BO_sxvHZ3m"
      },
      "source": [
        "1. e) Does standardisation and normalisation help in this case? Report"
      ]
    },
    {
      "cell_type": "markdown",
      "metadata": {
        "id": "bsox4fb5H0vO"
      },
      "source": [
        "Answer:  \n",
        "Decision trees usually are not affected by such transformations on data as long as the order is preserved and normalization here preserves it. Decision trees find best splits on each attribute individually and calculates impurities on how well the classes are segregated under the node. So the trees are not affected by the magnitude of the attribute values. "
      ]
    },
    {
      "cell_type": "code",
      "metadata": {
        "colab": {
          "base_uri": "https://localhost:8080/",
          "height": 578
        },
        "id": "wVfUc_MlE6RC",
        "outputId": "653981d6-09a4-44b8-e135-c6c1d881fb24"
      },
      "source": [
        "### Min-max scaling\n",
        "mnx_df_train = df_train\n",
        "mnx_df_test = df_test\n",
        "mnxscaler = MinMaxScaler()\n",
        "mnx_df_train[mnx_df_train.drop('Diagnosis',axis=1).columns] = mnxscaler.fit_transform(mnx_df_train[mnx_df_train.drop('Diagnosis',axis=1).columns])\n",
        "mnx_df_test[mnx_df_test.drop('Diagnosis',axis=1).columns] = mnxscaler.fit_transform(mnx_df_test[mnx_df_test.drop('Diagnosis',axis=1).columns])\n",
        "display(mnx_df_train.head())\n",
        "\n",
        "### Std scaling\n",
        "std_df_train = df_train\n",
        "std_df_test = df_test\n",
        "stdscaler = StandardScaler()\n",
        "std_df_train[std_df_train.drop('Diagnosis',axis=1).columns] = stdscaler.fit_transform(std_df_train[std_df_train.drop('Diagnosis',axis=1).columns])\n",
        "std_df_test[std_df_test.drop('Diagnosis',axis=1).columns] = stdscaler.fit_transform(std_df_test[std_df_test.drop('Diagnosis',axis=1).columns])\n",
        "display(std_df_train.head())\n",
        "\n",
        "### Norm L1\n",
        "nl1_df_train = df_train\n",
        "nl1_df_test = df_test\n",
        "normer = Normalizer(norm='l1')\n",
        "nl1_df_train[nl1_df_train.drop('Diagnosis',axis=1).columns] = normer.fit_transform(nl1_df_train[nl1_df_train.drop('Diagnosis',axis=1).columns])\n",
        "nl1_df_test[nl1_df_test.drop('Diagnosis',axis=1).columns] = normer.fit_transform(nl1_df_test[nl1_df_test.drop('Diagnosis',axis=1).columns])\n",
        "display(nl1_df_train.head())"
      ],
      "execution_count": 128,
      "outputs": [
        {
          "output_type": "display_data",
          "data": {
            "text/html": [
              "<div>\n",
              "<style scoped>\n",
              "    .dataframe tbody tr th:only-of-type {\n",
              "        vertical-align: middle;\n",
              "    }\n",
              "\n",
              "    .dataframe tbody tr th {\n",
              "        vertical-align: top;\n",
              "    }\n",
              "\n",
              "    .dataframe thead th {\n",
              "        text-align: right;\n",
              "    }\n",
              "</style>\n",
              "<table border=\"1\" class=\"dataframe\">\n",
              "  <thead>\n",
              "    <tr style=\"text-align: right;\">\n",
              "      <th></th>\n",
              "      <th>CT</th>\n",
              "      <th>UCSize</th>\n",
              "      <th>UCShape</th>\n",
              "      <th>MA</th>\n",
              "      <th>SECSize</th>\n",
              "      <th>BN</th>\n",
              "      <th>BC</th>\n",
              "      <th>NN</th>\n",
              "      <th>Mitoses</th>\n",
              "      <th>Diagnosis</th>\n",
              "    </tr>\n",
              "  </thead>\n",
              "  <tbody>\n",
              "    <tr>\n",
              "      <th>0</th>\n",
              "      <td>0.647791</td>\n",
              "      <td>0.096400</td>\n",
              "      <td>0.114076</td>\n",
              "      <td>0.086965</td>\n",
              "      <td>0.203966</td>\n",
              "      <td>0.152349</td>\n",
              "      <td>0.431135</td>\n",
              "      <td>0.144053</td>\n",
              "      <td>0.098554</td>\n",
              "      <td>2</td>\n",
              "    </tr>\n",
              "    <tr>\n",
              "      <th>1</th>\n",
              "      <td>0.536192</td>\n",
              "      <td>0.650815</td>\n",
              "      <td>0.547932</td>\n",
              "      <td>0.476346</td>\n",
              "      <td>0.541037</td>\n",
              "      <td>0.625632</td>\n",
              "      <td>0.416202</td>\n",
              "      <td>0.349559</td>\n",
              "      <td>0.177522</td>\n",
              "      <td>2</td>\n",
              "    </tr>\n",
              "    <tr>\n",
              "      <th>2</th>\n",
              "      <td>0.333431</td>\n",
              "      <td>0.038150</td>\n",
              "      <td>0.066456</td>\n",
              "      <td>0.054422</td>\n",
              "      <td>0.186991</td>\n",
              "      <td>0.260402</td>\n",
              "      <td>0.434885</td>\n",
              "      <td>0.113188</td>\n",
              "      <td>0.082468</td>\n",
              "      <td>2</td>\n",
              "    </tr>\n",
              "    <tr>\n",
              "      <th>3</th>\n",
              "      <td>0.580408</td>\n",
              "      <td>0.998998</td>\n",
              "      <td>0.809539</td>\n",
              "      <td>0.253428</td>\n",
              "      <td>0.340716</td>\n",
              "      <td>0.405238</td>\n",
              "      <td>0.421428</td>\n",
              "      <td>0.628831</td>\n",
              "      <td>0.184802</td>\n",
              "      <td>2</td>\n",
              "    </tr>\n",
              "    <tr>\n",
              "      <th>4</th>\n",
              "      <td>0.489270</td>\n",
              "      <td>0.051129</td>\n",
              "      <td>0.080727</td>\n",
              "      <td>0.448536</td>\n",
              "      <td>0.188203</td>\n",
              "      <td>0.132032</td>\n",
              "      <td>0.416260</td>\n",
              "      <td>0.119826</td>\n",
              "      <td>0.081568</td>\n",
              "      <td>2</td>\n",
              "    </tr>\n",
              "  </tbody>\n",
              "</table>\n",
              "</div>"
            ],
            "text/plain": [
              "         CT    UCSize   UCShape  ...        NN   Mitoses  Diagnosis\n",
              "0  0.647791  0.096400  0.114076  ...  0.144053  0.098554          2\n",
              "1  0.536192  0.650815  0.547932  ...  0.349559  0.177522          2\n",
              "2  0.333431  0.038150  0.066456  ...  0.113188  0.082468          2\n",
              "3  0.580408  0.998998  0.809539  ...  0.628831  0.184802          2\n",
              "4  0.489270  0.051129  0.080727  ...  0.119826  0.081568          2\n",
              "\n",
              "[5 rows x 10 columns]"
            ]
          },
          "metadata": {
            "tags": []
          }
        },
        {
          "output_type": "display_data",
          "data": {
            "text/html": [
              "<div>\n",
              "<style scoped>\n",
              "    .dataframe tbody tr th:only-of-type {\n",
              "        vertical-align: middle;\n",
              "    }\n",
              "\n",
              "    .dataframe tbody tr th {\n",
              "        vertical-align: top;\n",
              "    }\n",
              "\n",
              "    .dataframe thead th {\n",
              "        text-align: right;\n",
              "    }\n",
              "</style>\n",
              "<table border=\"1\" class=\"dataframe\">\n",
              "  <thead>\n",
              "    <tr style=\"text-align: right;\">\n",
              "      <th></th>\n",
              "      <th>CT</th>\n",
              "      <th>UCSize</th>\n",
              "      <th>UCShape</th>\n",
              "      <th>MA</th>\n",
              "      <th>SECSize</th>\n",
              "      <th>BN</th>\n",
              "      <th>BC</th>\n",
              "      <th>NN</th>\n",
              "      <th>Mitoses</th>\n",
              "      <th>Diagnosis</th>\n",
              "    </tr>\n",
              "  </thead>\n",
              "  <tbody>\n",
              "    <tr>\n",
              "      <th>0</th>\n",
              "      <td>1.000553</td>\n",
              "      <td>-0.966892</td>\n",
              "      <td>-1.014007</td>\n",
              "      <td>-0.905907</td>\n",
              "      <td>-0.640126</td>\n",
              "      <td>-0.824157</td>\n",
              "      <td>0.456040</td>\n",
              "      <td>-0.853561</td>\n",
              "      <td>-0.628920</td>\n",
              "      <td>2</td>\n",
              "    </tr>\n",
              "    <tr>\n",
              "      <th>1</th>\n",
              "      <td>0.489137</td>\n",
              "      <td>0.982529</td>\n",
              "      <td>0.874733</td>\n",
              "      <td>1.320869</td>\n",
              "      <td>2.289901</td>\n",
              "      <td>2.009333</td>\n",
              "      <td>0.371515</td>\n",
              "      <td>0.370330</td>\n",
              "      <td>0.049229</td>\n",
              "      <td>2</td>\n",
              "    </tr>\n",
              "    <tr>\n",
              "      <th>2</th>\n",
              "      <td>-0.440041</td>\n",
              "      <td>-1.171711</td>\n",
              "      <td>-1.221312</td>\n",
              "      <td>-1.092008</td>\n",
              "      <td>-0.787683</td>\n",
              "      <td>-0.177259</td>\n",
              "      <td>0.477265</td>\n",
              "      <td>-1.037375</td>\n",
              "      <td>-0.767064</td>\n",
              "      <td>2</td>\n",
              "    </tr>\n",
              "    <tr>\n",
              "      <th>3</th>\n",
              "      <td>0.691761</td>\n",
              "      <td>2.206802</td>\n",
              "      <td>2.013610</td>\n",
              "      <td>0.046053</td>\n",
              "      <td>0.548590</td>\n",
              "      <td>0.689861</td>\n",
              "      <td>0.401095</td>\n",
              "      <td>2.033529</td>\n",
              "      <td>0.111749</td>\n",
              "      <td>2</td>\n",
              "    </tr>\n",
              "    <tr>\n",
              "      <th>4</th>\n",
              "      <td>0.274109</td>\n",
              "      <td>-1.126073</td>\n",
              "      <td>-1.159186</td>\n",
              "      <td>1.161830</td>\n",
              "      <td>-0.777145</td>\n",
              "      <td>-0.945797</td>\n",
              "      <td>0.371843</td>\n",
              "      <td>-0.997841</td>\n",
              "      <td>-0.774790</td>\n",
              "      <td>2</td>\n",
              "    </tr>\n",
              "  </tbody>\n",
              "</table>\n",
              "</div>"
            ],
            "text/plain": [
              "         CT    UCSize   UCShape  ...        NN   Mitoses  Diagnosis\n",
              "0  1.000553 -0.966892 -1.014007  ... -0.853561 -0.628920          2\n",
              "1  0.489137  0.982529  0.874733  ...  0.370330  0.049229          2\n",
              "2 -0.440041 -1.171711 -1.221312  ... -1.037375 -0.767064          2\n",
              "3  0.691761  2.206802  2.013610  ...  2.033529  0.111749          2\n",
              "4  0.274109 -1.126073 -1.159186  ... -0.997841 -0.774790          2\n",
              "\n",
              "[5 rows x 10 columns]"
            ]
          },
          "metadata": {
            "tags": []
          }
        },
        {
          "output_type": "display_data",
          "data": {
            "text/html": [
              "<div>\n",
              "<style scoped>\n",
              "    .dataframe tbody tr th:only-of-type {\n",
              "        vertical-align: middle;\n",
              "    }\n",
              "\n",
              "    .dataframe tbody tr th {\n",
              "        vertical-align: top;\n",
              "    }\n",
              "\n",
              "    .dataframe thead th {\n",
              "        text-align: right;\n",
              "    }\n",
              "</style>\n",
              "<table border=\"1\" class=\"dataframe\">\n",
              "  <thead>\n",
              "    <tr style=\"text-align: right;\">\n",
              "      <th></th>\n",
              "      <th>CT</th>\n",
              "      <th>UCSize</th>\n",
              "      <th>UCShape</th>\n",
              "      <th>MA</th>\n",
              "      <th>SECSize</th>\n",
              "      <th>BN</th>\n",
              "      <th>BC</th>\n",
              "      <th>NN</th>\n",
              "      <th>Mitoses</th>\n",
              "      <th>Diagnosis</th>\n",
              "    </tr>\n",
              "  </thead>\n",
              "  <tbody>\n",
              "    <tr>\n",
              "      <th>0</th>\n",
              "      <td>0.137247</td>\n",
              "      <td>-0.132630</td>\n",
              "      <td>-0.139092</td>\n",
              "      <td>-0.124264</td>\n",
              "      <td>-0.087807</td>\n",
              "      <td>-0.113051</td>\n",
              "      <td>0.062555</td>\n",
              "      <td>-0.117084</td>\n",
              "      <td>-0.086270</td>\n",
              "      <td>2</td>\n",
              "    </tr>\n",
              "    <tr>\n",
              "      <th>1</th>\n",
              "      <td>0.055853</td>\n",
              "      <td>0.112192</td>\n",
              "      <td>0.099883</td>\n",
              "      <td>0.150826</td>\n",
              "      <td>0.261477</td>\n",
              "      <td>0.229439</td>\n",
              "      <td>0.042422</td>\n",
              "      <td>0.042287</td>\n",
              "      <td>0.005621</td>\n",
              "      <td>2</td>\n",
              "    </tr>\n",
              "    <tr>\n",
              "      <th>2</th>\n",
              "      <td>-0.061358</td>\n",
              "      <td>-0.163379</td>\n",
              "      <td>-0.170296</td>\n",
              "      <td>-0.152266</td>\n",
              "      <td>-0.109832</td>\n",
              "      <td>-0.024716</td>\n",
              "      <td>0.066548</td>\n",
              "      <td>-0.144648</td>\n",
              "      <td>-0.106957</td>\n",
              "      <td>2</td>\n",
              "    </tr>\n",
              "    <tr>\n",
              "      <th>3</th>\n",
              "      <td>0.079121</td>\n",
              "      <td>0.252406</td>\n",
              "      <td>0.230310</td>\n",
              "      <td>0.005267</td>\n",
              "      <td>0.062746</td>\n",
              "      <td>0.078904</td>\n",
              "      <td>0.045876</td>\n",
              "      <td>0.232588</td>\n",
              "      <td>0.012781</td>\n",
              "      <td>2</td>\n",
              "    </tr>\n",
              "    <tr>\n",
              "      <th>4</th>\n",
              "      <td>0.036121</td>\n",
              "      <td>-0.148390</td>\n",
              "      <td>-0.152753</td>\n",
              "      <td>0.153102</td>\n",
              "      <td>-0.102409</td>\n",
              "      <td>-0.124634</td>\n",
              "      <td>0.049000</td>\n",
              "      <td>-0.131492</td>\n",
              "      <td>-0.102099</td>\n",
              "      <td>2</td>\n",
              "    </tr>\n",
              "  </tbody>\n",
              "</table>\n",
              "</div>"
            ],
            "text/plain": [
              "         CT    UCSize   UCShape  ...        NN   Mitoses  Diagnosis\n",
              "0  0.137247 -0.132630 -0.139092  ... -0.117084 -0.086270          2\n",
              "1  0.055853  0.112192  0.099883  ...  0.042287  0.005621          2\n",
              "2 -0.061358 -0.163379 -0.170296  ... -0.144648 -0.106957          2\n",
              "3  0.079121  0.252406  0.230310  ...  0.232588  0.012781          2\n",
              "4  0.036121 -0.148390 -0.152753  ... -0.131492 -0.102099          2\n",
              "\n",
              "[5 rows x 10 columns]"
            ]
          },
          "metadata": {
            "tags": []
          }
        }
      ]
    },
    {
      "cell_type": "code",
      "metadata": {
        "colab": {
          "base_uri": "https://localhost:8080/"
        },
        "id": "S-sVMXBzU_3q",
        "outputId": "99ab47fe-6308-4c6d-8885-fc1907b68141"
      },
      "source": [
        "print(\"\\n***** Min-max scaling,  Metric: Entropy\",'*****')\n",
        "i = 1\n",
        "acc_train = 0\n",
        "train_acc_rep = 0\n",
        "prev_acc_train = 0\n",
        "max_testacc = 0\n",
        "best_depth = 0\n",
        "while acc_train<100 and train_acc_rep<2:\n",
        "    dt_classfier = MyDecisionTree(mnx_df_train, split_metric='entropy', max_depth=i, min_samples=4)\n",
        "    dt_preds_train = dt_classfier.decisionTreePredictions(mnx_df_train)\n",
        "    acc_train = calculateAccuracy(dt_preds_train, df_train.iloc[:, -1]) * 100\n",
        "    dt_preds_test = dt_classfier.decisionTreePredictions(mnx_df_test)\n",
        "    acc_test = calculateAccuracy(dt_preds_test, df_test.iloc[:, -1]) * 100\n",
        "    print(\"maxDepth = {}: \".format(i), end = \" \")\n",
        "    print(\"Train acc = {0:.2f}%, \".format(acc_train), end = \" \")\n",
        "    print(\"Test acc = {0:.2f}%, \".format(acc_test), end = \" \")\n",
        "    print(\"Test Rsqr = {0:.2f} \".format(r2_score(dt_preds_test,df_test.iloc[:, -1])), end = \"\\n\")\n",
        "    if acc_test >= max_testacc:\n",
        "        max_testacc = acc_test\n",
        "        best_depth = i\n",
        "    if prev_acc_train==acc_train:\n",
        "        train_acc_rep += 1\n",
        "    else:\n",
        "        train_acc_rep = 0\n",
        "    prev_acc_train = acc_train\n",
        "    i += 1\n",
        "\n",
        "# display(df_train.head())\n",
        "\n",
        "skdtc = DecisionTreeClassifier(criterion='entropy', max_depth=df_train.shape[1]-1, min_samples_split=4)\n",
        "skdtc = skdtc.fit(mnx_df_train.drop('Diagnosis',axis=1), df_train.iloc[:, -1])\n",
        "skpred = skdtc.predict(mnx_df_test.drop('Diagnosis',axis=1))\n",
        "skacc = calculateAccuracy(skpred, df_test.iloc[:, -1]) * 100\n",
        "print(\"Sklearn test acc = {0:.2f}%, \".format(skacc), end = \" \")\n",
        "print(\"Test Rsqr = {0:.2f} \".format(r2_score(skpred,df_test.iloc[:, -1])), end = \"\\n\")"
      ],
      "execution_count": 129,
      "outputs": [
        {
          "output_type": "stream",
          "text": [
            "\n",
            "***** Min-max scaling,  Metric: Entropy *****\n",
            "maxDepth = 1:  Train acc = 94.99%,  Test acc = 94.29%,  Test Rsqr = 0.76 \n",
            "maxDepth = 2:  Train acc = 97.14%,  Test acc = 95.71%,  Test Rsqr = 0.81 \n",
            "maxDepth = 3:  Train acc = 98.21%,  Test acc = 93.57%,  Test Rsqr = 0.72 \n",
            "maxDepth = 4:  Train acc = 98.39%,  Test acc = 92.86%,  Test Rsqr = 0.69 \n",
            "maxDepth = 5:  Train acc = 99.28%,  Test acc = 92.86%,  Test Rsqr = 0.69 \n",
            "maxDepth = 6:  Train acc = 99.46%,  Test acc = 92.86%,  Test Rsqr = 0.69 \n",
            "maxDepth = 7:  Train acc = 99.64%,  Test acc = 92.14%,  Test Rsqr = 0.65 \n",
            "maxDepth = 8:  Train acc = 99.82%,  Test acc = 92.14%,  Test Rsqr = 0.65 \n",
            "maxDepth = 9:  Train acc = 99.82%,  Test acc = 92.14%,  Test Rsqr = 0.65 \n",
            "maxDepth = 10:  Train acc = 99.82%,  Test acc = 92.14%,  Test Rsqr = 0.65 \n",
            "Sklearn test acc = 92.86%,  Test Rsqr = 0.69 \n"
          ],
          "name": "stdout"
        }
      ]
    },
    {
      "cell_type": "code",
      "metadata": {
        "colab": {
          "base_uri": "https://localhost:8080/"
        },
        "id": "tMEKm13wVPWr",
        "outputId": "a5812cdf-a978-4fc4-d8e6-6333b5395ca4"
      },
      "source": [
        "print(\"\\n***** Standard scaling,  Metric: Entropy\",'*****')\n",
        "i = 1\n",
        "acc_train = 0\n",
        "train_acc_rep = 0\n",
        "prev_acc_train = 0\n",
        "max_testacc = 0\n",
        "best_depth = 0\n",
        "while acc_train<100 and train_acc_rep<2:\n",
        "    dt_classfier = MyDecisionTree(std_df_train, split_metric='entropy', max_depth=i, min_samples=4)\n",
        "    dt_preds_train = dt_classfier.decisionTreePredictions(std_df_train)\n",
        "    acc_train = calculateAccuracy(dt_preds_train, df_train.iloc[:, -1]) * 100\n",
        "    dt_preds_test = dt_classfier.decisionTreePredictions(std_df_test)\n",
        "    acc_test = calculateAccuracy(dt_preds_test, df_test.iloc[:, -1]) * 100\n",
        "    print(\"maxDepth = {}: \".format(i), end = \" \")\n",
        "    print(\"Train acc = {0:.2f}%, \".format(acc_train), end = \" \")\n",
        "    print(\"Test acc = {0:.2f}%, \".format(acc_test), end = \" \")\n",
        "    print(\"Test Rsqr = {0:.2f} \".format(r2_score(dt_preds_test,df_test.iloc[:, -1])), end = \"\\n\")\n",
        "    if acc_test >= max_testacc:\n",
        "        max_testacc = acc_test\n",
        "        best_depth = i\n",
        "    if prev_acc_train==acc_train:\n",
        "        train_acc_rep += 1\n",
        "    else:\n",
        "        train_acc_rep = 0\n",
        "    prev_acc_train = acc_train\n",
        "    i += 1\n",
        "\n",
        "# display(df_train.head())\n",
        "\n",
        "skdtc = DecisionTreeClassifier(criterion='entropy', max_depth=df_train.shape[1]-1, min_samples_split=4)\n",
        "skdtc = skdtc.fit(std_df_train.drop('Diagnosis',axis=1), df_train.iloc[:, -1])\n",
        "skpred = skdtc.predict(std_df_test.drop('Diagnosis',axis=1))\n",
        "skacc = calculateAccuracy(skpred, df_test.iloc[:, -1]) * 100\n",
        "print(\"Sklearn test acc = {0:.2f}%, \".format(skacc), end = \" \")\n",
        "print(\"Test Rsqr = {0:.2f} \".format(r2_score(skpred,df_test.iloc[:, -1])), end = \"\\n\")"
      ],
      "execution_count": 130,
      "outputs": [
        {
          "output_type": "stream",
          "text": [
            "\n",
            "***** Standard scaling,  Metric: Entropy *****\n",
            "maxDepth = 1:  Train acc = 94.99%,  Test acc = 94.29%,  Test Rsqr = 0.76 \n",
            "maxDepth = 2:  Train acc = 97.14%,  Test acc = 95.71%,  Test Rsqr = 0.81 \n",
            "maxDepth = 3:  Train acc = 98.21%,  Test acc = 93.57%,  Test Rsqr = 0.72 \n",
            "maxDepth = 4:  Train acc = 98.39%,  Test acc = 92.86%,  Test Rsqr = 0.69 \n",
            "maxDepth = 5:  Train acc = 99.28%,  Test acc = 92.86%,  Test Rsqr = 0.69 \n",
            "maxDepth = 6:  Train acc = 99.46%,  Test acc = 92.86%,  Test Rsqr = 0.69 \n",
            "maxDepth = 7:  Train acc = 99.64%,  Test acc = 92.14%,  Test Rsqr = 0.65 \n",
            "maxDepth = 8:  Train acc = 99.82%,  Test acc = 92.14%,  Test Rsqr = 0.65 \n",
            "maxDepth = 9:  Train acc = 99.82%,  Test acc = 92.14%,  Test Rsqr = 0.65 \n",
            "maxDepth = 10:  Train acc = 99.82%,  Test acc = 92.14%,  Test Rsqr = 0.65 \n",
            "Sklearn test acc = 93.57%,  Test Rsqr = 0.72 \n"
          ],
          "name": "stdout"
        }
      ]
    },
    {
      "cell_type": "code",
      "metadata": {
        "colab": {
          "base_uri": "https://localhost:8080/"
        },
        "id": "CfqxUZr7lhfV",
        "outputId": "73b5895e-12d7-4281-d4ee-3ff8f2864263"
      },
      "source": [
        "print(\"\\n***** L1 Normalization,  Metric: Entropy\",'*****')\n",
        "i = 1\n",
        "acc_train = 0\n",
        "train_acc_rep = 0\n",
        "prev_acc_train = 0\n",
        "max_testacc = 0\n",
        "best_depth = 0\n",
        "while acc_train<100 and train_acc_rep<2:\n",
        "    dt_classfier = MyDecisionTree(nl1_df_train, split_metric='entropy', max_depth=i, min_samples=4)\n",
        "    dt_preds_train = dt_classfier.decisionTreePredictions(nl1_df_train)\n",
        "    acc_train = calculateAccuracy(dt_preds_train, df_train.iloc[:, -1]) * 100\n",
        "    dt_preds_test = dt_classfier.decisionTreePredictions(nl1_df_test)\n",
        "    acc_test = calculateAccuracy(dt_preds_test, df_test.iloc[:, -1]) * 100\n",
        "    print(\"maxDepth = {}: \".format(i), end = \" \")\n",
        "    print(\"Train acc = {0:.2f}%, \".format(acc_train), end = \" \")\n",
        "    print(\"Test acc = {0:.2f}%, \".format(acc_test), end = \" \")\n",
        "    print(\"Test Rsqr = {0:.2f} \".format(r2_score(dt_preds_test,df_test.iloc[:, -1])), end = \"\\n\")\n",
        "    if acc_test >= max_testacc:\n",
        "        max_testacc = acc_test\n",
        "        best_depth = i\n",
        "    if prev_acc_train==acc_train:\n",
        "        train_acc_rep += 1\n",
        "    else:\n",
        "        train_acc_rep = 0\n",
        "    prev_acc_train = acc_train\n",
        "    i += 1\n",
        "\n",
        "\n",
        "skdtc = DecisionTreeClassifier(criterion='entropy', max_depth=df_train.shape[1]-1, min_samples_split=4)\n",
        "skdtc = skdtc.fit(nl1_df_train.drop('Diagnosis',axis=1), df_train.iloc[:, -1])\n",
        "skpred = skdtc.predict(nl1_df_test.drop('Diagnosis',axis=1))\n",
        "skacc = calculateAccuracy(skpred, df_test.iloc[:, -1]) * 100\n",
        "print(\"Sklearn test acc = {0:.2f}%, \".format(skacc), end = \" \")\n",
        "print(\"Test Rsqr = {0:.2f} \".format(r2_score(skpred,df_test.iloc[:, -1])), end = \"\\n\")"
      ],
      "execution_count": 133,
      "outputs": [
        {
          "output_type": "stream",
          "text": [
            "\n",
            "***** L1 Normalization,  Metric: Entropy *****\n",
            "maxDepth = 1:  Train acc = 94.99%,  Test acc = 94.29%,  Test Rsqr = 0.76 \n",
            "maxDepth = 2:  Train acc = 97.14%,  Test acc = 95.71%,  Test Rsqr = 0.81 \n",
            "maxDepth = 3:  Train acc = 98.21%,  Test acc = 93.57%,  Test Rsqr = 0.72 \n",
            "maxDepth = 4:  Train acc = 98.39%,  Test acc = 92.86%,  Test Rsqr = 0.69 \n",
            "maxDepth = 5:  Train acc = 99.28%,  Test acc = 92.86%,  Test Rsqr = 0.69 \n",
            "maxDepth = 6:  Train acc = 99.46%,  Test acc = 92.86%,  Test Rsqr = 0.69 \n",
            "maxDepth = 7:  Train acc = 99.64%,  Test acc = 92.14%,  Test Rsqr = 0.65 \n",
            "maxDepth = 8:  Train acc = 99.82%,  Test acc = 92.14%,  Test Rsqr = 0.65 \n",
            "maxDepth = 9:  Train acc = 99.82%,  Test acc = 92.14%,  Test Rsqr = 0.65 \n",
            "maxDepth = 10:  Train acc = 99.82%,  Test acc = 92.14%,  Test Rsqr = 0.65 \n",
            "Sklearn test acc = 92.86%,  Test Rsqr = 0.69 \n"
          ],
          "name": "stdout"
        }
      ]
    },
    {
      "cell_type": "markdown",
      "metadata": {
        "id": "PcCvNmtvH84l"
      },
      "source": [
        "2. Compare your trained model with a model trained by the scikit-learn DecisionTreeClassifier module. Compare accuracies."
      ]
    },
    {
      "cell_type": "code",
      "metadata": {
        "id": "OzSDqUoNHaOg",
        "colab": {
          "base_uri": "https://localhost:8080/"
        },
        "outputId": "270e6de7-b130-4624-b9ae-9907c2f28320"
      },
      "source": [
        "depth=len(df_train.columns)-1\n",
        "\n",
        "print(\"For:  Max-depth:\",len(df_train.columns)-1,\"and Min-samples:\",10)\n",
        "\n",
        "for metric in metrics[:2]:\n",
        "    print(\"\\n***** Metric:\",metric,'*****')\n",
        "    dt_classfier = MyDecisionTree(df_train, split_metric=metric, max_depth=len(df_train.columns)-1, min_samples=10)\n",
        "    dt_preds_train = dt_classfier.decisionTreePredictions(df_train)\n",
        "    acc_train = calculateAccuracy(dt_preds_train, df_train.iloc[:, -1]) * 100\n",
        "    dt_preds_test = dt_classfier.decisionTreePredictions(df_test)\n",
        "    acc_test = calculateAccuracy(dt_preds_test, df_test.iloc[:, -1]) * 100\n",
        "    print(\"Our tree:  Train acc = {0:.2f}%, \".format(acc_train), end = \" \")\n",
        "    print(\"Test acc = {0:.2f}%, \".format(acc_test), end = \" \")\n",
        "    print(\"Test Rsqr = {0:.2f} \".format(r2_score(dt_preds_test,df_test.iloc[:, -1])), end = \" \")\n",
        "    skdtc = DecisionTreeClassifier(criterion='entropy', max_depth=df_train.shape[1]-1, min_samples_split=2)\n",
        "    skdtc = skdtc.fit(df_train.drop('Diagnosis',axis=1), df_train.iloc[:, -1])\n",
        "    skpred = skdtc.predict(df_test.iloc[:, :-1])\n",
        "    skacc = calculateAccuracy(skpred, df_test.iloc[:, -1]) * 100\n",
        "    print(\"|  Sklearn test acc = {0:.2f}%, \".format(skacc), end = \" \")\n",
        "    print(\"Test Rsqr = {0:.2f} \".format(r2_score(skpred,df_test.iloc[:, -1])), end = \"\\n\")\n",
        "    "
      ],
      "execution_count": 118,
      "outputs": [
        {
          "output_type": "stream",
          "text": [
            "For:  Max-depth: 9 and Min-samples: 10\n",
            "\n",
            "***** Metric: entropy *****\n",
            "Our tree:  Train acc = 98.39%,  Test acc = 90.00%,  Test Rsqr = 0.52  |  Sklearn test acc = 90.71%,  Test Rsqr = 0.56 \n",
            "\n",
            "***** Metric: gini *****\n",
            "Our tree:  Train acc = 98.03%,  Test acc = 91.43%,  Test Rsqr = 0.60  |  Sklearn test acc = 92.14%,  Test Rsqr = 0.64 \n"
          ],
          "name": "stdout"
        }
      ]
    },
    {
      "cell_type": "markdown",
      "metadata": {
        "id": "TXOy8NUqIHlh"
      },
      "source": [
        "3. Output a depth first traversal of your decision tree in a file named ```outputimp.txt``` respectively in the following format and submit it along with the assignment.\n",
        "\n",
        "\n",
        "```\n",
        "<Node classification criteria in words.>\n",
        "<Branch label>\n",
        "  ... And so on, recursively.\n",
        "```\n",
        " \n",
        "For example,\n",
        "a depth first search traversal for the below decision tree would be:\n",
        "\n",
        "![Decision tree (4).png](data:image/png;base64,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)\n",
        "```\n",
        "Is A>5?\n",
        "True Branch\n",
        "  Is B>10?\n",
        "  True Branch\n",
        "    Versicolor\n",
        "  Is B>10?\n",
        "  False Branch\n",
        "    Setosa\n",
        "Is A>5?\n",
        "False Branch\n",
        "\tVirginica\n",
        "\n",
        "```\n",
        "\n",
        "\n"
      ]
    },
    {
      "cell_type": "code",
      "metadata": {
        "id": "nvqtvFyFOZXF",
        "colab": {
          "base_uri": "https://localhost:8080/"
        },
        "outputId": "85ac9bf7-e8ae-4ca9-9f44-3f2b45310d7d"
      },
      "source": [
        "dt_classfier = MyDecisionTree(df_train, split_metric=metric, max_depth=3, min_samples=10)\n",
        "dt_preds_train = dt_classfier.decisionTreePredictions(df_train)\n",
        "acc_train = calculateAccuracy(edt_preds_train, df_train.iloc[:, -1]) * 100\n",
        "edt_preds_test = dt_classfier.decisionTreePredictions(df_test)\n",
        "acc_test = calculateAccuracy(edt_preds_test, df_test.iloc[:, -1]) * 100\n",
        "print(\"Train acc = {0:.2f}%, \".format(acc_train), end = \" \")\n",
        "print(\"Test acc = {0:.2f}% \".format(acc_test), end = \"\\n\\n\")\n",
        "dt_classfier.showDecisionTree()"
      ],
      "execution_count": 44,
      "outputs": [
        {
          "output_type": "stream",
          "text": [
            "Train acc = 96.78%,  Test acc = 92.86% \n",
            "\n",
            "Is UCSize <= 2.5?\n",
            "True Branch\n",
            "  Is NN <= 3.5?\n",
            "  True Branch\n",
            "    Is BN <= 5.5?\n",
            "    True Branch\n",
            "      Benign\n",
            "    IsBN <= 5.5?\n",
            "    False Branch\n",
            "      Malignant\n",
            "  IsNN <= 3.5?\n",
            "  False Branch\n",
            "    Malignant\n",
            "IsUCSize <= 2.5?\n",
            "False Branch\n",
            "  Is UCShape <= 2.5?\n",
            "  True Branch\n",
            "    Is CT <= 5.5?\n",
            "    True Branch\n",
            "      Benign\n",
            "    IsCT <= 5.5?\n",
            "    False Branch\n",
            "      Malignant\n",
            "  IsUCShape <= 2.5?\n",
            "  False Branch\n",
            "    Malignant\n"
          ],
          "name": "stdout"
        }
      ]
    },
    {
      "cell_type": "markdown",
      "metadata": {
        "id": "ZS1jGnaKOaG7"
      },
      "source": [
        "4. Experiment with removing features that are redundant, highly correlated with other features and report accuracies of the resulting model. Explain your approach."
      ]
    },
    {
      "cell_type": "markdown",
      "metadata": {
        "id": "IPsW3jPcwN85"
      },
      "source": [
        "First, we check if any attribute is not correlated with the Diagnosis attribute and remove that column. Eg. Mitoses"
      ]
    },
    {
      "cell_type": "code",
      "metadata": {
        "colab": {
          "base_uri": "https://localhost:8080/",
          "height": 325
        },
        "id": "c2Rwf8cLpsab",
        "outputId": "1219d9cb-cbba-49c8-c0ec-aba952590e76"
      },
      "source": [
        "X = data\n",
        "corr = X.corr()\n",
        "sns.heatmap(corr)"
      ],
      "execution_count": 134,
      "outputs": [
        {
          "output_type": "execute_result",
          "data": {
            "text/plain": [
              "<matplotlib.axes._subplots.AxesSubplot at 0x7f3a3217bd68>"
            ]
          },
          "metadata": {
            "tags": []
          },
          "execution_count": 134
        },
        {
          "output_type": "display_data",
          "data": {
            "image/png": "[encoded data removed]",
            "text/plain": [
              "<Figure size 432x288 with 2 Axes>"
            ]
          },
          "metadata": {
            "tags": [],
            "needs_background": "light"
          }
        }
      ]
    },
    {
      "cell_type": "markdown",
      "metadata": {
        "id": "U1dZ97pcwttQ"
      },
      "source": [
        "Now we check the correlation between each pair of attributes except Dignosis. From the pair whose correlation is very high, we frop one of the attribute."
      ]
    },
    {
      "cell_type": "code",
      "metadata": {
        "id": "2vMLvn1UOZu7",
        "colab": {
          "base_uri": "https://localhost:8080/",
          "height": 645
        },
        "outputId": "f1439471-a555-41ba-b271-7e1274417030"
      },
      "source": [
        "X = data.drop(labels='Diagnosis', axis=1).drop('Mitoses',axis=1)\n",
        "\n",
        "print('All available features:')\n",
        "print(X.head())\n",
        "\n",
        "corr = X.corr()\n",
        "sns.heatmap(corr)\n",
        "\n",
        "cols = np.full((corr.shape[0],), True, dtype=bool)\n",
        "for i in range(corr.shape[0]):\n",
        "    for j in range(i+1, corr.shape[0]):\n",
        "        if corr.iloc[i,j] >= 0.8:\n",
        "            if cols[j]:\n",
        "                cols[j] = False\n",
        "selected_cols = X.columns[cols]\n",
        "redc_data = data[selected_cols]\n",
        "\n",
        "print('Selected features:')\n",
        "print(selected_cols,redc_data.shape)\n",
        "display(redc_data.head())"
      ],
      "execution_count": 135,
      "outputs": [
        {
          "output_type": "stream",
          "text": [
            "All available features:\n",
            "   CT  UCSize  UCShape  MA  SECSize    BN  BC  NN\n",
            "0   5       1        1   1        2   1.0   3   1\n",
            "1   5       4        4   5        7  10.0   3   2\n",
            "2   3       1        1   1        2   2.0   3   1\n",
            "3   6       8        8   1        3   4.0   3   7\n",
            "4   4       1        1   3        2   1.0   3   1\n",
            "Selected features:\n",
            "Index(['CT', 'UCSize', 'MA', 'SECSize', 'BN', 'BC', 'NN'], dtype='object') (699, 7)\n"
          ],
          "name": "stdout"
        },
        {
          "output_type": "display_data",
          "data": {
            "text/html": [
              "<div>\n",
              "<style scoped>\n",
              "    .dataframe tbody tr th:only-of-type {\n",
              "        vertical-align: middle;\n",
              "    }\n",
              "\n",
              "    .dataframe tbody tr th {\n",
              "        vertical-align: top;\n",
              "    }\n",
              "\n",
              "    .dataframe thead th {\n",
              "        text-align: right;\n",
              "    }\n",
              "</style>\n",
              "<table border=\"1\" class=\"dataframe\">\n",
              "  <thead>\n",
              "    <tr style=\"text-align: right;\">\n",
              "      <th></th>\n",
              "      <th>CT</th>\n",
              "      <th>UCSize</th>\n",
              "      <th>MA</th>\n",
              "      <th>SECSize</th>\n",
              "      <th>BN</th>\n",
              "      <th>BC</th>\n",
              "      <th>NN</th>\n",
              "    </tr>\n",
              "  </thead>\n",
              "  <tbody>\n",
              "    <tr>\n",
              "      <th>0</th>\n",
              "      <td>5</td>\n",
              "      <td>1</td>\n",
              "      <td>1</td>\n",
              "      <td>2</td>\n",
              "      <td>1.0</td>\n",
              "      <td>3</td>\n",
              "      <td>1</td>\n",
              "    </tr>\n",
              "    <tr>\n",
              "      <th>1</th>\n",
              "      <td>5</td>\n",
              "      <td>4</td>\n",
              "      <td>5</td>\n",
              "      <td>7</td>\n",
              "      <td>10.0</td>\n",
              "      <td>3</td>\n",
              "      <td>2</td>\n",
              "    </tr>\n",
              "    <tr>\n",
              "      <th>2</th>\n",
              "      <td>3</td>\n",
              "      <td>1</td>\n",
              "      <td>1</td>\n",
              "      <td>2</td>\n",
              "      <td>2.0</td>\n",
              "      <td>3</td>\n",
              "      <td>1</td>\n",
              "    </tr>\n",
              "    <tr>\n",
              "      <th>3</th>\n",
              "      <td>6</td>\n",
              "      <td>8</td>\n",
              "      <td>1</td>\n",
              "      <td>3</td>\n",
              "      <td>4.0</td>\n",
              "      <td>3</td>\n",
              "      <td>7</td>\n",
              "    </tr>\n",
              "    <tr>\n",
              "      <th>4</th>\n",
              "      <td>4</td>\n",
              "      <td>1</td>\n",
              "      <td>3</td>\n",
              "      <td>2</td>\n",
              "      <td>1.0</td>\n",
              "      <td>3</td>\n",
              "      <td>1</td>\n",
              "    </tr>\n",
              "  </tbody>\n",
              "</table>\n",
              "</div>"
            ],
            "text/plain": [
              "   CT  UCSize  MA  SECSize    BN  BC  NN\n",
              "0   5       1   1        2   1.0   3   1\n",
              "1   5       4   5        7  10.0   3   2\n",
              "2   3       1   1        2   2.0   3   1\n",
              "3   6       8   1        3   4.0   3   7\n",
              "4   4       1   3        2   1.0   3   1"
            ]
          },
          "metadata": {
            "tags": []
          }
        },
        {
          "output_type": "display_data",
          "data": {
            "image/png": "[encoded data removed]",
            "text/plain": [
              "<Figure size 432x288 with 2 Axes>"
            ]
          },
          "metadata": {
            "tags": [],
            "needs_background": "light"
          }
        }
      ]
    },
    {
      "cell_type": "code",
      "metadata": {
        "colab": {
          "base_uri": "https://localhost:8080/"
        },
        "id": "-3PGJ7PeDwZs",
        "outputId": "c9478f94-ef40-4dc3-f14d-30fd2df1db5e"
      },
      "source": [
        "redc_df_train, redc_df_test = splitTrainTest(redc_data, test_size=0.20)\n",
        "# display(redc_df_train.head())\n",
        "\n",
        "metrics = ['entropy', 'gini', 'misclass_rate']\n",
        "\n",
        "for metric in metrics:\n",
        "    print(\"\\n******** split_metric :\",metric,'*********')\n",
        "    i = 1\n",
        "    acc_train = 0\n",
        "    train_acc_rep = 0\n",
        "    prev_acc_train = 0\n",
        "    while acc_train<100 and train_acc_rep<2:\n",
        "        mrdt_classfier = MyDecisionTree(redc_df_train, split_metric=metric, max_depth=i, min_samples=8)\n",
        "        dt_preds_train = mrdt_classfier.decisionTreePredictions(redc_df_train)\n",
        "        acc_train = calculateAccuracy(dt_preds_train, redc_df_train.iloc[:, -1]) * 100\n",
        "        dt_preds_test = mrdt_classfier.decisionTreePredictions(redc_df_test)\n",
        "        acc_test = calculateAccuracy(dt_preds_test, redc_df_test.iloc[:, -1]) * 100\n",
        "        print(\"maxDepth = {}: \".format(i), end = \" \")\n",
        "        print(\"Train acc = {0:.2f}%, \".format(acc_train), end = \" \")\n",
        "        print(\"Test acc = {0:.2f}%, \".format(acc_test), end = \"\\n\")\n",
        "        if prev_acc_train==acc_train:\n",
        "            train_acc_rep += 1\n",
        "        else:\n",
        "            train_acc_rep = 0\n",
        "        prev_acc_train = acc_train\n",
        "        i += 1"
      ],
      "execution_count": 136,
      "outputs": [
        {
          "output_type": "stream",
          "text": [
            "\n",
            "******** split_metric : entropy *********\n",
            "maxDepth = 1:  Train acc = 64.04%,  Test acc = 60.71%, \n",
            "maxDepth = 2:  Train acc = 67.98%,  Test acc = 67.14%, \n",
            "maxDepth = 3:  Train acc = 69.05%,  Test acc = 67.14%, \n",
            "maxDepth = 4:  Train acc = 71.38%,  Test acc = 65.71%, \n",
            "maxDepth = 5:  Train acc = 73.17%,  Test acc = 64.29%, \n",
            "maxDepth = 6:  Train acc = 76.21%,  Test acc = 64.29%, \n",
            "maxDepth = 7:  Train acc = 76.57%,  Test acc = 62.14%, \n",
            "maxDepth = 8:  Train acc = 76.92%,  Test acc = 62.14%, \n",
            "maxDepth = 9:  Train acc = 78.00%,  Test acc = 61.43%, \n",
            "maxDepth = 10:  Train acc = 78.35%,  Test acc = 60.71%, \n",
            "maxDepth = 11:  Train acc = 78.71%,  Test acc = 60.00%, \n",
            "maxDepth = 12:  Train acc = 78.71%,  Test acc = 60.00%, \n",
            "maxDepth = 13:  Train acc = 78.71%,  Test acc = 60.00%, \n",
            "\n",
            "******** split_metric : gini *********\n",
            "maxDepth = 1:  Train acc = 64.04%,  Test acc = 60.71%, \n",
            "maxDepth = 2:  Train acc = 67.98%,  Test acc = 67.14%, \n",
            "maxDepth = 3:  Train acc = 69.95%,  Test acc = 67.14%, \n",
            "maxDepth = 4:  Train acc = 71.38%,  Test acc = 65.71%, \n",
            "maxDepth = 5:  Train acc = 73.52%,  Test acc = 67.14%, \n",
            "maxDepth = 6:  Train acc = 76.39%,  Test acc = 63.57%, \n",
            "maxDepth = 7:  Train acc = 78.00%,  Test acc = 65.00%, \n",
            "maxDepth = 8:  Train acc = 79.25%,  Test acc = 64.29%, \n",
            "maxDepth = 9:  Train acc = 79.96%,  Test acc = 64.29%, \n",
            "maxDepth = 10:  Train acc = 80.68%,  Test acc = 64.29%, \n",
            "maxDepth = 11:  Train acc = 80.86%,  Test acc = 64.29%, \n",
            "maxDepth = 12:  Train acc = 81.04%,  Test acc = 65.00%, \n",
            "maxDepth = 13:  Train acc = 81.04%,  Test acc = 65.00%, \n",
            "maxDepth = 14:  Train acc = 81.04%,  Test acc = 65.00%, \n",
            "\n",
            "******** split_metric : misclass_rate *********\n",
            "maxDepth = 1:  Train acc = 67.62%,  Test acc = 68.57%, \n",
            "maxDepth = 2:  Train acc = 69.05%,  Test acc = 65.71%, \n",
            "maxDepth = 3:  Train acc = 70.84%,  Test acc = 65.00%, \n",
            "maxDepth = 4:  Train acc = 72.45%,  Test acc = 65.00%, \n",
            "maxDepth = 5:  Train acc = 74.06%,  Test acc = 65.00%, \n",
            "maxDepth = 6:  Train acc = 74.78%,  Test acc = 66.43%, \n",
            "maxDepth = 7:  Train acc = 75.13%,  Test acc = 66.43%, \n",
            "maxDepth = 8:  Train acc = 75.49%,  Test acc = 65.71%, \n",
            "maxDepth = 9:  Train acc = 76.57%,  Test acc = 64.29%, \n",
            "maxDepth = 10:  Train acc = 77.10%,  Test acc = 64.29%, \n",
            "maxDepth = 11:  Train acc = 77.64%,  Test acc = 65.00%, \n",
            "maxDepth = 12:  Train acc = 77.82%,  Test acc = 65.71%, \n",
            "maxDepth = 13:  Train acc = 78.18%,  Test acc = 63.57%, \n",
            "maxDepth = 14:  Train acc = 78.53%,  Test acc = 63.57%, \n",
            "maxDepth = 15:  Train acc = 78.71%,  Test acc = 63.57%, \n",
            "maxDepth = 16:  Train acc = 78.71%,  Test acc = 63.57%, \n",
            "maxDepth = 17:  Train acc = 78.71%,  Test acc = 63.57%, \n"
          ],
          "name": "stdout"
        }
      ]
    },
    {
      "cell_type": "markdown",
      "metadata": {
        "id": "IrDwLUnaPdaQ"
      },
      "source": [
        "5. Report the advantages and disadvantages of decision trees based on the above question."
      ]
    },
    {
      "cell_type": "markdown",
      "metadata": {
        "id": "glMTM1WTPfwO"
      },
      "source": [
        "Answer:\n",
        "\n",
        "Advantages:  \n",
        "1) Decision tree is not affected by the scale of the data  \n",
        "2) It is very inuitive and transparent as we can see how the tree is formed  \n",
        "3) It does not require much data preprocessing, even some amount of missing values does not affect the tree  \n",
        "4) Decision tree can be used for both classification and regression problems  \n",
        "5) It can handle both continuous and categorical variables  \n",
        "6) It requires less training time  \n",
        "7) It can model non-linearity in data  \n",
        "  \n",
        "Disadvantages:  \n",
        "1) Decision trees overfit the data easily. So proper techniques should be used to avoid this - pruning, max-depth, min-samples  \n",
        "2) They are unstable, which means adding a new datapoint can change the structure of the tree  \n",
        "3) If the dataset size is very large and has many dimensions then decision trees would lead to poor performance  \n",
        "4) Wrong decision tree would be generated if some data is noisy  \n",
        "5) Reproducibility of decision tree model is highly sensitive as small change in the data can result in large change in the tree structure  \n",
        "6) Decision tree follows greedy approch so may not lead to ideal splits\n",
        "\n"
      ]
    }
  ]
}
{
 "cells": [
  {
   "cell_type": "code",
   "execution_count": 76,
   "metadata": {},
   "outputs": [],
   "source": [
    "import pandas as pd\n",
    "import numpy as np\n",
    "from sklearn.model_selection import train_test_split\n",
    "from sklearn.preprocessing import StandardScaler\n"
   ]
  },
  {
   "cell_type": "code",
   "execution_count": 77,
   "metadata": {},
   "outputs": [
    {
     "name": "stdout",
     "output_type": "stream",
     "text": [
      "        carat    cut  color clarity  depth  table  price      x      y      z\n",
      "count   53940  53940  53940   53940  53940  53940  53940  53940  53940  53940\n",
      "unique    273      5      7       8    184    127  11602    554    552    375\n",
      "top       0.3  Ideal      G     SI1     62     56    605   4.37   4.34    2.7\n",
      "freq     2604  21551  11292   13065   2239   9881    132    448    437    767\n",
      "  carat      cut color clarity depth table price     x     y     z\n",
      "1  0.23    Ideal     E     SI2  61.5    55   326  3.95  3.98  2.43\n",
      "2  0.21  Premium     E     SI1  59.8    61   326  3.89  3.84  2.31\n",
      "3  0.23     Good     E     VS1  56.9    65   327  4.05  4.07  2.31\n",
      "4  0.29  Premium     I     VS2  62.4    58   334   4.2  4.23  2.63\n",
      "5  0.31     Good     J     SI2  63.3    58   335  4.34  4.35  2.75\n"
     ]
    }
   ],
   "source": [
    "'''To read data from diamonds.csv'''\n",
    "headers = [\"carat\",\t\"cut\",\"color\",\"clarity\",\"depth\",\"table\",\"price\",\"x\",\"y\",\"z\"]\n",
    "data = pd.read_csv('Regression_Diamonds_data/diamonds.csv', na_values=np.NaN,    \n",
    "         header=None,  names = headers) \n",
    "data = data.reset_index(drop=True)\n",
    "data = data.iloc[1:]\n",
    "data = data[:1000]\n",
    "print(data.describe())\n",
    "print(data.head()) "
   ]
  },
  {
   "cell_type": "code",
   "execution_count": 78,
   "metadata": {},
   "outputs": [
    {
     "name": "stdout",
     "output_type": "stream",
     "text": [
      "carat NaN : 0\n",
      "cut NaN : 0\n",
      "color NaN : 0\n",
      "clarity NaN : 0\n",
      "depth NaN : 0\n",
      "table NaN : 0\n",
      "price NaN : 0\n",
      "x NaN : 0\n",
      "y NaN : 0\n",
      "z NaN : 0\n"
     ]
    }
   ],
   "source": [
    "'''Check for NaNs'''\n",
    "for h in headers:\n",
    "    print(h,\"NaN :\",data[h].isnull().sum())\n",
    "    \n"
   ]
  },
  {
   "cell_type": "code",
   "execution_count": 79,
   "metadata": {},
   "outputs": [
    {
     "name": "stdout",
     "output_type": "stream",
     "text": [
      "  carat  cut  color  clarity depth table price     x     y     z\n",
      "1  0.23    4      5        1  61.5    55   326  3.95  3.98  2.43\n",
      "2  0.21    3      5        2  59.8    61   326  3.89  3.84  2.31\n",
      "3  0.23    1      5        4  56.9    65   327  4.05  4.07  2.31\n",
      "4  0.29    3      1        3  62.4    58   334   4.2  4.23  2.63\n",
      "5  0.31    1      0        1  63.3    58   335  4.34  4.35  2.75\n"
     ]
    }
   ],
   "source": [
    "'''Convert categorical attributes to numeric'''\n",
    "cat_to_num = {\"cut\":{\"Fair\":0, \"Good\":1, \"Very Good\":2, \"Premium\":3, \"Ideal\":4}, \n",
    "              \"clarity\":{\"I1\":0, \"SI2\":1, \"SI1\":2, \"VS2\":3, \"VS1\":4, \"VVS2\":5, \"VVS1\":6, \"IF\":7},\n",
    "              \"color\":{\"J\":0, \"I\":1, \"H\":2, \"G\":3, \"F\":4, \"E\":5, \"D\":6}}\n",
    "data = data.replace(cat_to_num)\n",
    "print(data.head())\n",
    "# data = pd.get_dummies(data,columns=['color'])"
   ]
  },
  {
   "cell_type": "code",
   "execution_count": 80,
   "metadata": {},
   "outputs": [],
   "source": [
    "for h in headers:\n",
    "    data[h] = pd.to_numeric(data[h],downcast='float')\n",
    "\n",
    "# data"
   ]
  },
  {
   "cell_type": "code",
   "execution_count": 81,
   "metadata": {},
   "outputs": [
    {
     "name": "stdout",
     "output_type": "stream",
     "text": [
      "   carat  cut  color  clarity      depth  table     x     y     z\n",
      "1   0.23  4.0    5.0      1.0  61.500000   55.0  3.95  3.98  2.43\n",
      "2   0.21  3.0    5.0      2.0  59.799999   61.0  3.89  3.84  2.31\n",
      "3   0.23  1.0    5.0      4.0  56.900002   65.0  4.05  4.07  2.31\n",
      "4   0.29  3.0    1.0      3.0  62.400002   58.0  4.20  4.23  2.63\n",
      "5   0.31  1.0    0.0      1.0  63.299999   58.0  4.34  4.35  2.75\n",
      "1    326.0\n",
      "2    326.0\n",
      "3    327.0\n",
      "4    334.0\n",
      "5    335.0\n",
      "Name: price, dtype: float32\n"
     ]
    }
   ],
   "source": [
    "'''Separating X & y'''\n",
    "X = data.drop('price', axis=1)\n",
    "y = data.price\n",
    "print(X.head())\n",
    "print(y.head())"
   ]
  },
  {
   "cell_type": "code",
   "execution_count": 82,
   "metadata": {},
   "outputs": [],
   "source": [
    "X_train, X_test, y_train, y_test = train_test_split(X, y, test_size=0.20,random_state=1)\n",
    "\n",
    "### add standardize experiment"
   ]
  },
  {
   "cell_type": "code",
   "execution_count": 110,
   "metadata": {},
   "outputs": [],
   "source": [
    "'''Minkowski distance function'''\n",
    "def minkowski_dist(x1, x2, p=1):\n",
    "    dim = len(x1)\n",
    "    dist = 0\n",
    "    for d in range(dim):\n",
    "#         print(x1[d],type(x1[d]))\n",
    "        dist += abs(x1[d] - x2[d])**p\n",
    "    dist = dist**(1/p)\n",
    "    return dist\n",
    "\n",
    "# print(minkowski_dist(X.iloc[0],X.iloc[1],2))"
   ]
  },
  {
   "cell_type": "code",
   "execution_count": null,
   "metadata": {},
   "outputs": [],
   "source": [
    "all_dists = []\n",
    "def cal_all_dists():\n",
    "    for i in X_test.index:\n",
    "        cur_dists = []\n",
    "#         print(X_test.loc[i])\n",
    "        for j in X_train.index:\n",
    "            cur_dists.append(minkowski_dist(X_test.loc[i],X_train.loc[j]))\n",
    "        df_cur_dists = pd.DataFrame(data=cur_dists, columns=['dist'], index=y_train.index)\n",
    "        df_sorted_curdists = df_cur_dists.sort_values(by=['dist'], axis=0)\n",
    "        all_dists.append(df_sorted_curdists)\n",
    "\n",
    "cal_all_dists()\n",
    "print(all_dists)\n"
   ]
  },
  {
   "cell_type": "code",
   "execution_count": 105,
   "metadata": {},
   "outputs": [
    {
     "name": "stdout",
     "output_type": "stream",
     "text": [
      "carat       0.330000\n",
      "cut         4.000000\n",
      "color       2.000000\n",
      "clarity     2.000000\n",
      "depth      61.700001\n",
      "table      55.000000\n",
      "x           4.430000\n",
      "y           4.460000\n",
      "z           2.740000\n",
      "Name: 2715, dtype: float32\n"
     ]
    }
   ],
   "source": [
    "print(X_test.iloc[0])"
   ]
  },
  {
   "cell_type": "code",
   "execution_count": null,
   "metadata": {},
   "outputs": [],
   "source": []
  }
 ],
 "metadata": {
  "kernelspec": {
   "display_name": "Python 3",
   "language": "python",
   "name": "python3"
  },
  "language_info": {
   "codemirror_mode": {
    "name": "ipython",
    "version": 3
   },
   "file_extension": ".py",
   "mimetype": "text/x-python",
   "name": "python",
   "nbconvert_exporter": "python",
   "pygments_lexer": "ipython3",
   "version": "3.6.5"
  }
 },
 "nbformat": 4,
 "nbformat_minor": 2
}
